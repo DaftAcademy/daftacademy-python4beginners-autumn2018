{
 "cells": [
  {
   "cell_type": "markdown",
   "metadata": {
    "slideshow": {
     "slide_type": "slide"
    }
   },
   "source": [
    "# Wykład 7:\n",
    "# Jak nie zrobić sobie krzywdy\n",
    "##  testy jednostkowe, pytest, tdd\n",
    "# Wojciech Łuszczyński\n",
    "### 11.XII.2018, Daft Academy Python4Beginners"
   ]
  },
  {
   "cell_type": "markdown",
   "metadata": {
    "slideshow": {
     "slide_type": "slide"
    }
   },
   "source": [
    "# 1. Testowanie kodu"
   ]
  },
  {
   "cell_type": "markdown",
   "metadata": {
    "slideshow": {
     "slide_type": "subslide"
    }
   },
   "source": [
    "## Co to jest testowanie?\n",
    "- uruchamianie kodu naszego programu w celu sprawdzenia, czy robi to, co powinien\n",
    "\n"
   ]
  },
  {
   "cell_type": "markdown",
   "metadata": {
    "slideshow": {
     "slide_type": "subslide"
    }
   },
   "source": [
    "### Program testing can be used to show the presence of bugs, but never to show their absence!\n",
    "Edsker D. Dijkstra (1970)"
   ]
  },
  {
   "cell_type": "markdown",
   "metadata": {
    "slideshow": {
     "slide_type": "subslide"
    }
   },
   "source": [
    "## Testy automatyczne \n",
    "- dodatkowe fragmenty programu, które uruchamiają nasz główny kod, a następnie porównują wyniki z oczekiwaniami\n",
    "- są szybkie do uruchomienia\n",
    "- są powtarzalne\n",
    "- wszyscy z zespołu są w stanie powtórzyć test"
   ]
  },
  {
   "cell_type": "markdown",
   "metadata": {
    "slideshow": {
     "slide_type": "subslide"
    }
   },
   "source": [
    "## Debugowanie\n",
    "- proces szukania błędu w kodzie, a następnie naprawiania go"
   ]
  },
  {
   "cell_type": "markdown",
   "metadata": {
    "slideshow": {
     "slide_type": "subslide"
    }
   },
   "source": [
    "## Dlaczego testujemy\n",
    "- testowanie pozwala upewnić się, że w wybranych przez nas warunkach wszystko działa tak jak chcemy\n",
    "- zmniejsza strach przed zmianami\n",
    "- łatwiejsze niż debugowanie!"
   ]
  },
  {
   "cell_type": "markdown",
   "metadata": {
    "slideshow": {
     "slide_type": "slide"
    }
   },
   "source": [
    "## Test Driven Development (TDD)\n",
    "1. napisać nieprzechodzący test\n",
    "2. zmienić kod w najłatwiejszy możliwy sposób żeby test przeszedł\n",
    "3. zrobić refactor"
   ]
  },
  {
   "cell_type": "markdown",
   "metadata": {
    "slideshow": {
     "slide_type": "subslide"
    }
   },
   "source": [
    "## Podstawowe testy jednostkowe w samym python"
   ]
  },
  {
   "cell_type": "markdown",
   "metadata": {
    "slideshow": {
     "slide_type": "subslide"
    }
   },
   "source": [
    "### Zadanie z `assert`\n",
    "Napisać funkcję __flatten__, która dostaję listę zagnieżdżonych list i zwraca je jako listę na jednym poziomie.\n",
    "\n",
    "np. flatten([1, 2, 3, [4, 5]]) == [1, 2, 3, 4, 5]"
   ]
  },
  {
   "cell_type": "code",
   "execution_count": 5,
   "metadata": {
    "slideshow": {
     "slide_type": "subslide"
    }
   },
   "outputs": [],
   "source": [
    "assert flatten([1, 2, 3]) == [1, 2, 3]\n",
    "assert flatten([1, [2, 3], 4]) == [1, 2, 3, 4]\n",
    "assert flatten([]) == []\n",
    "assert flatten([[1, 2, [3, 4, 5], [6], 7, 8], 9]) == [1, 2, 3, 4, 5, 6, 7, 8, 9]"
   ]
  },
  {
   "cell_type": "code",
   "execution_count": 3,
   "metadata": {
    "slideshow": {
     "slide_type": "subslide"
    }
   },
   "outputs": [],
   "source": [
    "def flatten(element):\n",
    "    return list(flatten_gen(element))\n",
    "\n",
    "def flatten_gen(element):\n",
    "    for e in element:\n",
    "        if isinstance(e, list):\n",
    "            for e_elem in flatten_gen(e):\n",
    "                yield e_elem\n",
    "        else:\n",
    "            yield e"
   ]
  },
  {
   "cell_type": "markdown",
   "metadata": {
    "slideshow": {
     "slide_type": "subslide"
    }
   },
   "source": [
    "## Assert\n",
    "- `assert` jest częścią składni pythona nie funckją\n",
    "- jego działanie zwraca None jeśli wynik operacji poprzedzony assertem rzutuje na prawdę logiczną.\n",
    "- jeśli wynik operacji po assercie jest Fałszem, rzucany jest wyjątek `AssertionError`\n",
    "- nie zaleca się umieszczać assertów w kodzie programu a jedynie w testach\n",
    "- można globalnie wyłączyć dla projketu w trakcie działania zdolność asserów do rzucania wyjątkiem\n"
   ]
  },
  {
   "cell_type": "markdown",
   "metadata": {
    "slideshow": {
     "slide_type": "slide"
    }
   },
   "source": [
    "## Poziom wyżej dla pythonowych testów `pytest`"
   ]
  },
  {
   "cell_type": "markdown",
   "metadata": {
    "slideshow": {
     "slide_type": "subslide"
    }
   },
   "source": [
    "1. Tworzymy nowy virtualenv\n",
    "2. Aktywujemy go\n",
    "3. Instalujemy z __pytest__"
   ]
  },
  {
   "cell_type": "markdown",
   "metadata": {
    "slideshow": {
     "slide_type": "subslide"
    }
   },
   "source": [
    "Tworzymy nowe środowisko z `pipenv` od razu installując `pytest`: \n",
    "```\n",
    "mkdir testing_project\n",
    "cd testing_project\n",
    "pipenv install pytest\n",
    "```"
   ]
  },
  {
   "cell_type": "markdown",
   "metadata": {
    "slideshow": {
     "slide_type": "subslide"
    }
   },
   "source": [
    "__`pytest`__: Framework do testowania:\n",
    "- ułatwia pisanie i organizację testów\n",
    "- daje narzędzie do odpalania i wyszukiwania testów\n",
    "- wyświetla wyniki w ładnej formie\n",
    "\n",
    "http://pythontesting.net/framework/pytest/pytest-introduction/"
   ]
  },
  {
   "cell_type": "code",
   "execution_count": 8,
   "metadata": {
    "slideshow": {
     "slide_type": "subslide"
    }
   },
   "outputs": [],
   "source": [
    "def test_flatten_not_nested_list():\n",
    "    test_list = [1, 2, 3]\n",
    "    result = flatten(test_list)\n",
    "    assert result == [1, 2, 3]\n",
    "\n",
    "def test_flatten_nested_list():\n",
    "    test_list = [1, [2, 3], 4]\n",
    "    result = flatten(test_list)\n",
    "    assert result == [1, 2, 3, 4]\n",
    "\n",
    "def test_flatten_empty_list():\n",
    "    test_list = []\n",
    "    result = flatten(test_list)\n",
    "    assert result == []\n",
    "\n",
    "def test_flatten_different_nestings():\n",
    "    test_list = [[1, 2, [3, 4, 5], [6], 7, 8], 9]\n",
    "    result = flatten(test_list)\n",
    "    assert result == [1, 2, 3, 4, 5, 6, 7, 8, 9]"
   ]
  },
  {
   "cell_type": "markdown",
   "metadata": {
    "slideshow": {
     "slide_type": "subslide"
    }
   },
   "source": [
    "Tak przygotowane testy możemy uruchmoć komendą:\n",
    "```\n",
    "pytest\n",
    "```\n",
    "Samo wywołanie `pytest` uruchomi wszystkie testy w projekcie.\n",
    "Można też wykonać konkretny plik z testami:\n",
    "```\n",
    "python -m pytest test_pytest.py\n",
    "pytest test_pytest.py\n",
    "```"
   ]
  },
  {
   "cell_type": "markdown",
   "metadata": {
    "slideshow": {
     "slide_type": "slide"
    }
   },
   "source": [
    "# 2. Metodologia testowania"
   ]
  },
  {
   "cell_type": "markdown",
   "metadata": {
    "slideshow": {
     "slide_type": "subslide"
    }
   },
   "source": [
    "## Podejście do testowania projektu\n",
    "- Tak dużo jak jest projektów tak dużo i podejść do testowania. Standaryzacja musiała kiedyś nadejść. Jest nawet dokument ISO mówiący od testowaniu:\n",
    "http://www.softwaretestingstandard.org/part2.php\n",
    "- W pytkonie zazwyczaj piszemy 2 typy testów:\n",
    "    - jednostkowe\n",
    "    - integracyjne\n",
    "- Wyrażniamy jeszce testy:\n",
    "    - systemowe\n",
    "    - akceptacyjne"
   ]
  },
  {
   "cell_type": "markdown",
   "metadata": {
    "slideshow": {
     "slide_type": "subslide"
    }
   },
   "source": [
    "### Testy __jednostkowe__\n",
    "- zwane też modułowymi\n",
    "- testują funkcjonalność pojedynczych metod, klas, modułów\n",
    "- w projekcie jest ich zazwyczaj najwięcej"
   ]
  },
  {
   "cell_type": "markdown",
   "metadata": {
    "slideshow": {
     "slide_type": "subslide"
    }
   },
   "source": [
    "### Testy __integracyje__\n",
    "- testują zależności pomiędzy modułami\n",
    "- wprowadzają scenarjusz testów który w ramach jedengo testu integracyjnego uruchamia wiele testów jednostkowych\n",
    "- testują konkretne przypadki użycia programu\n",
    "- w projekcie jest ich zazwyczaj znacznie mniej niż testów jednostkowych"
   ]
  },
  {
   "cell_type": "markdown",
   "metadata": {
    "slideshow": {
     "slide_type": "subslide"
    }
   },
   "source": [
    "### Testy __systemowe__ oraz __akceptacyjne__\n",
    "- testy systemowe\n",
    "    - mają na celu sprawdzenie działania programu w danym środowisku\n",
    "    - sprawdzają popraność działania w danej architekturze (też i wirtualnej)\n",
    "\n",
    "\n",
    "- testy akceptacyjne\n",
    "    - raczej testy nie automatyczne\n",
    "    - sprawdzają poziom satysfakcji z działania programu\n",
    "    - sprawdzają konkretne przypadki użycia\n",
    "   "
   ]
  },
  {
   "cell_type": "markdown",
   "metadata": {
    "slideshow": {
     "slide_type": "slide"
    }
   },
   "source": [
    "# Dobre testy\n",
    "- szybkie\n",
    "- zautomatyzonwane\n",
    "- przewidywalne\n",
    "- dające dobrą informację zwrotną\n",
    "- skupiające się na jednym aspekcie na raz\n",
    "- dobrze izolowane"
   ]
  },
  {
   "cell_type": "markdown",
   "metadata": {
    "slideshow": {
     "slide_type": "subslide"
    }
   },
   "source": [
    "# Izolacja testów\n",
    "- testy nie powinny mieć wpływu na siebie nawzajem\n",
    "- błąd w jednym teście nie przerywa wykonania testów\n",
    "- każdy test powinien przejść zarówno odpalany pojedynczo jak i w grupie\n",
    "- testy powinny być na tyle izolowane że mogą przejść w dowolnej kolejności"
   ]
  },
  {
   "cell_type": "markdown",
   "metadata": {
    "slideshow": {
     "slide_type": "slide"
    }
   },
   "source": [
    "# 3.Mockowanie"
   ]
  },
  {
   "cell_type": "markdown",
   "metadata": {
    "slideshow": {
     "slide_type": "subslide"
    }
   },
   "source": [
    "## Mock\n",
    "- zachowuje się jak dowolny obiekt\n",
    "- zapisuje co się z nim dzieje (jakie akcje sę na nim wykonywane itp)\n",
    "- można na nim później wywołać assert\n",
    "- łatwiej popsuć testy, bo polegamy na dokładnej implementacji danego kawałka\n",
    "- używamy z `with` ! źle wykonane mokowanie które zmienia wbudowany modół może żutować na zachowanie całego projektu\n",
    "\n",
    "\n",
    "https://docs.python.org/3/library/unittest.mock.html"
   ]
  },
  {
   "cell_type": "code",
   "execution_count": 1,
   "metadata": {
    "slideshow": {
     "slide_type": "subslide"
    }
   },
   "outputs": [
    {
     "name": "stdout",
     "output_type": "stream",
     "text": [
      "Przed mockowaniem\n",
      "0.678551932059265\n",
      "0.6484146987228591\n",
      "0.9839819474831134\n"
     ]
    }
   ],
   "source": [
    "import random\n",
    "from unittest.mock import patch\n",
    "\n",
    "print('Przed mockowaniem')\n",
    "for i in range(3):\n",
    "    print(random.random())"
   ]
  },
  {
   "cell_type": "code",
   "execution_count": 11,
   "metadata": {
    "slideshow": {
     "slide_type": "subslide"
    }
   },
   "outputs": [
    {
     "name": "stdout",
     "output_type": "stream",
     "text": [
      "Zamockowany random\n",
      "0.05\n",
      "0.05\n",
      "0.05\n",
      "Po mockowaniu\n",
      "0.6728159974868347\n",
      "0.9869595209313629\n",
      "0.9260093905220674\n"
     ]
    }
   ],
   "source": [
    "with patch('random.random') as mock_random:\n",
    "    print('Zamockowany random')\n",
    "    mock_random.return_value = 0.05\n",
    "    for i in range(3):\n",
    "        print(random.random())\n",
    "        \n",
    "print('Po mockowaniu')\n",
    "for i in range(3):\n",
    "    print(random.random())"
   ]
  },
  {
   "cell_type": "markdown",
   "metadata": {
    "slideshow": {
     "slide_type": "subslide"
    }
   },
   "source": [
    "# Debugowanie - jak sobie z tym radzić\n",
    "- najprostszy sposób - wstawianie printów do kodu\n",
    "- lepszy sposób - użycie interaktywnego debuggera"
   ]
  },
  {
   "cell_type": "markdown",
   "metadata": {
    "slideshow": {
     "slide_type": "fragment"
    }
   },
   "source": [
    "Debugger jest dostępny w bibliotece standardowej:\n",
    "\n",
    "https://docs.python.org/3.7/library/pdb.html\n",
    "\n",
    "https://github.com/nblock/pdb-cheatsheet"
   ]
  },
  {
   "cell_type": "code",
   "execution_count": null,
   "metadata": {
    "slideshow": {
     "slide_type": "subslide"
    }
   },
   "outputs": [],
   "source": [
    "def test_function():\n",
    "    ...\n",
    "    import pdb;pdb.set_trace()"
   ]
  },
  {
   "cell_type": "markdown",
   "metadata": {
    "slideshow": {
     "slide_type": "fragment"
    }
   },
   "source": [
    "- `pdb` można importować dosłownie wszędzie, nie musi być to konkretny testcase\n",
    "- na `breakpoint` wykonanie programu zostaje wstrzymane i czeka na interakcję ze strony użytkownika\n",
    "- UWAGA! zawsze usówać brakepointy przed commitowaniem kodu do repozytorium !!\n",
    "- Warto napisać Githook który wykrywa użycie PDB w kocie i uniemożliwa commitowanie kodu"
   ]
  },
  {
   "cell_type": "code",
   "execution_count": null,
   "metadata": {
    "slideshow": {
     "slide_type": "subslide"
    }
   },
   "outputs": [],
   "source": [
    "#!/bin/bash\n",
    "# based on http://www.snip2code.com/Snippet/165926/Check-for-ipdb-breakpoints-git-hook\n",
    "\n",
    "pdb_check=$(git grep -E -n '[ ;]i?pdb')\n",
    "if [ ${#pdb_check} -gt 0 ]\n",
    "then\n",
    "        echo \"COMMIT REJECTED: commit contains code with break points.\"\n",
    "        echo $pdb_check\n",
    "        exit 1\n",
    "else\n",
    "        echo \"Code contains no break points\"\n",
    "fi\n",
    "exit 0"
   ]
  }
 ],
 "metadata": {
  "kernelspec": {
   "display_name": "Python 3",
   "language": "python",
   "name": "python3"
  },
  "language_info": {
   "codemirror_mode": {
    "name": "ipython",
    "version": 3
   },
   "file_extension": ".py",
   "mimetype": "text/x-python",
   "name": "python",
   "nbconvert_exporter": "python",
   "pygments_lexer": "ipython3",
   "version": "3.7.1"
  },
  "toc-autonumbering": false,
  "toc-showcode": false,
  "toc-showmarkdowntxt": false,
  "toc-showtags": false
 },
 "nbformat": 4,
 "nbformat_minor": 2
}
