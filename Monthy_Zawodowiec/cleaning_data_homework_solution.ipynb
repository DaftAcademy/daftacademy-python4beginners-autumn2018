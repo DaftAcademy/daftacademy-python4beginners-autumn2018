{
 "cells": [
  {
   "cell_type": "markdown",
   "metadata": {},
   "source": [
    "# DaftAcademy: Python 4 Beginners\n",
    "\n",
    "## Wykład 6: CZYSZCZENIE I WIZUALIZACJA DANYCH\n",
    "\n",
    "### 4 XII 2018\n",
    "\n",
    "### Paweł M. Święcki"
   ]
  },
  {
   "cell_type": "markdown",
   "metadata": {},
   "source": [
    "# Praca domowa"
   ]
  },
  {
   "cell_type": "markdown",
   "metadata": {},
   "source": [
    "Mamy plik `personal_data_homework.csv`. Plik ma tę samą strukturę, co plik omawiany na zajęciach. Tym razem naszym zadaniem jest oczyścić pola `id_number` oraz `monthly_salary`.\n",
    "\n",
    "### Specyfikacja `id_number`\n",
    "\n",
    "**`{dwuliterowy_skrót_nazwy_działu}/{sześciocyfrowy_numer}/{rok_zatrudnienia}`**\n",
    "\n",
    "na przykład:\n",
    "\n",
    "- `\"ZA/434503/2005\"`\n",
    "\n",
    "- `\"IT/222345/2009\"`\n",
    "\n",
    "- `\"OC/983421/2017\"`\n",
    "\n",
    "A dokładniej:\n",
    "\n",
    "- Skrót nazwy działu\n",
    "    - jeden z: `{'ZA', 'IT', 'KS', 'KA', 'LO', 'SP', 'MA', 'CZ', 'OC'}`\n",
    "    - wielkimi\n",
    "\n",
    "- Sześciocyfrowy numer:\n",
    "    - `123456` ok\n",
    "    - `12345` nie ok\n",
    "    - `12345x` nie ok\n",
    "    - `1234.5` nie ok\n",
    "\n",
    "- Rok zatrudnienia:\n",
    "    - od `1900` \n",
    "    - do `2018`"
   ]
  },
  {
   "cell_type": "markdown",
   "metadata": {},
   "source": [
    "## Treść zadań"
   ]
  },
  {
   "cell_type": "markdown",
   "metadata": {},
   "source": [
    "### ZADANIE 1: Liczenie unikalnych `id_number` przed czyszczeniem"
   ]
  },
  {
   "cell_type": "markdown",
   "metadata": {},
   "source": [
    "Napisz funkcję `count_unique_id_numbers_before_clean`, która przyjmie nazwę pliku csv (`str`), a zwróci `int`a, którego wartością będzie **liczba unikalnych wartości `id_number`** w przekazanym pliku csv. Ma być to wartość **przed jakimkolwiek czyszczeniem** pliku csv. Do testów używamy pliku `personal_data_homework.csv`. Formatowanie pliku to UTF-8.\n",
    "\n",
    "\n",
    "**Przykład**\n",
    "\n",
    "Dla wyjściowych danych (ignoruję tu inne kolumny, w pliku będą wszystkie, co na zajęciach):\n",
    "\n",
    "1. `\"KA/123456/2005\"`\n",
    "\n",
    "2. `\"IT/111111/2001\"`\n",
    "\n",
    "3. `\"IT/111111/2001\"`\n",
    "\n",
    "4. `\"IT/111111/   2001\"`\n",
    "\n",
    "Unikalnych wartości `id_number` jest `3` (trzy):\n",
    "\n",
    "- `\"KA/123456/2005\"` (1.)\n",
    "\n",
    "- `\"IT/111111/2001\"` (2. i 3.)\n",
    "\n",
    "- `\"IT/111111/   2001\"` (4.)\n",
    "\n",
    "Pozycja 4. nie równa się pozycji 2. oraz 3., bo ma dodatkowe spacje w środku.\n",
    "\n",
    "**Kształt funkcji**\n",
    "\n",
    "```python\n",
    "def count_unique_id_numbers_before_clean(filename):\n",
    "    ...\n",
    "\n",
    "```"
   ]
  },
  {
   "cell_type": "markdown",
   "metadata": {},
   "source": [
    "### ZADANIE 2: walidacja wartości `id_number`\n",
    "\n",
    "Napisz funkcję `validate_id_number`, która:\n",
    "\n",
    "1. przyjmuje `id_number` (`str`) oraz\n",
    "\n",
    "2. zwraca wartość typu `bool`: `True`, jeśli `id_number` jest zgodny z opisaną specyfikacją, a `False`, jeśli nie jest zgodny. \n",
    "\n",
    "\n",
    "Uwagi: \n",
    "\n",
    "- Funkcja ma sprawdzać wyłącznie poprawność przekazanej wartości, nie ma robić nic więcej (jak na przykład sprawdzanie unikalności).\n",
    "\n",
    "- Funkcja ma być przygotowana, by poprawnie walidować wszystkie wartości `id_number` z pliku `personal_data_homework.csv`. Dodatkowo ma sobie radzić z wartościami zepsutymi na wiele innych sposobów, w tym takich, które nie nadają się do oczyszczenia (np. z brakującymi danymi).\n",
    "\n",
    "\n",
    "**Kształt funkcji**\n",
    "\n",
    "```python\n",
    "def validate_id_number(id_number):\n",
    "    ...\n",
    "```"
   ]
  },
  {
   "cell_type": "markdown",
   "metadata": {},
   "source": [
    "### ZADANIE 3: czyszczenie `id_number` i liczenie unikalnych `id_number` po czyszczeniu\n",
    "\n",
    "Napisz funkcję `count_unique_id_numbers_after_clean`, która przyjmie nazwę pliku csv (`str`), a zwróci `int`a, którego wartością będzie **liczba unikalnych `id_number`** w przekazanym pliku csv. Ma być to wartość **po czyszczeniu** pliku csv. Do testów używamy pliku `personal_data_homework.csv` (tego samego, co w zadaniu 1).\n",
    "\n",
    "Uwagi:\n",
    "\n",
    "- Funkcję czyszczącą trzeba napisać samemu i wywołać ją w `count_unique_id_numbers_after_clean`. Mogą przydać się materiały z wykładu.\n",
    "\n",
    "- W przekazanym pliku nie będzie wartości `id_number`, której nie da się oczyścić (np. z brakującymi danymi).\n",
    "\n",
    "- W przekazanym pliku nie będzie pustych `id_number`.\n",
    "\n",
    "(Podpowiedź: po oczyszczeniu wszystkich `id_number` funkcja `validate_id_number` z poprzedniego zadania powinna zwrócić `True` dla wszystkich tych oczyszczonych wartości. `validate_id_number` musi być oczywiście poprawnie napisana;)\n",
    "\n",
    "**Przykład**\n",
    "\n",
    "Dla wyjściowych danych (ignoruję tu inne kolumny, w pliku będą wszystkie, co na zajęciach):\n",
    "\n",
    "1. `\"KA/123456/2005\"`\n",
    "\n",
    "2. `\"IT/111111/2001\"`\n",
    "\n",
    "3. `\"IT/111111/2001\"`\n",
    "\n",
    "4. `\"IT/111111/   2001\"`\n",
    "\n",
    "Unikalnych wartości, po czyszczeniu, `id_number` jest `2` (dwa):\n",
    "\n",
    "- `\"KA/123456/2005\"` (1.)\n",
    "\n",
    "- `\"IT/111111/2001\"` (2., 3., 4.)\n",
    "\n",
    "Jest tak, bo po czyszczeniu `\"IT/111111/   2001\"` powinien stać się `\"IT/111111/2001\"`, czyli tym samym, co pozycje 2. oraz 3.\n",
    "\n",
    "\n",
    "**Kształt funkcji**\n",
    "\n",
    "```python\n",
    "def count_unique_id_numbers_after_clean(filename):\n",
    "    ...\n",
    "```"
   ]
  },
  {
   "cell_type": "markdown",
   "metadata": {},
   "source": [
    "### ZADANIE 4: wyznaczanie mediany `monthly_salary` pięciu najkosztowniejszych pracowników w danym dziale\n",
    "\n",
    "Napisz funkcję `median_of_top_five`, która przyjmuje:\n",
    "\n",
    "- `filename` -- nazwę pliku CSV, w którym mamy dane (struktura pliku będzie taka sama jak na zajęciach),\n",
    "\n",
    "- `department_name` (`str`) -- dwuliterowy skrót nazwy działu firmy, pisany wielkimi literami.\n",
    "\n",
    "Funkcja ma zwracać wartość `Decimal` z medianą wynagrodzeń pięciu najlepiej zarabiających pracowników firmy w danym dziale. \n",
    "\n",
    "Uwagi:\n",
    "\n",
    "- Działu szukamy w kolumnie `department_name`, a nie wyciągamy go z `id_number`. Zatem jeśli brakuje wartości pod `department_name`, to ignorujemy ten wiersz.\n",
    "\n",
    "- Zadaniem tej funkcji nie jest radzenie sobie z duplikatami. Zatem nie usuwamy duplikatów. Jeśli wiersz powtórzony, to traktujemy je jako dwa różne wiersze.\n",
    "\n",
    "- Dane walutowe w pliku (kolumna `monthly_salary`) są do oczyszczenia. Niestety będą miały dodatkowe \"brudy\" względem tych pokazanych na zajęciach. Brudy te trzeba zaleźć i usunąć. Będą również puste wartości, należy je zignorować (nie mają wartości zero!).\n",
    "\n",
    "- W trakcie czyszczenia dane mają być zaokrąglane do dwóch miejsc po przecinku, tak jak na zajęciach.\n",
    "\n",
    "\n",
    "**Kształt funkcji**\n",
    "\n",
    "\n",
    "```python\n",
    "def median_of_top_five(filename, department):\n",
    "    ...\n",
    "```"
   ]
  },
  {
   "cell_type": "markdown",
   "metadata": {},
   "source": [
    "## Przykładowe rozwiązania"
   ]
  },
  {
   "cell_type": "markdown",
   "metadata": {},
   "source": [
    "### Przegląd danych"
   ]
  },
  {
   "cell_type": "code",
   "execution_count": 1,
   "metadata": {},
   "outputs": [],
   "source": [
    "import csv\n",
    "\n",
    "def get_csv_lines(filename):\n",
    "    with open(filename, encoding='UTF-8') as csv_file:\n",
    "        reader = csv.DictReader(csv_file, delimiter=',')\n",
    "        for row in reader:\n",
    "            yield row"
   ]
  },
  {
   "cell_type": "code",
   "execution_count": 2,
   "metadata": {},
   "outputs": [
    {
     "data": {
      "text/plain": [
       "OrderedDict([('first_name', 'GRZEGORZ'),\n",
       "             ('last_name', 'Włodarczyk'),\n",
       "             ('id_number', 'MA-146894-2018'),\n",
       "             ('employment_start_date', '2018-08-27'),\n",
       "             ('monthly_salary', '6151.200000000001 ZŁ '),\n",
       "             ('department', ''),\n",
       "             ('multisport', '')])"
      ]
     },
     "execution_count": 2,
     "metadata": {},
     "output_type": "execute_result"
    }
   ],
   "source": [
    "list(get_csv_lines('personal_data_homework_1.csv'))[0]"
   ]
  },
  {
   "cell_type": "markdown",
   "metadata": {
    "slideshow": {
     "slide_type": ""
    }
   },
   "source": [
    "Zobaczmy `id_number`..."
   ]
  },
  {
   "cell_type": "code",
   "execution_count": 3,
   "metadata": {},
   "outputs": [
    {
     "data": {
      "text/plain": [
       "['MA-146894-2018',\n",
       " 'sp/494627/2012',\n",
       " 'ka/685993/2010',\n",
       " 'CZ/248946/2014',\n",
       " 'sp/397651/2018',\n",
       " 'SP/539735/2017',\n",
       " 'MA/391182/2016 ',\n",
       " 'ma/979022/2014',\n",
       " 'KS-731782-2010',\n",
       " 'MA/477132/2017',\n",
       " 'SP/905823/2012',\n",
       " 'cz/891481/2013',\n",
       " 'SP/642838/2018',\n",
       " 'MA/618440/2010',\n",
       " 'KS/922768/2013',\n",
       " 'SP/249691/2011',\n",
       " 'SP/624360/2013  ',\n",
       " 'KA_547801_2013',\n",
       " 'ka/544772/2014',\n",
       " 'OC.765140.2013',\n",
       " 'SP/800343/2012',\n",
       " 'ks/578532/2011',\n",
       " 'MA.484214.2014',\n",
       " 'MA/442450/2015',\n",
       " 'lo/570357/2013']"
      ]
     },
     "execution_count": 3,
     "metadata": {},
     "output_type": "execute_result"
    }
   ],
   "source": [
    "people = get_csv_lines('personal_data_homework_1.csv')\n",
    "\n",
    "[person['id_number'] for person in people][:25]"
   ]
  },
  {
   "cell_type": "markdown",
   "metadata": {},
   "source": [
    "O_o"
   ]
  },
  {
   "cell_type": "markdown",
   "metadata": {},
   "source": [
    "Co jest z tymi `monthly_salary`..."
   ]
  },
  {
   "cell_type": "code",
   "execution_count": 4,
   "metadata": {},
   "outputs": [
    {
     "data": {
      "text/plain": [
       "['6151.200000000001 ZŁ ',\n",
       " '5333.295000000001 zł',\n",
       " '3410.6200000000003 ZŁ',\n",
       " '3336.5 ZŁ',\n",
       " '4519.35 pln',\n",
       " '4995.0 PLN',\n",
       " '4396.8 ZŁ ',\n",
       " '4567.024 pln',\n",
       " '5544.6 ZŁ',\n",
       " '3711.4880000000007 ZŁ',\n",
       " '4504.5 ZŁ',\n",
       " '2 784,7 ZŁ',\n",
       " '4784.85 PLN',\n",
       " '5145.6 zł',\n",
       " '6 329,400000000001 złotych']"
      ]
     },
     "execution_count": 4,
     "metadata": {},
     "output_type": "execute_result"
    }
   ],
   "source": [
    "people = get_csv_lines('personal_data_homework_1.csv')\n",
    "\n",
    "[person['monthly_salary'] for person in people][:15]"
   ]
  },
  {
   "cell_type": "markdown",
   "metadata": {},
   "source": [
    "o_O"
   ]
  },
  {
   "cell_type": "markdown",
   "metadata": {},
   "source": [
    "### Czyszczenie danych"
   ]
  },
  {
   "cell_type": "code",
   "execution_count": 5,
   "metadata": {},
   "outputs": [],
   "source": [
    "from collections import OrderedDict\n",
    "from datetime import date\n",
    "from decimal import Decimal\n",
    "\n",
    "\n",
    "class PersonalDataCleaner:\n",
    "    \"\"\"\n",
    "    Cleaner of personal data. \n",
    "    \n",
    "    Usage:\n",
    "      Pass an iterable of dicts to `clean` method, which \n",
    "      will yield dicts with cleaned data.\n",
    "    \"\"\"\n",
    "    \n",
    "    STRINGS_REPRESENTING_TRUE = {'1', 'prawda', 'tak', 'ma', 'true'}\n",
    "    STRINGS_REPRESENTING_FALSE = {'0', 'fałsz', 'nie', 'nie ma', 'false'}\n",
    "    \n",
    "    STRINGS_REPRESENTING_PLN = ('złotych', 'zł', 'pln')               # <== DO ZADANIA 4\n",
    "    \n",
    "    def __init__(self):\n",
    "        map_string_to_true = {\n",
    "            k: True\n",
    "            for k in self.STRINGS_REPRESENTING_TRUE\n",
    "        }\n",
    "        map_string_to_false = {\n",
    "            k: False\n",
    "            for k in self.STRINGS_REPRESENTING_FALSE\n",
    "        }\n",
    "        self.map_string_to_bool = {\n",
    "            **map_string_to_true,\n",
    "            **map_string_to_false,\n",
    "        }\n",
    "\n",
    "    def clean(self, rows):\n",
    "        for row in rows:\n",
    "            # czyszczenie wspólne dla wszystkich kolumn\n",
    "            clean_row = self._clean_all_items(row)\n",
    "\n",
    "            # czyszczenie wyspecjalizowane\n",
    "            clean_row['first_name'] = (\n",
    "                self._clean_name(clean_row['first_name'])\n",
    "            )\n",
    "            clean_row['last_name'] = (\n",
    "                self._clean_name(clean_row['last_name'])\n",
    "            )\n",
    "            clean_row['id_number'] = (\n",
    "                self._clean_id_number(clean_row['id_number'])\n",
    "            )\n",
    "            clean_row['employment_start_date'] = (\n",
    "                self._clean_date(clean_row['employment_start_date'])\n",
    "            )\n",
    "            clean_row['monthly_salary'] = (\n",
    "                self._clean_monetary_value(clean_row['monthly_salary'])\n",
    "            )\n",
    "            clean_row['department'] = (\n",
    "                self._clean_department(clean_row['department'])\n",
    "            )\n",
    "            clean_row['multisport'] = (\n",
    "                self._clean_multisport(clean_row['multisport'])\n",
    "            )\n",
    "    \n",
    "            yield clean_row\n",
    "            \n",
    "    def _clean_all_items(self, row):\n",
    "        clean_row = OrderedDict()\n",
    "        for key, value in row.items():\n",
    "            clean_value = value.strip()\n",
    "            clean_value = clean_value or None\n",
    "            clean_row[key] = clean_value\n",
    "        return clean_row\n",
    "\n",
    "    def _clean_name(self, name):\n",
    "        if name is None:\n",
    "            return None\n",
    "        return name.title()\n",
    "\n",
    "    def _clean_id_number(self, id_number):\n",
    "        id_number = id_number.replace('-', '/')    #\n",
    "        id_number = id_number.replace('.', '/')    # <== DO ZADANIA 3\n",
    "        id_number = id_number.replace('_', '/')    #\n",
    "        id_number = id_number.upper()              #\n",
    "        return id_number\n",
    "\n",
    "    def _clean_date(self, date_string):\n",
    "        if date_string is None:\n",
    "            return None\n",
    "\n",
    "        # YYYY-MM-DD{T}HH:MM:SS --> YYYY-MM-DD\n",
    "        date_string = date_string.partition('T')[0]\n",
    "    \n",
    "        # YYYY/MM/DD --> YYYY-MM-DD\n",
    "        date_string = date_string.replace('/', '-')\n",
    "    \n",
    "        # convert to `date` object (exception on wrong format)\n",
    "        year, month, day = date_string.split('-')\n",
    "        date_obj = date(year=int(year), month=int(month), day=int(day))\n",
    "    \n",
    "        return date_obj\n",
    "\n",
    "    def _clean_monetary_value(self, amount):\n",
    "        if amount is None:\n",
    "            return None\n",
    "        \n",
    "        amount = amount.lower()                                #\n",
    "        for pln_string in self.STRINGS_REPRESENTING_PLN:       # <== DO ZADANIA 4\n",
    "            amount = amount.replace(pln_string, '')            #\n",
    "            # ważna kolejność w `STRINGS_REPRESENTING_PLN`...\n",
    "        \n",
    "        amount = amount.replace(' ', '')\n",
    "        amount = amount.replace(',', '.')\n",
    "\n",
    "        return Decimal(amount).quantize(Decimal('0.01'))\n",
    "        \n",
    "    def _clean_department(self, department):\n",
    "        return department\n",
    "\n",
    "    def _clean_multisport(self, something):\n",
    "        if something is None:\n",
    "            return None\n",
    "        something = something.lower()\n",
    "        return self.map_string_to_bool[something]"
   ]
  },
  {
   "cell_type": "code",
   "execution_count": 6,
   "metadata": {},
   "outputs": [],
   "source": [
    "people = PersonalDataCleaner().clean(get_csv_lines('personal_data_homework_1.csv'))"
   ]
  },
  {
   "cell_type": "code",
   "execution_count": 7,
   "metadata": {},
   "outputs": [
    {
     "data": {
      "text/plain": [
       "[OrderedDict([('first_name', 'Grzegorz'),\n",
       "              ('last_name', 'Włodarczyk'),\n",
       "              ('id_number', 'MA/146894/2018'),\n",
       "              ('employment_start_date', datetime.date(2018, 8, 27)),\n",
       "              ('monthly_salary', Decimal('6151.20')),\n",
       "              ('department', None),\n",
       "              ('multisport', None)]),\n",
       " OrderedDict([('first_name', 'Franciszek'),\n",
       "              ('last_name', 'Maciejewski'),\n",
       "              ('id_number', 'SP/494627/2012'),\n",
       "              ('employment_start_date', None),\n",
       "              ('monthly_salary', Decimal('5333.30')),\n",
       "              ('department', 'SPRZEDAŻ'),\n",
       "              ('multisport', True)]),\n",
       " OrderedDict([('first_name', 'Jacek'),\n",
       "              ('last_name', 'Jasiński'),\n",
       "              ('id_number', 'KA/685993/2010'),\n",
       "              ('employment_start_date', datetime.date(2010, 6, 10)),\n",
       "              ('monthly_salary', Decimal('3410.62')),\n",
       "              ('department', 'KADRY'),\n",
       "              ('multisport', False)])]"
      ]
     },
     "execution_count": 7,
     "metadata": {},
     "output_type": "execute_result"
    }
   ],
   "source": [
    "list(people)[:3]"
   ]
  },
  {
   "cell_type": "markdown",
   "metadata": {},
   "source": [
    "### ZADANIE 1: `count_unique_id_numbers_before_clean`"
   ]
  },
  {
   "cell_type": "code",
   "execution_count": 8,
   "metadata": {},
   "outputs": [],
   "source": [
    "def count_unique_id_numbers_before_clean(filename):\n",
    "    # getting data\n",
    "    data = get_csv_lines(filename)\n",
    "    \n",
    "    unique_ids = {\n",
    "        person['id_number']\n",
    "        for person in data\n",
    "    }\n",
    "    return len(unique_ids)"
   ]
  },
  {
   "cell_type": "code",
   "execution_count": 9,
   "metadata": {},
   "outputs": [],
   "source": [
    "assert count_unique_id_numbers_before_clean('personal_data_homework_1.csv') == 1588"
   ]
  },
  {
   "cell_type": "markdown",
   "metadata": {},
   "source": [
    "### ZADANIE 2: `validate_id_number`"
   ]
  },
  {
   "cell_type": "code",
   "execution_count": 10,
   "metadata": {},
   "outputs": [],
   "source": [
    "valid_departments = {'ZA', 'IT', 'KS', 'KA', 'LO', 'SP', 'MA', 'CZ', 'OC'}\n",
    "\n",
    "\n",
    "def validate_id_number(id_number):\n",
    "    if len(id_number) != 14:\n",
    "        return False\n",
    "    try:\n",
    "        department, id_, year = id_number.split('/')\n",
    "    except ValueError:\n",
    "        # split returned not a three-tuple\n",
    "        return False\n",
    "    \n",
    "    if department not in valid_departments:\n",
    "        return False\n",
    "    \n",
    "    if not id_.isdigit() or not year.isdigit():\n",
    "        return False\n",
    "    \n",
    "    if (1900 > int(year)) or (int(year) > 2018):\n",
    "            return False\n",
    "    \n",
    "    assert len(id_) == 6  # we know it's true (invariant)\n",
    "\n",
    "    return True    "
   ]
  },
  {
   "cell_type": "code",
   "execution_count": 11,
   "metadata": {},
   "outputs": [],
   "source": [
    "assert validate_id_number(\"SP/987543/2000\") is True\n",
    "assert validate_id_number(\"ZA/434503/2005\") is True\n",
    "assert validate_id_number(\"IT/987543/2000\") is True\n",
    "assert validate_id_number(\"KS/434503/2005\") is True\n",
    "assert validate_id_number(\"SP/987543/2000\") is True\n",
    "assert validate_id_number(\"OC/434503/2005\") is True\n",
    "assert validate_id_number(\"CZ/434503/2005\") is True\n",
    "assert validate_id_number(\"KA/434503/2005\") is True\n",
    "assert validate_id_number(\"LO/434503/2005\") is True\n",
    "\n",
    "assert validate_id_number(\"ZA/111111/2018\") is True\n",
    "assert validate_id_number(\"OC/123456/1901\") is True\n",
    "assert validate_id_number(\"OC/123456/1900\") is True\n",
    "assert validate_id_number(\"OC/123456/1899\") is False\n",
    "\n",
    "assert validate_id_number(\"\") is False\n",
    "assert validate_id_number(\" \") is False\n",
    "assert validate_id_number(\"ble\") is False\n",
    "assert validate_id_number(\"ble ble\") is False\n",
    "assert validate_id_number(\"bl/ble/eee\") is False\n",
    "assert validate_id_number(\"bl/bleble/blee\") is False\n",
    "assert validate_id_number(\"bl/343430/qqqq\") is False\n",
    "assert validate_id_number(\"bl/343431/0000\") is False\n",
    "assert validate_id_number(\"bl/34343/0000\") is False\n",
    "assert validate_id_number(\"BL/343431/0000\") is False\n",
    "assert validate_id_number(\"ZA/43450/2005\") is False\n",
    "assert validate_id_number(\"OC/98342111/2017\") is False\n",
    "assert validate_id_number(\"it/222345/2001\") is False\n",
    "assert validate_id_number(\"IT/222345/1800\") is False\n",
    "assert validate_id_number(\"IT/222345/1899\") is False\n",
    "assert validate_id_number(\"RR/983421/2017\") is False\n",
    "assert validate_id_number(\"ZA-983421-2017\") is False\n",
    "assert validate_id_number(\"ZA.987654.2011\") is False\n",
    "assert validate_id_number(\"ZA/98342x/2017\") is False\n",
    "assert validate_id_number(\"XX/987654/2011\") is False\n",
    "assert validate_id_number(\"ZA.987654.2011\") is False\n",
    "assert validate_id_number(\"ZA/98342/2017/2\") is False\n",
    "assert validate_id_number(\"ZA/9842/2017/2\") is False\n",
    "assert validate_id_number(\"ZA/434503/2005 \") is False\n",
    "assert validate_id_number(\"ZA/43450/2005\") is False\n",
    "assert validate_id_number(\"XX/987654/2011\") is False\n",
    "assert validate_id_number(\"IT/34343/1800\") is False\n",
    "\n",
    "assert validate_id_number(\" IT/123456/2009\") is False\n",
    "assert validate_id_number(\"I T/123456/2009\") is False\n",
    "assert validate_id_number(\"IT /123456/2009\") is False\n",
    "assert validate_id_number(\"IT/ 123456/2009\") is False\n",
    "assert validate_id_number(\"IT/1 23456/2009\") is False\n",
    "assert validate_id_number(\"IT/12 3456/2009\") is False\n",
    "assert validate_id_number(\"IT/123 456/2009\") is False\n",
    "assert validate_id_number(\"IT/1234 56/2009\") is False\n",
    "assert validate_id_number(\"IT/12345 6/2009\") is False\n",
    "assert validate_id_number(\"IT/123456 /2009\") is False\n",
    "assert validate_id_number(\"IT/123456/ 2009\") is False\n",
    "assert validate_id_number(\"IT/123456/2 009\") is False\n",
    "assert validate_id_number(\"IT/123456/20 09\") is False\n",
    "assert validate_id_number(\"IT/123456/200 9\") is False\n",
    "assert validate_id_number(\"IT/123456/2009 \") is False"
   ]
  },
  {
   "cell_type": "markdown",
   "metadata": {},
   "source": [
    "### ZADANIE 3: `count_unique_id_numbers_after_clean`"
   ]
  },
  {
   "cell_type": "code",
   "execution_count": 12,
   "metadata": {},
   "outputs": [],
   "source": [
    "def count_unique_id_numbers_after_clean(filename):\n",
    "    # getting data\n",
    "    data = get_csv_lines(filename)\n",
    "    \n",
    "    # cleaning data\n",
    "    clean_data = PersonalDataCleaner().clean(data)\n",
    "    \n",
    "    unique_ids = {\n",
    "        person['id_number']\n",
    "        for person in clean_data\n",
    "    }\n",
    "\n",
    "    for unique_id in unique_ids:\n",
    "        assert validate_id_number(unique_id)\n",
    "\n",
    "    return len(unique_ids)"
   ]
  },
  {
   "cell_type": "code",
   "execution_count": 13,
   "metadata": {},
   "outputs": [],
   "source": [
    "assert count_unique_id_numbers_after_clean('personal_data_homework_1.csv') == 1533\n",
    "assert count_unique_id_numbers_after_clean('personal_data_homework_2.csv') == 5694"
   ]
  },
  {
   "cell_type": "markdown",
   "metadata": {},
   "source": [
    "### ZADANIE 4: `median_of_top_five`"
   ]
  },
  {
   "cell_type": "code",
   "execution_count": 14,
   "metadata": {},
   "outputs": [],
   "source": [
    "from statistics import median\n",
    "\n",
    "def median_of_top_five(filename, department):\n",
    "    # getting data\n",
    "    data = get_csv_lines(filename)\n",
    "    \n",
    "    # cleaning data\n",
    "    clean_data = PersonalDataCleaner().clean(data)\n",
    "    \n",
    "    # getting all non-None salaries \n",
    "    salaries = [\n",
    "        person['monthly_salary']\n",
    "        for person in clean_data    \n",
    "        # ignoring not defined salaries\n",
    "        if person['monthly_salary'] is not None\n",
    "        # ignoring not defined departments\n",
    "        if person['department']\n",
    "        # first two letters of department are expected\n",
    "        if person['department'][:2] == department\n",
    "    ]\n",
    "    \n",
    "    # sorting salaries in reverse order ...\n",
    "    salaries = sorted(salaries, reverse=True)\n",
    "    \n",
    "    # ... to get top 5 of them\n",
    "    top_five = salaries[:5]\n",
    "\n",
    "    # getting medium of them and returning it\n",
    "    return median(top_five)"
   ]
  },
  {
   "cell_type": "code",
   "execution_count": 15,
   "metadata": {},
   "outputs": [],
   "source": [
    "assert median_of_top_five('personal_data_homework_1.csv', 'IT') == Decimal(\"9160.25\")\n",
    "assert median_of_top_five('personal_data_homework_1.csv', 'ZA') == Decimal(\"90640.00\")\n",
    "assert median_of_top_five('personal_data_homework_1.csv', 'LO') == Decimal(\"5104.84\")\n",
    "\n",
    "assert median_of_top_five('personal_data_homework_2.csv', 'IT') == Decimal(\"9083.25\")\n",
    "assert median_of_top_five('personal_data_homework_2.csv', 'ZA') == Decimal(\"95958.50\")\n",
    "assert median_of_top_five('personal_data_homework_2.csv', 'LO') == Decimal(\"5181.17\")"
   ]
  }
 ],
 "metadata": {
  "kernelspec": {
   "display_name": "Python 3",
   "language": "python",
   "name": "python3"
  },
  "language_info": {
   "codemirror_mode": {
    "name": "ipython",
    "version": 3
   },
   "file_extension": ".py",
   "mimetype": "text/x-python",
   "name": "python",
   "nbconvert_exporter": "python",
   "pygments_lexer": "ipython3",
   "version": "3.6.6"
  }
 },
 "nbformat": 4,
 "nbformat_minor": 2
}
