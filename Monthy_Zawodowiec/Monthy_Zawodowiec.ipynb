{
 "cells": [
  {
   "cell_type": "markdown",
   "metadata": {
    "slideshow": {
     "slide_type": "slide"
    }
   },
   "source": [
    "# Monthy Zawodowiec\n",
    "## Marcin Jaroszewski\n",
    "### 04.XII.2018, Python4Beginners"
   ]
  },
  {
   "cell_type": "markdown",
   "metadata": {
    "slideshow": {
     "slide_type": "slide"
    }
   },
   "source": [
    "## Co już umiemy"
   ]
  },
  {
   "cell_type": "markdown",
   "metadata": {
    "slideshow": {
     "slide_type": "fragment"
    }
   },
   "source": [
    "- programować :)"
   ]
  },
  {
   "cell_type": "markdown",
   "metadata": {
    "slideshow": {
     "slide_type": "fragment"
    }
   },
   "source": [
    "- używać zależności"
   ]
  },
  {
   "cell_type": "markdown",
   "metadata": {
    "slideshow": {
     "slide_type": "subslide"
    }
   },
   "source": [
    "## Jesteśmy w stanie napisać kawałek kodu użyteczny też dla innych."
   ]
  },
  {
   "cell_type": "markdown",
   "metadata": {
    "slideshow": {
     "slide_type": "fragment"
    }
   },
   "source": [
    "Problem, przed jakim stoimy to w jaki sposób dystrybuować naszą pracę/twórczość?"
   ]
  },
  {
   "cell_type": "markdown",
   "metadata": {
    "slideshow": {
     "slide_type": "slide"
    }
   },
   "source": [
    "## Metody dystrybucji"
   ]
  },
  {
   "cell_type": "markdown",
   "metadata": {
    "slideshow": {
     "slide_type": "subslide"
    }
   },
   "source": [
    "- Rozsyłanie źródeł (mailem, na stronce jakiejś, ...)."
   ]
  },
  {
   "cell_type": "markdown",
   "metadata": {
    "slideshow": {
     "slide_type": "fragment"
    }
   },
   "source": [
    "_Strasznie biedne rozwiązanie nadaje się do wewnętrznych narzędzi w firmie/korpo._"
   ]
  },
  {
   "cell_type": "markdown",
   "metadata": {
    "slideshow": {
     "slide_type": "subslide"
    }
   },
   "source": [
    "- Źródła na github/bitbucket/... i rozsyłanie linków do repo."
   ]
  },
  {
   "cell_type": "markdown",
   "metadata": {
    "slideshow": {
     "slide_type": "fragment"
    }
   },
   "source": [
    "_O niebo lepsze, ale dalej bieda też raczej tylko zamknięty świat firmowy._"
   ]
  },
  {
   "cell_type": "markdown",
   "metadata": {
    "slideshow": {
     "slide_type": "subslide"
    }
   },
   "source": [
    "- Paczka do zainstalowania sobie przez pip leżąca gdzieś na jakiejś stronce do pobrania."
   ]
  },
  {
   "cell_type": "markdown",
   "metadata": {
    "slideshow": {
     "slide_type": "fragment"
    }
   },
   "source": [
    "_Średnio, chyba nawet gorzej niż źródła link do źródeł na github/bitbucket/... Też w zasadzie tylko narzędzia wewnętrzne._"
   ]
  },
  {
   "cell_type": "markdown",
   "metadata": {
    "slideshow": {
     "slide_type": "subslide"
    }
   },
   "source": [
    "- Paczka na PyPi (https://pypi.org/) i źródła na jakimś ogólnodostępnym repo."
   ]
  },
  {
   "cell_type": "markdown",
   "metadata": {
    "slideshow": {
     "slide_type": "fragment"
    }
   },
   "source": [
    "_To jest jedyna słuszna droga, jeśli chcemy zaistnieć poza korpo światkiem._"
   ]
  },
  {
   "cell_type": "markdown",
   "metadata": {
    "slideshow": {
     "slide_type": "slide"
    }
   },
   "source": [
    "## Przygotowanie własnej paczki"
   ]
  },
  {
   "cell_type": "markdown",
   "metadata": {
    "slideshow": {
     "slide_type": "subslide"
    }
   },
   "source": [
    "### Kod"
   ]
  },
  {
   "cell_type": "markdown",
   "metadata": {
    "slideshow": {
     "slide_type": "fragment"
    }
   },
   "source": [
    "```python\n",
    "from datetime import datetime\n",
    "\n",
    "def today():\n",
    "\treturn datetime.now()\n",
    "\n",
    "if __name__ == '__main__':\n",
    "\tprint(today())\n",
    "\n",
    "```"
   ]
  },
  {
   "cell_type": "markdown",
   "metadata": {
    "slideshow": {
     "slide_type": "subslide"
    }
   },
   "source": [
    "### Struktura"
   ]
  },
  {
   "cell_type": "markdown",
   "metadata": {
    "slideshow": {
     "slide_type": "fragment"
    }
   },
   "source": [
    "```\n",
    "ktory_dzis             <-- top level\n",
    "├── ktory_dzis         <-- wewnętrzny\n",
    "│   ├── __init__.py    <-- pokazuje, że tu są źródła\n",
    "│   └── source.py      <-- tu jest nasz kod, nazwa prawie dowolna\n",
    "├── LICENSE            <-- Licencja\n",
    "├── README.md          <-- Dokumentacja\n",
    "└── setup.py           <-- Przepis na zapakowanie\n",
    "```"
   ]
  },
  {
   "cell_type": "markdown",
   "metadata": {
    "slideshow": {
     "slide_type": "subslide"
    }
   },
   "source": [
    "### setup.py"
   ]
  },
  {
   "cell_type": "markdown",
   "metadata": {
    "slideshow": {
     "slide_type": "subslide"
    }
   },
   "source": [
    "```python\n",
    "import setuptools\n",
    "\n",
    "with open(\"README.md\", \"r\") as f:\n",
    "    long_description = f.read()\n",
    "\n",
    "setuptools.setup(\n",
    "    name=\"ktory_dzis\",\n",
    "    version=\"0.1.5\",\n",
    "    author=\"Nicram Ikswezsoraj\",\n",
    "    author_email=\"cvbsrhjfbshjvbjxhdfbvskhgvb@mailinator.com\",\n",
    "    description=\"Package to tell you what time it is\",\n",
    "    long_description=long_description,\n",
    "    long_description_content_type=\"text/markdown\",\n",
    "    # url=\"https://github.com/pypa/sampleproject\",\n",
    "    packages=setuptools.find_packages(),\n",
    "    classifiers=[\n",
    "        \"Programming Language :: Python :: 3\",\n",
    "        \"License :: OSI Approved :: MIT License\",\n",
    "        \"Operating System :: OS Independent\",\n",
    "    ],\n",
    ")\n",
    "```"
   ]
  },
  {
   "cell_type": "markdown",
   "metadata": {
    "slideshow": {
     "slide_type": "subslide"
    }
   },
   "source": [
    "### \\_\\_init\\_\\_.py"
   ]
  },
  {
   "cell_type": "markdown",
   "metadata": {
    "slideshow": {
     "slide_type": "fragment"
    }
   },
   "source": [
    "```python\n",
    "from .source import today\n",
    "\n",
    "name = 'ktory_dzis'\n",
    "```"
   ]
  },
  {
   "cell_type": "markdown",
   "metadata": {
    "slideshow": {
     "slide_type": "subslide"
    }
   },
   "source": [
    "### Ściągawki/pomoce\n",
    "\n",
    "- https://packaging.python.org/tutorials/packaging-projects/\n",
    "- https://python-packaging.readthedocs.io/en/latest/minimal.html"
   ]
  },
  {
   "cell_type": "markdown",
   "metadata": {
    "slideshow": {
     "slide_type": "subslide"
    }
   },
   "source": [
    "### Budujemy"
   ]
  },
  {
   "cell_type": "markdown",
   "metadata": {
    "slideshow": {
     "slide_type": "fragment"
    }
   },
   "source": [
    "1. `python3 -m pip install --user --upgrade setuptools wheel` - tylko raz\n",
    "2. `python3.7 setup.py sdist bdist_wheel` - za każdym razem"
   ]
  },
  {
   "cell_type": "markdown",
   "metadata": {
    "slideshow": {
     "slide_type": "subslide"
    }
   },
   "source": [
    "### Wysyłamy w świat"
   ]
  },
  {
   "cell_type": "markdown",
   "metadata": {
    "slideshow": {
     "slide_type": "fragment"
    }
   },
   "source": [
    "3. `python3 -m pip install --user --upgrade twine` - tylko raz\n",
    "4. `twine upload --repository-url https://test.pypi.org/legacy/ dist/*` - za każdym razem"
   ]
  },
  {
   "cell_type": "markdown",
   "metadata": {
    "slideshow": {
     "slide_type": "subslide"
    }
   },
   "source": [
    "### Sprawdzamy czy pykło"
   ]
  },
  {
   "cell_type": "markdown",
   "metadata": {
    "slideshow": {
     "slide_type": "fragment"
    }
   },
   "source": [
    "1. https://test.pypi.org/project/ktory-dzis/\n",
    "2. Tworzymy nowe środowisko,\n",
    "    - instalujemy,\n",
    "    - importujemy,\n",
    "    - używamy"
   ]
  },
  {
   "cell_type": "markdown",
   "metadata": {
    "slideshow": {
     "slide_type": "slide"
    }
   },
   "source": [
    "### To było absolutne minimum"
   ]
  }
 ],
 "metadata": {
  "celltoolbar": "Slideshow",
  "kernelspec": {
   "display_name": "Python 3",
   "language": "python",
   "name": "python3"
  },
  "language_info": {
   "codemirror_mode": {
    "name": "ipython",
    "version": 3
   },
   "file_extension": ".py",
   "mimetype": "text/x-python",
   "name": "python",
   "nbconvert_exporter": "python",
   "pygments_lexer": "ipython3",
   "version": "3.7.1"
  }
 },
 "nbformat": 4,
 "nbformat_minor": 2
}
