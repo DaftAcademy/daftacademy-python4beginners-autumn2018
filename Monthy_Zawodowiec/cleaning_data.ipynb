{
 "cells": [
  {
   "cell_type": "markdown",
   "metadata": {},
   "source": [
    "# DaftAcademy: Python 4 Beginners\n",
    "\n",
    "## Wykład 6: CZYSZCZENIE I WIZUALIZACJA DANYCH\n",
    "\n",
    "### 4 XII 2018\n",
    "\n",
    "### Paweł M. Święcki"
   ]
  },
  {
   "cell_type": "markdown",
   "metadata": {},
   "source": [
    "-----------------------------------"
   ]
  },
  {
   "cell_type": "markdown",
   "metadata": {},
   "source": [
    "# 0. KONTEKST"
   ]
  },
  {
   "cell_type": "markdown",
   "metadata": {},
   "source": [
    "## Format danych"
   ]
  },
  {
   "cell_type": "markdown",
   "metadata": {},
   "source": [
    "Plik CSV: `personal_data.csv`:\n",
    "\n",
    "Nagłówek (pierwszy wiersz):\n",
    "\n",
    "```\n",
    "first_name,last_name,id_number,employment_start_date,monthly_salary,department,multisport\n",
    "```\n",
    "Dane (pozostałe wiersze):\n",
    "```\n",
    "Bernard,Adamski,LO/45418/2016,2016-07-24,5220.00,LOGISTYKA,True\n",
    "Ryszard,Zakrzewski,KA/70437/2014,2014-01-06,6525.00,KADRY,False\n",
    "Weronika,Mazur,ZA-42348-2017,2017-06-19,22200.00,ZARZĄD,True\n",
    "```"
   ]
  },
  {
   "cell_type": "markdown",
   "metadata": {},
   "source": [
    "### Poszczególne kolumny"
   ]
  },
  {
   "cell_type": "markdown",
   "metadata": {},
   "source": [
    "### `first_name`\n",
    "\n",
    "Imię pracownika.\n",
    "\n",
    "### `last_name`\n",
    "\n",
    "Nazwisko pracownika.\n",
    "\n",
    "### `id_number`\n",
    "ID pracownika. \n",
    "\n",
    "Składa się on z: **`{dwuliterowy_skrót_nazwy_działu}/{numer}/{rok_zatrudnienia}`**.\n",
    "\n",
    "Np. `KA/70437/2014`, `LO/45418/2016`, `MA/82480/2016`, itp.\n",
    "\n",
    "### `employment_start_date`\n",
    "Data zadrudnienia pracownika w formacie `YYYY-MM-DD`.\n",
    "\n",
    "### `monthly_salary`\n",
    "Miesięczne wynagrodzenie pracownika.\n",
    "\n",
    "### `department`\n",
    "Dział, w którym dana osoba pracuje.\n",
    "\n",
    "Jeden z: `{'ZARZĄD', 'IT', 'KSIĘGOWOŚĆ', 'KADRY', 'LOGISTYKA', 'SPRZEDAŻ', 'MARKETING', 'CZYSTOŚĆ', 'OCHRONA'}`.\n",
    "\n",
    "### `multisport`\n",
    "\n",
    "Czy osoba ma kartę multisport? `'True'` albo `'False'`."
   ]
  },
  {
   "cell_type": "markdown",
   "metadata": {},
   "source": [
    "## Zadania do wykonania\n",
    "\n",
    "\n",
    "1. Wyznaczyć średnią i medianę wynagrodzeń.\n",
    "\n",
    "2. Wyznaczyć średnią i medianę wynagrodzeń w poszczególnych działach firmy.\n",
    "\n",
    "3. Sprawdzić, czy posiadanie karty multisport związane jest z wysokością zarobków.\n",
    "\n",
    "4. Określić liczbę osób pracujących w poszczególnych działach firmy.\n",
    "\n",
    "5. Znaleźć osobę zarabiającą najwięcej oraz osobę zarabiającą najmniej.\n",
    "\n",
    "6. Sprawdzić kiedy zatrudniony został pierwszy pracownik działu kadr.\n",
    "\n",
    "\n",
    "Podobne zadania będziemy wykonywać często. Warto więc przygotować sobie do tego narzędzia, by za bardzo się nie napracować :D"
   ]
  },
  {
   "cell_type": "markdown",
   "metadata": {},
   "source": [
    "# 1. ŁADOWANIE I CZYSZCZENIE DANYCH"
   ]
  },
  {
   "cell_type": "markdown",
   "metadata": {},
   "source": [
    "## Ładowanie danych"
   ]
  },
  {
   "cell_type": "code",
   "execution_count": 73,
   "metadata": {},
   "outputs": [],
   "source": [
    "import csv\n",
    "\n",
    "in_filename = 'personal_data.csv'\n",
    "out_filename = 'clean_personal_data.csv'\n",
    "\n",
    "# with open(in_filename) as csv_file:\n",
    "#     csv_reader = csv.reader(csv_file, delimiter=',')\n",
    "#     for line in csv_reader:\n",
    "#         print(line)"
   ]
  },
  {
   "cell_type": "markdown",
   "metadata": {},
   "source": [
    "Szybki Google pokazuje, że znak `0x...` jest literą `...` z kodowania `Windows-1250`. Python spodziewa się `UTF-8`."
   ]
  },
  {
   "cell_type": "markdown",
   "metadata": {},
   "source": [
    "Google ...\n",
    "\n",
    "Dokumentacja: https://docs.python.org/3/howto/unicode.html."
   ]
  },
  {
   "cell_type": "code",
   "execution_count": 74,
   "metadata": {},
   "outputs": [
    {
     "name": "stdout",
     "output_type": "stream",
     "text": [
      "['first_name', 'last_name', 'id_number', 'employment_start_date', 'monthly_salary', 'department', 'multisport']\n",
      "['Urszula', 'Szewczyk', 'CZ/594959/2014', '2014-09-06T00:00:00', '2436.9', 'CZYSTOŚĆ', 'false']\n",
      "['Stanisława', 'Kowalska', 'LO/374979/2010', '2010-04-20', '3407.4', 'LOGISTYKA', '0']\n",
      "['Ilona', 'Pawlak', 'SP/598919/2014', '2014-04-09', '4676.760000000001', 'SPRZEDAŻ', 'true']\n",
      "['Marek', 'Kwiatkowski', 'MA/913484/2010', '2010-09-17  ', '5533.968000000002', 'MARKETING', 'ma']\n",
      "['Barbara ', 'Wiśniewska', 'SP/441969/2017', '2017-09-10T00:00:00', '4 731,210000000001', 'SPRZEDAŻ', 'tak']\n",
      "['Robert', 'Walczak', 'SP/996950/2012', '2012-05-09', '5306.895000000001', 'SPRZEDAŻ', '1']\n",
      "['LUCJAN', 'Kaźmierczak', 'OC/778427/2018', '2018-03-29', '3746.6000000000004 ', 'OCHRONA', 'Nie']\n",
      "['Beata', 'Pawlak', 'KS/892760/2017', '2017-12-19', '5184.0', 'KSIĘGOWOŚĆ', 'NIE MA']\n",
      "['HENRYK', 'Rutkowski', 'SP/111937/2012  ', '2012-11-25', '5 055,299999999999 ', 'SPRZEDAŻ', 'false']\n"
     ]
    }
   ],
   "source": [
    "with open(in_filename, encoding='Windows-1250') as csv_file:\n",
    "    csv_reader = csv.reader(csv_file, delimiter=',')\n",
    "    for line in list(csv_reader)[:10]:\n",
    "        print(line)"
   ]
  },
  {
   "cell_type": "code",
   "execution_count": 75,
   "metadata": {},
   "outputs": [],
   "source": [
    "def get_csv_lines():\n",
    "    with open(in_filename, encoding='Windows-1250') as csv_file:\n",
    "        csv_reader = csv.reader(csv_file, delimiter=',')\n",
    "        for row in csv_reader:\n",
    "            yield row  # <== `yield`, czyli to nie funkcja, a generator"
   ]
  },
  {
   "cell_type": "code",
   "execution_count": 76,
   "metadata": {},
   "outputs": [
    {
     "data": {
      "text/plain": [
       "[['first_name',\n",
       "  'last_name',\n",
       "  'id_number',\n",
       "  'employment_start_date',\n",
       "  'monthly_salary',\n",
       "  'department',\n",
       "  'multisport'],\n",
       " ['Urszula',\n",
       "  'Szewczyk',\n",
       "  'CZ/594959/2014',\n",
       "  '2014-09-06T00:00:00',\n",
       "  '2436.9',\n",
       "  'CZYSTOŚĆ',\n",
       "  'false'],\n",
       " ['Stanisława',\n",
       "  'Kowalska',\n",
       "  'LO/374979/2010',\n",
       "  '2010-04-20',\n",
       "  '3407.4',\n",
       "  'LOGISTYKA',\n",
       "  '0'],\n",
       " ['Ilona',\n",
       "  'Pawlak',\n",
       "  'SP/598919/2014',\n",
       "  '2014-04-09',\n",
       "  '4676.760000000001',\n",
       "  'SPRZEDAŻ',\n",
       "  'true'],\n",
       " ['Marek',\n",
       "  'Kwiatkowski',\n",
       "  'MA/913484/2010',\n",
       "  '2010-09-17  ',\n",
       "  '5533.968000000002',\n",
       "  'MARKETING',\n",
       "  'ma']]"
      ]
     },
     "execution_count": 76,
     "metadata": {},
     "output_type": "execute_result"
    }
   ],
   "source": [
    "list(get_csv_lines())[:5]"
   ]
  },
  {
   "cell_type": "markdown",
   "metadata": {},
   "source": [
    "Główna zaleta generatorów to małe zużycie pamięci. Bardzo istotne w operowaniu na wielkich plikach."
   ]
  },
  {
   "cell_type": "markdown",
   "metadata": {},
   "source": [
    "Nazwy pól w pierwszym wierszu, dane w kolejnych. Niewygodne, warto razem to mieć.\n",
    "\n",
    "**`DictReader`** to the rescue!\n",
    "\n",
    "Zob. https://docs.python.org/3/library/csv.html#csv.DictReader."
   ]
  },
  {
   "cell_type": "code",
   "execution_count": 77,
   "metadata": {},
   "outputs": [],
   "source": [
    "def get_csv_lines():\n",
    "    with open(in_filename, encoding='Windows-1250') as csv_file:\n",
    "        reader = csv.DictReader(csv_file, delimiter=',')\n",
    "        for row in reader:\n",
    "            yield row"
   ]
  },
  {
   "cell_type": "code",
   "execution_count": 78,
   "metadata": {},
   "outputs": [
    {
     "data": {
      "text/plain": [
       "[OrderedDict([('first_name', 'Urszula'),\n",
       "              ('last_name', 'Szewczyk'),\n",
       "              ('id_number', 'CZ/594959/2014'),\n",
       "              ('employment_start_date', '2014-09-06T00:00:00'),\n",
       "              ('monthly_salary', '2436.9'),\n",
       "              ('department', 'CZYSTOŚĆ'),\n",
       "              ('multisport', 'false')]),\n",
       " OrderedDict([('first_name', 'Stanisława'),\n",
       "              ('last_name', 'Kowalska'),\n",
       "              ('id_number', 'LO/374979/2010'),\n",
       "              ('employment_start_date', '2010-04-20'),\n",
       "              ('monthly_salary', '3407.4'),\n",
       "              ('department', 'LOGISTYKA'),\n",
       "              ('multisport', '0')]),\n",
       " OrderedDict([('first_name', 'Ilona'),\n",
       "              ('last_name', 'Pawlak'),\n",
       "              ('id_number', 'SP/598919/2014'),\n",
       "              ('employment_start_date', '2014-04-09'),\n",
       "              ('monthly_salary', '4676.760000000001'),\n",
       "              ('department', 'SPRZEDAŻ'),\n",
       "              ('multisport', 'true')])]"
      ]
     },
     "execution_count": 78,
     "metadata": {},
     "output_type": "execute_result"
    }
   ],
   "source": [
    "list(get_csv_lines())[:3]"
   ]
  },
  {
   "cell_type": "markdown",
   "metadata": {},
   "source": [
    "Zamiast zwykłego dicta mamy **`OrderedDict`**. Zob. https://docs.python.org/3.7/library/collections.html#collections.OrderedDict."
   ]
  },
  {
   "cell_type": "code",
   "execution_count": 79,
   "metadata": {},
   "outputs": [
    {
     "name": "stdout",
     "output_type": "stream",
     "text": [
      "Urszula\n",
      "2014-09-06T00:00:00\n"
     ]
    }
   ],
   "source": [
    "first_person = list(get_csv_lines())[0]\n",
    "\n",
    "print(first_person['first_name'])\n",
    "print(first_person['employment_start_date'])"
   ]
  },
  {
   "cell_type": "markdown",
   "metadata": {},
   "source": [
    "Bardzo wygodne, dużo lepsze, niż:\n",
    "\n",
    "```python\n",
    "first_person[3]  # które to pole?\n",
    "```"
   ]
  },
  {
   "cell_type": "markdown",
   "metadata": {},
   "source": [
    "## Czyszczenie danych"
   ]
  },
  {
   "cell_type": "markdown",
   "metadata": {},
   "source": [
    "### Ogólny przegląd danych i wstępne czyszczenie"
   ]
  },
  {
   "cell_type": "markdown",
   "metadata": {},
   "source": [
    "Zobaczmy dane w kolumnie `first_name`..."
   ]
  },
  {
   "cell_type": "code",
   "execution_count": 80,
   "metadata": {},
   "outputs": [
    {
     "data": {
      "text/plain": [
       "['',\n",
       " ' ',\n",
       " '  ',\n",
       " 'ADAM   ',\n",
       " 'ALEKSANDER',\n",
       " 'ALEKSANDRA',\n",
       " 'ALFRED',\n",
       " 'ALFRED ',\n",
       " 'ALFREDA',\n",
       " 'ALICJA']"
      ]
     },
     "execution_count": 80,
     "metadata": {},
     "output_type": "execute_result"
    }
   ],
   "source": [
    "people = get_csv_lines()\n",
    "unique_names = {\n",
    "    person['first_name']\n",
    "    for person in people\n",
    "}\n",
    "sorted(unique_names)[:10]"
   ]
  },
  {
   "cell_type": "markdown",
   "metadata": {},
   "source": [
    "**`sorted`** zwraca listę posortowanych elementów z przekazanego iterable: https://docs.python.org/3/library/functions.html#sorted.\n",
    "\n",
    "**`.sort`** jest metodą listy i sotruje ją in place: https://docs.python.org/3/tutorial/datastructures.html#more-on-lists."
   ]
  },
  {
   "cell_type": "markdown",
   "metadata": {},
   "source": [
    "Mamy przynajmniej dwa problemy:\n",
    "\n",
    "- Różny zapis pod względem małych i wielkich liter.\n",
    "\n",
    "- Zbędne spacje (ang. whitespace, co jest szerszym terminem, zob. https://en.wikipedia.org/wiki/Whitespace_character)."
   ]
  },
  {
   "cell_type": "markdown",
   "metadata": {},
   "source": [
    "Zacznijmy od usunięcia zbędnych whitespace..."
   ]
  },
  {
   "cell_type": "code",
   "execution_count": 81,
   "metadata": {},
   "outputs": [],
   "source": [
    "from collections import OrderedDict\n",
    "\n",
    "\n",
    "def clean_personal_data(lines):\n",
    "    for line in lines:\n",
    "        # cleaning common to all fields\n",
    "        clean_line = clean_all_items(line)\n",
    "    \n",
    "        # TODO: specialized cleaning\n",
    "        \n",
    "        yield clean_line\n",
    "        \n",
    "def clean_all_items(row):\n",
    "    clean_row = OrderedDict()\n",
    "    for key, value in row.items():\n",
    "        clean_value = value.strip()        # <== usuwanie wiszących spacji\n",
    "        clean_value = clean_value or None  # <== zamiana na None \n",
    "        clean_row[key] = clean_value       #       w przypadku pustego stringa\n",
    "    \n",
    "    return clean_row"
   ]
  },
  {
   "cell_type": "markdown",
   "metadata": {},
   "source": [
    "Co to takiego to `x = coś or None`? Konsola...\n",
    "\n",
    "Zob. https://www.geeksforgeeks.org/short-circuiting-techniques-python/."
   ]
  },
  {
   "cell_type": "markdown",
   "metadata": {},
   "source": [
    "Metoda **`strip`**: https://docs.python.org/3/library/stdtypes.html#str.strip."
   ]
  },
  {
   "cell_type": "markdown",
   "metadata": {},
   "source": [
    "Przepuścmy nasze dane przez `clean_personal_data`:"
   ]
  },
  {
   "cell_type": "code",
   "execution_count": 82,
   "metadata": {},
   "outputs": [
    {
     "data": {
      "text/plain": [
       "['ADAM',\n",
       " 'ALEKSANDER',\n",
       " 'ALEKSANDRA',\n",
       " 'ALFRED',\n",
       " 'ALFREDA',\n",
       " 'ALICJA',\n",
       " 'ALINA',\n",
       " 'ALOJZY',\n",
       " 'ANETA',\n",
       " 'ANIELA',\n",
       " 'ANNA',\n",
       " 'ANTONI',\n",
       " 'ARKADIUSZ',\n",
       " 'ARTUR',\n",
       " 'Adam',\n",
       " 'Adela',\n",
       " 'Agata',\n",
       " 'Agnieszka',\n",
       " 'Aldona',\n",
       " 'Aleksander',\n",
       " 'Aleksandra',\n",
       " 'Alfred',\n",
       " 'Alfreda',\n",
       " 'Alicja',\n",
       " 'Alina']"
      ]
     },
     "execution_count": 82,
     "metadata": {},
     "output_type": "execute_result"
    }
   ],
   "source": [
    "lines = get_csv_lines()\n",
    "people = clean_personal_data(lines)\n",
    "unique_names = {\n",
    "    person['first_name']\n",
    "    for person in people\n",
    "    if person['first_name'] is not None\n",
    "}\n",
    "sorted(unique_names)[:25]"
   ]
  },
  {
   "cell_type": "markdown",
   "metadata": {},
   "source": [
    "Czyli niepotrzebne whitespace usunięte, ale wciąż trzeba ogarnąć wielkie/małe litery..."
   ]
  },
  {
   "cell_type": "markdown",
   "metadata": {},
   "source": [
    "Kod zaczyna się komplikować, więc najpierw:\n",
    "\n",
    "1. Wrzućmy wszystko do klasy.\n",
    "\n",
    "2. Dodajmy (na razie puste) metody czyszczące poszczególne typy pól."
   ]
  },
  {
   "cell_type": "code",
   "execution_count": 83,
   "metadata": {},
   "outputs": [],
   "source": [
    "from collections import OrderedDict\n",
    "\n",
    "class PersonalDataCleaner:\n",
    "    \"\"\"\n",
    "    Cleaner of personal data. \n",
    "    \n",
    "    Usage:\n",
    "      Pass an iterable of dicts to `clean` method, which \n",
    "      will yield dicts with cleaned data.\n",
    "    \"\"\"\n",
    "\n",
    "    def clean(self, rows):\n",
    "        for row in rows:\n",
    "            # cleaning common to all fields\n",
    "            clean_row = self._clean_all_items(row)\n",
    "\n",
    "            # specialized cleaning\n",
    "            clean_row['first_name'] = (\n",
    "                self._clean_name(clean_row['first_name'])\n",
    "            )\n",
    "            clean_row['last_name'] = (\n",
    "                self._clean_name(clean_row['last_name'])\n",
    "            )\n",
    "            clean_row['id_number'] = (\n",
    "                self._clean_id_number(clean_row['id_number'])\n",
    "            )\n",
    "            clean_row['employment_start_date'] = (\n",
    "                self._clean_date(clean_row['employment_start_date'])\n",
    "            )\n",
    "            clean_row['monthly_salary'] = (\n",
    "                self._clean_monetary_value(clean_row['monthly_salary'])\n",
    "            )\n",
    "            clean_row['department'] = (\n",
    "                self._clean_department(clean_row['department'])\n",
    "            )\n",
    "            clean_row['multisport'] = (\n",
    "                self._clean_multisport(clean_row['multisport'])\n",
    "            )\n",
    "    \n",
    "            yield clean_row\n",
    "            \n",
    "    def _clean_all_items(self, row):\n",
    "        clean_row = OrderedDict()\n",
    "        for key, value in row.items():\n",
    "            clean_value = value.strip()\n",
    "            clean_value = clean_value or None\n",
    "            clean_row[key] = clean_value\n",
    "        return clean_row\n",
    "        \n",
    "\n",
    "    def _clean_name(self, name): return name\n",
    "\n",
    "    def _clean_id_number(self, id_number): return id_number\n",
    "\n",
    "    def _clean_date(self, date): return date\n",
    "\n",
    "    def _clean_monetary_value(self, monetary_amount): return monetary_amount\n",
    "\n",
    "    def _clean_department(self, department): return department\n",
    "\n",
    "    def _clean_multisport(self, multisport): return multisport\n"
   ]
  },
  {
   "cell_type": "markdown",
   "metadata": {},
   "source": [
    "Działa?"
   ]
  },
  {
   "cell_type": "code",
   "execution_count": 84,
   "metadata": {},
   "outputs": [],
   "source": [
    "lines = get_csv_lines()\n",
    "cleaner = PersonalDataCleaner()\n",
    "people = cleaner.clean(lines)"
   ]
  },
  {
   "cell_type": "code",
   "execution_count": 85,
   "metadata": {},
   "outputs": [
    {
     "data": {
      "text/plain": [
       "[OrderedDict([('first_name', 'Urszula'),\n",
       "              ('last_name', 'Szewczyk'),\n",
       "              ('id_number', 'CZ/594959/2014'),\n",
       "              ('employment_start_date', '2014-09-06T00:00:00'),\n",
       "              ('monthly_salary', '2436.9'),\n",
       "              ('department', 'CZYSTOŚĆ'),\n",
       "              ('multisport', 'false')]),\n",
       " OrderedDict([('first_name', 'Stanisława'),\n",
       "              ('last_name', 'Kowalska'),\n",
       "              ('id_number', 'LO/374979/2010'),\n",
       "              ('employment_start_date', '2010-04-20'),\n",
       "              ('monthly_salary', '3407.4'),\n",
       "              ('department', 'LOGISTYKA'),\n",
       "              ('multisport', '0')]),\n",
       " OrderedDict([('first_name', 'Ilona'),\n",
       "              ('last_name', 'Pawlak'),\n",
       "              ('id_number', 'SP/598919/2014'),\n",
       "              ('employment_start_date', '2014-04-09'),\n",
       "              ('monthly_salary', '4676.760000000001'),\n",
       "              ('department', 'SPRZEDAŻ'),\n",
       "              ('multisport', 'true')]),\n",
       " OrderedDict([('first_name', 'Marek'),\n",
       "              ('last_name', 'Kwiatkowski'),\n",
       "              ('id_number', 'MA/913484/2010'),\n",
       "              ('employment_start_date', '2010-09-17'),\n",
       "              ('monthly_salary', '5533.968000000002'),\n",
       "              ('department', 'MARKETING'),\n",
       "              ('multisport', 'ma')]),\n",
       " OrderedDict([('first_name', 'Barbara'),\n",
       "              ('last_name', 'Wiśniewska'),\n",
       "              ('id_number', 'SP/441969/2017'),\n",
       "              ('employment_start_date', '2017-09-10T00:00:00'),\n",
       "              ('monthly_salary', '4 731,210000000001'),\n",
       "              ('department', 'SPRZEDAŻ'),\n",
       "              ('multisport', 'tak')])]"
      ]
     },
     "execution_count": 85,
     "metadata": {},
     "output_type": "execute_result"
    }
   ],
   "source": [
    "list(people)[:5]"
   ]
  },
  {
   "cell_type": "markdown",
   "metadata": {},
   "source": [
    "Działa!"
   ]
  },
  {
   "cell_type": "markdown",
   "metadata": {},
   "source": [
    "### Czyszczenie `first_name` i `last_name`"
   ]
  },
  {
   "cell_type": "markdown",
   "metadata": {},
   "source": [
    "Wróćmy do czyszczenia wielkich/małych liter..."
   ]
  },
  {
   "cell_type": "code",
   "execution_count": 86,
   "metadata": {},
   "outputs": [],
   "source": [
    "def clean_name(name):\n",
    "    if name is None:\n",
    "        return None\n",
    "    return name.title()"
   ]
  },
  {
   "cell_type": "markdown",
   "metadata": {},
   "source": [
    "Testy!"
   ]
  },
  {
   "cell_type": "code",
   "execution_count": 87,
   "metadata": {},
   "outputs": [],
   "source": [
    "assert clean_name('ARKADIUSZ') == 'Arkadiusz'\n",
    "assert clean_name('Emilia') == 'Emilia'\n",
    "assert clean_name('katarzyna') == 'Katarzyna'\n",
    "assert clean_name(None) == None"
   ]
  },
  {
   "cell_type": "markdown",
   "metadata": {},
   "source": [
    "Przepuśćmy wszystkie imiona przez `clean_name`:"
   ]
  },
  {
   "cell_type": "code",
   "execution_count": 88,
   "metadata": {},
   "outputs": [
    {
     "data": {
      "text/plain": [
       "{'Adam',\n",
       " 'Adela',\n",
       " 'Agata',\n",
       " 'Agnieszka',\n",
       " 'Aldona',\n",
       " 'Aleksander',\n",
       " 'Aleksandra',\n",
       " 'Alfred',\n",
       " 'Alfreda',\n",
       " 'Alicja',\n",
       " 'Alina',\n",
       " 'Alojzy',\n",
       " 'Andrzej',\n",
       " 'Aneta',\n",
       " 'Aniela',\n",
       " 'Anna',\n",
       " 'Antoni',\n",
       " 'Antonina',\n",
       " 'Arkadiusz',\n",
       " 'Artur',\n",
       " 'Barbara',\n",
       " 'Beata',\n",
       " 'Bernadeta',\n",
       " 'Bernard',\n",
       " 'Bogdan',\n",
       " 'Bogumiła',\n",
       " 'Bogusław',\n",
       " 'Bogusława',\n",
       " 'Bolesław',\n",
       " 'Bożena',\n",
       " 'Bronisław',\n",
       " 'Bronisława',\n",
       " 'Cecylia',\n",
       " 'Celina',\n",
       " 'Cezary',\n",
       " 'Czesław',\n",
       " 'Czesława',\n",
       " 'Daniela',\n",
       " 'Danuta',\n",
       " 'Dariusz',\n",
       " 'Dorota',\n",
       " 'Edmund',\n",
       " 'Edward',\n",
       " 'Edyta',\n",
       " 'Eleonora',\n",
       " 'Elżbieta',\n",
       " 'Emilia',\n",
       " 'Eugenia',\n",
       " 'Eugeniusz',\n",
       " 'Ewa',\n",
       " 'Feliks',\n",
       " 'Franciszek',\n",
       " 'Franciszka',\n",
       " 'Gabriela',\n",
       " 'Genowefa',\n",
       " 'Gertruda',\n",
       " 'Grażyna',\n",
       " 'Grzegorz',\n",
       " 'Halina',\n",
       " 'Hanna',\n",
       " 'Helena',\n",
       " 'Henryk',\n",
       " 'Henryka',\n",
       " 'Honorata',\n",
       " 'Ilona',\n",
       " 'Irena',\n",
       " 'Ireneusz',\n",
       " 'Iwona',\n",
       " 'Izabela',\n",
       " 'Jacek',\n",
       " 'Jadwiga',\n",
       " 'Jan',\n",
       " 'Janina',\n",
       " 'Janusz',\n",
       " 'Jarosław',\n",
       " 'Jerzy',\n",
       " 'Joanna',\n",
       " 'Jolanta',\n",
       " 'Julia',\n",
       " 'Julian',\n",
       " 'Justyna',\n",
       " 'Józef',\n",
       " 'Józefa',\n",
       " 'Karol',\n",
       " 'Karolina',\n",
       " 'Katarzyna',\n",
       " 'Kazimiera',\n",
       " 'Kazimierz',\n",
       " 'Krystyna',\n",
       " 'Krzysztof',\n",
       " 'Lech',\n",
       " 'Leokadia',\n",
       " 'Leon',\n",
       " 'Leszek',\n",
       " 'Lidia',\n",
       " 'Lucjan',\n",
       " 'Lucyna',\n",
       " 'Ludwik',\n",
       " 'Ludwika',\n",
       " 'Maciej',\n",
       " 'Magdalena',\n",
       " 'Marcin',\n",
       " 'Marek',\n",
       " 'Maria',\n",
       " 'Marian',\n",
       " 'Marianna',\n",
       " 'Mariola',\n",
       " 'Mariusz',\n",
       " 'Marta',\n",
       " 'Marzena',\n",
       " 'Małgorzata',\n",
       " 'Michalina',\n",
       " 'Michał',\n",
       " 'Mieczysław',\n",
       " 'Mieczysława',\n",
       " 'Mirosław',\n",
       " 'Mirosława',\n",
       " 'Monika',\n",
       " 'Natalia',\n",
       " None,\n",
       " 'Olga',\n",
       " 'Paweł',\n",
       " 'Piotr',\n",
       " 'Przemysław',\n",
       " 'Rafał',\n",
       " 'Regina',\n",
       " 'Renata',\n",
       " 'Robert',\n",
       " 'Roman',\n",
       " 'Romuald',\n",
       " 'Rozalia',\n",
       " 'Ryszard',\n",
       " 'Róża',\n",
       " 'Sabina',\n",
       " 'Stanisław',\n",
       " 'Stanisława',\n",
       " 'Stefan',\n",
       " 'Stefania',\n",
       " 'Sylwester',\n",
       " 'Sylwia',\n",
       " 'Sławomir',\n",
       " 'Tadeusz',\n",
       " 'Teresa',\n",
       " 'Tomasz',\n",
       " 'Urszula',\n",
       " 'Wacław',\n",
       " 'Wacława',\n",
       " 'Waldemar',\n",
       " 'Wanda',\n",
       " 'Weronika',\n",
       " 'Wiesław',\n",
       " 'Wiesława',\n",
       " 'Wiktor',\n",
       " 'Wiktoria',\n",
       " 'Wioletta',\n",
       " 'Witold',\n",
       " 'Wojciech',\n",
       " 'Władysław',\n",
       " 'Władysława',\n",
       " 'Włodzimierz',\n",
       " 'Zbigniew',\n",
       " 'Zdzisław',\n",
       " 'Zdzisława',\n",
       " 'Zenon',\n",
       " 'Zofia',\n",
       " 'Zuzanna',\n",
       " 'Zygmunt',\n",
       " 'Łucja'}"
      ]
     },
     "execution_count": 88,
     "metadata": {},
     "output_type": "execute_result"
    }
   ],
   "source": [
    "people = PersonalDataCleaner().clean(get_csv_lines())\n",
    "\n",
    "unique_names = {\n",
    "    clean_name(person['first_name'])\n",
    "    for person in people\n",
    "}\n",
    "unique_names"
   ]
  },
  {
   "cell_type": "markdown",
   "metadata": {},
   "source": [
    "Nice!\n",
    "\n",
    "Potem zamienimy funkcję `clean_name` na metodę `_clean_name` w klasie..."
   ]
  },
  {
   "cell_type": "markdown",
   "metadata": {},
   "source": [
    "### Czyszczenie `multisport`"
   ]
  },
  {
   "cell_type": "code",
   "execution_count": 89,
   "metadata": {},
   "outputs": [
    {
     "data": {
      "text/plain": [
       "{'0',\n",
       " '1',\n",
       " 'FAŁSZ',\n",
       " 'False',\n",
       " 'Fałsz',\n",
       " 'MA',\n",
       " 'NIE',\n",
       " 'NIE MA',\n",
       " 'Nie',\n",
       " None,\n",
       " 'PRAWDA',\n",
       " 'Prawda',\n",
       " 'TAK',\n",
       " 'Tak',\n",
       " 'True',\n",
       " 'false',\n",
       " 'ma',\n",
       " 'nie',\n",
       " 'nie ma',\n",
       " 'tak',\n",
       " 'true'}"
      ]
     },
     "execution_count": 89,
     "metadata": {},
     "output_type": "execute_result"
    }
   ],
   "source": [
    "people = PersonalDataCleaner().clean(get_csv_lines())\n",
    "\n",
    "{person['multisport'] for person in people}"
   ]
  },
  {
   "cell_type": "markdown",
   "metadata": {},
   "source": [
    "Co to jest?!"
   ]
  },
  {
   "cell_type": "markdown",
   "metadata": {},
   "source": [
    "Zróbmy funkcję mapującą string na odpowiednią wartość."
   ]
  },
  {
   "cell_type": "code",
   "execution_count": 90,
   "metadata": {},
   "outputs": [],
   "source": [
    "STRINGS_REPRESENTING_TRUE = {'1', 'prawda', 'tak', 'ma', 'true'}\n",
    "STRINGS_REPRESENTING_FALSE = {'0', 'fałsz', 'nie', 'nie ma', 'false'}\n",
    "\n",
    "map_string_to_true = {\n",
    "    k: True\n",
    "    for k in STRINGS_REPRESENTING_TRUE\n",
    "}\n",
    "map_string_to_false = {\n",
    "    k: False\n",
    "    for k in STRINGS_REPRESENTING_FALSE\n",
    "}\n",
    "\n",
    "map_string_to_bool = {**map_string_to_true, **map_string_to_false}\n",
    "\n",
    "\n",
    "def map_string_to_boolean(something):\n",
    "    if something is None:\n",
    "        return None\n",
    "    something = something.lower()\n",
    "    return map_string_to_bool[something]"
   ]
  },
  {
   "cell_type": "code",
   "execution_count": 91,
   "metadata": {},
   "outputs": [
    {
     "data": {
      "text/plain": [
       "{'ma': True,\n",
       " 'true': True,\n",
       " 'prawda': True,\n",
       " '1': True,\n",
       " 'tak': True,\n",
       " '0': False,\n",
       " 'nie': False,\n",
       " 'false': False,\n",
       " 'fałsz': False,\n",
       " 'nie ma': False}"
      ]
     },
     "execution_count": 91,
     "metadata": {},
     "output_type": "execute_result"
    }
   ],
   "source": [
    "map_string_to_bool"
   ]
  },
  {
   "cell_type": "markdown",
   "metadata": {},
   "source": [
    "Dopiszmy testy!"
   ]
  },
  {
   "cell_type": "code",
   "execution_count": 92,
   "metadata": {},
   "outputs": [],
   "source": [
    "assert map_string_to_boolean('1') == True\n",
    "assert map_string_to_boolean('0') == False\n",
    "assert map_string_to_boolean('prawDa') == True\n",
    "assert map_string_to_boolean('faŁsZ') == False\n",
    "assert map_string_to_boolean(None) == None"
   ]
  },
  {
   "cell_type": "markdown",
   "metadata": {},
   "source": [
    "Zobaczmy jaki zbiór wyników otrzymamy przepuszczając dane \"produkcyjne\" przez nią."
   ]
  },
  {
   "cell_type": "code",
   "execution_count": 93,
   "metadata": {},
   "outputs": [
    {
     "data": {
      "text/plain": [
       "{False, None, True}"
      ]
     },
     "execution_count": 93,
     "metadata": {},
     "output_type": "execute_result"
    }
   ],
   "source": [
    "people = PersonalDataCleaner().clean(get_csv_lines())\n",
    "\n",
    "{map_string_to_boolean(person['multisport']) for person in people}"
   ]
  },
  {
   "cell_type": "markdown",
   "metadata": {},
   "source": [
    "Logika trójwartościowa."
   ]
  },
  {
   "cell_type": "markdown",
   "metadata": {},
   "source": [
    "### Czyszczenie `department`"
   ]
  },
  {
   "cell_type": "code",
   "execution_count": 94,
   "metadata": {},
   "outputs": [
    {
     "data": {
      "text/plain": [
       "{'CZYSTOŚĆ',\n",
       " 'IT',\n",
       " 'KADRY',\n",
       " 'KSIĘGOWOŚĆ',\n",
       " 'LOGISTYKA',\n",
       " 'MARKETING',\n",
       " None,\n",
       " 'OCHRONA',\n",
       " 'SPRZEDAŻ',\n",
       " 'ZARZĄD'}"
      ]
     },
     "execution_count": 94,
     "metadata": {},
     "output_type": "execute_result"
    }
   ],
   "source": [
    "people = PersonalDataCleaner().clean(get_csv_lines())\n",
    "\n",
    "{person['department'] for person in people}"
   ]
  },
  {
   "cell_type": "markdown",
   "metadata": {},
   "source": [
    "Wszystko wygląda ok, aż dziwne! Nie zmieniamy więc cleaner'a `_clean_department`."
   ]
  },
  {
   "cell_type": "markdown",
   "metadata": {},
   "source": [
    "### Czyszczenie `id_number`"
   ]
  },
  {
   "cell_type": "code",
   "execution_count": 95,
   "metadata": {},
   "outputs": [],
   "source": [
    "people = PersonalDataCleaner().clean(get_csv_lines())\n",
    "\n",
    "id_numbers = [person['id_number'] for person in people]"
   ]
  },
  {
   "cell_type": "code",
   "execution_count": 96,
   "metadata": {},
   "outputs": [
    {
     "data": {
      "text/plain": [
       "['CZ/594959/2014',\n",
       " 'LO/374979/2010',\n",
       " 'SP/598919/2014',\n",
       " 'MA/913484/2010',\n",
       " 'SP/441969/2017',\n",
       " 'SP/996950/2012',\n",
       " 'OC/778427/2018',\n",
       " 'KS/892760/2017',\n",
       " 'SP/111937/2012',\n",
       " 'LO/530128/2009']"
      ]
     },
     "execution_count": 96,
     "metadata": {},
     "output_type": "execute_result"
    }
   ],
   "source": [
    "id_numbers[:10]"
   ]
  },
  {
   "cell_type": "code",
   "execution_count": 97,
   "metadata": {},
   "outputs": [
    {
     "data": {
      "text/plain": [
       "['LO/604371/2013',\n",
       " 'KS/356120/2014',\n",
       " 'LO/741738/2011',\n",
       " 'KA/737794/2018',\n",
       " 'SP/564298/2011',\n",
       " 'KA/737818/2012',\n",
       " 'MA/513454/2009',\n",
       " 'IT/662447/2017',\n",
       " 'IT/327794/2015',\n",
       " 'SP/258305/2012']"
      ]
     },
     "execution_count": 97,
     "metadata": {},
     "output_type": "execute_result"
    }
   ],
   "source": [
    "id_numbers[-10:]"
   ]
  },
  {
   "cell_type": "markdown",
   "metadata": {},
   "source": [
    "Również ok, przynajmniej na pierwszy rzut oka... (Praca domowa będzie o tym!)"
   ]
  },
  {
   "cell_type": "markdown",
   "metadata": {},
   "source": [
    "### Czyszczenie `employment_start_date`"
   ]
  },
  {
   "cell_type": "code",
   "execution_count": 98,
   "metadata": {},
   "outputs": [
    {
     "data": {
      "text/plain": [
       "['2014-09-06T00:00:00',\n",
       " '2010-04-20',\n",
       " '2014-04-09',\n",
       " '2010-09-17',\n",
       " '2017-09-10T00:00:00',\n",
       " '2012-05-09',\n",
       " '2018-03-29',\n",
       " '2017-12-19',\n",
       " '2012-11-25',\n",
       " '2009/11/21',\n",
       " '2010-06-09',\n",
       " '2017/12/19',\n",
       " '2013/04/24',\n",
       " '2015-05-14T00:00:00',\n",
       " '2009-06-24',\n",
       " '2011-05-25',\n",
       " '2011-07-14',\n",
       " '2018-07-07',\n",
       " '2012-08-17',\n",
       " '2017-12-19',\n",
       " '2014-07-18',\n",
       " '2017-01-03',\n",
       " '2013-09-21',\n",
       " '2018/05/18',\n",
       " '2017-09-10T00:00:00']"
      ]
     },
     "execution_count": 98,
     "metadata": {},
     "output_type": "execute_result"
    }
   ],
   "source": [
    "people = PersonalDataCleaner().clean(get_csv_lines())\n",
    "\n",
    "[person['employment_start_date'] for person in people][:25]"
   ]
  },
  {
   "cell_type": "markdown",
   "metadata": {},
   "source": [
    "Nie jest źle, mamy tylko trzy formaty:\n",
    "\n",
    "`YYYY-MM-DD`\n",
    "\n",
    "`YYYY/MM/DD`\n",
    "\n",
    "`YYYY-MM-DD{T}HH:MM:SS`"
   ]
  },
  {
   "cell_type": "markdown",
   "metadata": {},
   "source": [
    "Można to ogarnąć na różne sposoby, ale zróbmy to na piechotę:\n",
    "\n",
    "1. Wyciągniemy rok, miesiąc i dzień ze stringów.\n",
    "\n",
    "2. Stworzymy obiekty typu `date`."
   ]
  },
  {
   "cell_type": "markdown",
   "metadata": {},
   "source": [
    "Typ **`date`**: https://docs.python.org/3.7/library/datetime.html#date-objects."
   ]
  },
  {
   "cell_type": "code",
   "execution_count": 99,
   "metadata": {},
   "outputs": [],
   "source": [
    "from datetime import date\n",
    "\n",
    "my_date = date(year=2013, month=11, day=15)"
   ]
  },
  {
   "cell_type": "code",
   "execution_count": 100,
   "metadata": {},
   "outputs": [
    {
     "data": {
      "text/plain": [
       "datetime.date(2013, 11, 15)"
      ]
     },
     "execution_count": 100,
     "metadata": {},
     "output_type": "execute_result"
    }
   ],
   "source": [
    "my_date"
   ]
  },
  {
   "cell_type": "markdown",
   "metadata": {},
   "source": [
    "Użyjmy metody **`partition`**: https://docs.python.org/3/library/stdtypes.html#str.partition."
   ]
  },
  {
   "cell_type": "code",
   "execution_count": 101,
   "metadata": {},
   "outputs": [
    {
     "data": {
      "text/plain": [
       "('ble ble AAA bla bla AAA', '', '')"
      ]
     },
     "execution_count": 101,
     "metadata": {},
     "output_type": "execute_result"
    }
   ],
   "source": [
    "'ble ble AAA bla bla AAA'.partition('BBB')"
   ]
  },
  {
   "cell_type": "code",
   "execution_count": 102,
   "metadata": {},
   "outputs": [],
   "source": [
    "def normalize_date(date_string):\n",
    "    if date_string is None:\n",
    "        return None\n",
    "\n",
    "    # YYYY-MM-DD{T}HH:MM:SS --> YYYY-MM-DD\n",
    "    date_string = date_string.partition('T')[0]\n",
    "    \n",
    "    # case 2: YYYY/MM/DD --> YYYY-MM-DD\n",
    "    date_string = date_string.replace('/', '-')\n",
    "    \n",
    "    # convert to `date` object (exception on wrong format)\n",
    "    year, month, day = date_string.split('-')\n",
    "    \n",
    "    date_obj = date(year=int(year), month=int(month), day=int(day))\n",
    "    \n",
    "    return date_obj"
   ]
  },
  {
   "cell_type": "code",
   "execution_count": 103,
   "metadata": {},
   "outputs": [
    {
     "name": "stdout",
     "output_type": "stream",
     "text": [
      "2017-12-07\n",
      "2017-12-07\n",
      "2017-12-07\n",
      "None\n"
     ]
    }
   ],
   "source": [
    "print(normalize_date('2017-12-07'))\n",
    "print(normalize_date('2017/12/07'))\n",
    "print(normalize_date('2017-12-07T00:00:00'))\n",
    "print(normalize_date(None))"
   ]
  },
  {
   "cell_type": "markdown",
   "metadata": {},
   "source": [
    "### UWAGA!!!\n",
    "\n",
    "1. Nie uwzględniam innych zapisów, np. `DD-MM-YYYY` albo `MM-DD-YYYY`.\n",
    "\n",
    "2. Ignoruję całe wielkie zagadnienie stref czasowych. Generalnie zasada jest taka, że **daty przesyłamy i zapisujemy w strefie UTC, bo inaczej popadniemy w duuuuuże problemy**."
   ]
  },
  {
   "cell_type": "markdown",
   "metadata": {},
   "source": [
    "Jest taka biblioteka `dateutil` (https://dateutil.readthedocs.io/en/stable), która m.in. posiada funkcję parsowania dat zapisanych w różnych formatach. Takich narzędzi trzeba używać bardzo ostrożnie jednak, bo łatwo się przejechać..."
   ]
  },
  {
   "cell_type": "markdown",
   "metadata": {},
   "source": [
    "### Czyszczenie `monthly_salary`"
   ]
  },
  {
   "cell_type": "code",
   "execution_count": 104,
   "metadata": {},
   "outputs": [
    {
     "data": {
      "text/plain": [
       "['2436.9',\n",
       " '3407.4',\n",
       " '4676.760000000001',\n",
       " '5533.968000000002',\n",
       " '4 731,210000000001',\n",
       " '5306.895000000001',\n",
       " '3746.6000000000004',\n",
       " '5184.0',\n",
       " '5 055,299999999999',\n",
       " '4195.2735']"
      ]
     },
     "execution_count": 104,
     "metadata": {},
     "output_type": "execute_result"
    }
   ],
   "source": [
    "people = PersonalDataCleaner().clean(get_csv_lines())\n",
    "\n",
    "[person['monthly_salary'] for person in people][:10]"
   ]
  },
  {
   "cell_type": "markdown",
   "metadata": {},
   "source": [
    "Mamy przynajmniej dwa formatowania:\n",
    "\n",
    "- `1234.5`\n",
    "\n",
    "- `1 234,5`"
   ]
  },
  {
   "cell_type": "markdown",
   "metadata": {},
   "source": [
    "A dodatkowo czasem mamy problemy z liczbą miejsc po przecinku.\n",
    "\n",
    "Ogarnijmy to po kolei:\n",
    "\n",
    "1. zamiana stringów na floaty\n",
    "\n",
    "2. ogarnięcie zaokrągleń"
   ]
  },
  {
   "cell_type": "markdown",
   "metadata": {},
   "source": [
    "Na szczęście nie mamy liczb z zarówno `.` jak i `,`, więc czyszczenie jest proste:"
   ]
  },
  {
   "cell_type": "code",
   "execution_count": 105,
   "metadata": {},
   "outputs": [],
   "source": [
    "def monetary_string_to_float(string):\n",
    "    string = string.replace(\" \", \"\")\n",
    "    string = string.replace(',', '.')\n",
    "    return float(string)"
   ]
  },
  {
   "cell_type": "code",
   "execution_count": 106,
   "metadata": {},
   "outputs": [
    {
     "name": "stdout",
     "output_type": "stream",
     "text": [
      "6414.1\n",
      "6414.099999999999\n",
      "6414.1\n",
      "6414.099999999999\n"
     ]
    }
   ],
   "source": [
    "print(monetary_string_to_float('6414.1'))\n",
    "print(monetary_string_to_float('6414.0999999999999'))\n",
    "print(monetary_string_to_float('6 414,1'))\n",
    "print(monetary_string_to_float('6 414,0999999999999'))"
   ]
  },
  {
   "cell_type": "markdown",
   "metadata": {},
   "source": [
    "Teraz ogarnijmy zaokrąglenia, by to jakoś wyglądało sensownie..."
   ]
  },
  {
   "cell_type": "markdown",
   "metadata": {},
   "source": [
    "Float się nie nadaje, potrzebujemy bardziej wyspecjalizowanego typu danych: **`Decimal`**. Jest to typ danych idealny do zastosowań finansowych.\n",
    "\n",
    "https://docs.python.org/3/library/decimal.html"
   ]
  },
  {
   "cell_type": "code",
   "execution_count": 107,
   "metadata": {},
   "outputs": [
    {
     "data": {
      "text/plain": [
       "Decimal('1.01')"
      ]
     },
     "execution_count": 107,
     "metadata": {},
     "output_type": "execute_result"
    }
   ],
   "source": [
    "from decimal import Decimal\n",
    "\n",
    "Decimal('1.01')"
   ]
  },
  {
   "cell_type": "code",
   "execution_count": 108,
   "metadata": {},
   "outputs": [
    {
     "data": {
      "text/plain": [
       "Decimal('1.0999999999999')"
      ]
     },
     "execution_count": 108,
     "metadata": {},
     "output_type": "execute_result"
    }
   ],
   "source": [
    "from decimal import Decimal\n",
    "\n",
    "Decimal('1.0999999999999')"
   ]
  },
  {
   "cell_type": "markdown",
   "metadata": {},
   "source": [
    "Metoda **`quantize`** (kwantyfikacja) ucina i zaokrągla: https://docs.python.org/3.7/library/decimal.html#decimal.Decimal.quantize."
   ]
  },
  {
   "cell_type": "code",
   "execution_count": 109,
   "metadata": {},
   "outputs": [],
   "source": [
    "d1 = Decimal('1.0999999999999').quantize(Decimal('0.01'))\n",
    "d2 = Decimal('1.99').quantize(Decimal('0.01'))"
   ]
  },
  {
   "cell_type": "markdown",
   "metadata": {},
   "source": [
    "Można je tworzyć od razu ze stringów, więc napiszmy drugą wersję naszej funkcji:"
   ]
  },
  {
   "cell_type": "code",
   "execution_count": 110,
   "metadata": {},
   "outputs": [],
   "source": [
    "from decimal import Decimal\n",
    "\n",
    "def monetary_string_to_decimal(string):\n",
    "    if string is None:\n",
    "        return None\n",
    "    string = string.replace(' ', '')\n",
    "    string = string.replace(',', '.')\n",
    "    return Decimal(string).quantize(Decimal('0.01'))"
   ]
  },
  {
   "cell_type": "code",
   "execution_count": 111,
   "metadata": {},
   "outputs": [
    {
     "name": "stdout",
     "output_type": "stream",
     "text": [
      "6414.10\n",
      "6414.10\n",
      "6414.10\n",
      "6414.10\n"
     ]
    }
   ],
   "source": [
    "print(monetary_string_to_decimal('6414.1'))\n",
    "print(monetary_string_to_decimal('6414.0999999999999'))\n",
    "print(monetary_string_to_decimal('6 414,1'))\n",
    "print(monetary_string_to_decimal('6 414,0999999999999'))"
   ]
  },
  {
   "cell_type": "markdown",
   "metadata": {},
   "source": [
    "Elegancko!"
   ]
  },
  {
   "cell_type": "markdown",
   "metadata": {},
   "source": [
    "### Wrzucenie wszystkich funkcji czyszczących do klasy `PersonalDataCleaner`"
   ]
  },
  {
   "cell_type": "markdown",
   "metadata": {},
   "source": [
    "Wrzućmy wszystko do cleaner'a naszego!"
   ]
  },
  {
   "cell_type": "code",
   "execution_count": 112,
   "metadata": {},
   "outputs": [],
   "source": [
    "from collections import OrderedDict\n",
    "from datetime import date\n",
    "from decimal import Decimal\n",
    "\n",
    "\n",
    "class PersonalDataCleaner:\n",
    "    \"\"\"\n",
    "    Cleaner of personal data. \n",
    "    \n",
    "    Usage:\n",
    "      Pass an iterable of dicts to `clean` method, which \n",
    "      will yield dicts with cleaned data.\n",
    "    \"\"\"\n",
    "    \n",
    "    STRINGS_REPRESENTING_TRUE = {'1', 'prawda', 'tak', 'ma', 'true'}\n",
    "    STRINGS_REPRESENTING_FALSE = {'0', 'fałsz', 'nie', 'nie ma', 'false'}\n",
    "    \n",
    "    def __init__(self):\n",
    "        map_string_to_true = {\n",
    "            k: True\n",
    "            for k in self.STRINGS_REPRESENTING_TRUE\n",
    "        }\n",
    "        map_string_to_false = {\n",
    "            k: False\n",
    "            for k in self.STRINGS_REPRESENTING_FALSE\n",
    "        }\n",
    "        self.map_string_to_bool = {\n",
    "            **map_string_to_true,\n",
    "            **map_string_to_false,\n",
    "        }\n",
    "\n",
    "    def clean(self, rows):\n",
    "        for row in rows:\n",
    "            # czyszczenie wspólne dla wszystkich kolumn\n",
    "            clean_row = self._clean_all_items(row)\n",
    "\n",
    "            # czyszczenie wyspecjalizowane\n",
    "            clean_row['first_name'] = (\n",
    "                self._clean_name(clean_row['first_name'])\n",
    "            )\n",
    "            clean_row['last_name'] = (\n",
    "                self._clean_name(clean_row['last_name'])\n",
    "            )\n",
    "            clean_row['id_number'] = (\n",
    "                self._clean_id_number(clean_row['id_number'])\n",
    "            )\n",
    "            clean_row['employment_start_date'] = (\n",
    "                self._clean_date(clean_row['employment_start_date'])\n",
    "            )\n",
    "            clean_row['monthly_salary'] = (\n",
    "                self._clean_monetary_value(clean_row['monthly_salary'])\n",
    "            )\n",
    "            clean_row['department'] = (\n",
    "                self._clean_department(clean_row['department'])\n",
    "            )\n",
    "            clean_row['multisport'] = (\n",
    "                self._clean_multisport(clean_row['multisport'])\n",
    "            )\n",
    "    \n",
    "            yield clean_row\n",
    "            \n",
    "    def _clean_all_items(self, row):\n",
    "        clean_row = OrderedDict()\n",
    "        for key, value in row.items():\n",
    "            clean_value = value.strip()\n",
    "            clean_value = clean_value or None\n",
    "            clean_row[key] = clean_value\n",
    "        return clean_row\n",
    "\n",
    "    def _clean_name(self, name):\n",
    "        if name is None:\n",
    "            return None\n",
    "        return name.title()\n",
    "\n",
    "    def _clean_id_number(self, id_number):\n",
    "        return id_number\n",
    "\n",
    "    def _clean_date(self, date_string):\n",
    "        if date_string is None:\n",
    "            return None\n",
    "\n",
    "        # YYYY-MM-DD{T}HH:MM:SS --> YYYY-MM-DD\n",
    "        date_string = date_string.partition('T')[0]\n",
    "    \n",
    "        # YYYY/MM/DD --> YYYY-MM-DD\n",
    "        date_string = date_string.replace('/', '-')\n",
    "    \n",
    "        # convert to `date` object (exception on wrong format)\n",
    "        year, month, day = date_string.split('-')\n",
    "        date_obj = date(year=int(year), month=int(month), day=int(day))\n",
    "    \n",
    "        return date_obj\n",
    "\n",
    "    def _clean_monetary_value(self, amount):\n",
    "        if amount is None:\n",
    "            return None\n",
    "        amount = amount.replace(' ', '')\n",
    "        amount = amount.replace(',', '.')\n",
    "        return Decimal(amount).quantize(Decimal('0.01'))\n",
    "\n",
    "    def _clean_department(self, department):\n",
    "        return department\n",
    "\n",
    "    def _clean_multisport(self, something):\n",
    "        if something is None:\n",
    "            return None\n",
    "        something = something.lower()\n",
    "        return self.map_string_to_bool[something]"
   ]
  },
  {
   "cell_type": "code",
   "execution_count": 113,
   "metadata": {},
   "outputs": [],
   "source": [
    "people = PersonalDataCleaner().clean(get_csv_lines())"
   ]
  },
  {
   "cell_type": "code",
   "execution_count": 114,
   "metadata": {},
   "outputs": [
    {
     "data": {
      "text/plain": [
       "[OrderedDict([('first_name', 'Urszula'),\n",
       "              ('last_name', 'Szewczyk'),\n",
       "              ('id_number', 'CZ/594959/2014'),\n",
       "              ('employment_start_date', datetime.date(2014, 9, 6)),\n",
       "              ('monthly_salary', Decimal('2436.90')),\n",
       "              ('department', 'CZYSTOŚĆ'),\n",
       "              ('multisport', False)]),\n",
       " OrderedDict([('first_name', 'Stanisława'),\n",
       "              ('last_name', 'Kowalska'),\n",
       "              ('id_number', 'LO/374979/2010'),\n",
       "              ('employment_start_date', datetime.date(2010, 4, 20)),\n",
       "              ('monthly_salary', Decimal('3407.40')),\n",
       "              ('department', 'LOGISTYKA'),\n",
       "              ('multisport', False)]),\n",
       " OrderedDict([('first_name', 'Ilona'),\n",
       "              ('last_name', 'Pawlak'),\n",
       "              ('id_number', 'SP/598919/2014'),\n",
       "              ('employment_start_date', datetime.date(2014, 4, 9)),\n",
       "              ('monthly_salary', Decimal('4676.76')),\n",
       "              ('department', 'SPRZEDAŻ'),\n",
       "              ('multisport', True)])]"
      ]
     },
     "execution_count": 114,
     "metadata": {},
     "output_type": "execute_result"
    }
   ],
   "source": [
    "list(people)[:3]"
   ]
  },
  {
   "cell_type": "markdown",
   "metadata": {},
   "source": [
    "### Zapisanie danych do pliku CSV"
   ]
  },
  {
   "cell_type": "code",
   "execution_count": 115,
   "metadata": {},
   "outputs": [],
   "source": [
    "import csv\n",
    "\n",
    "def save_csv(data):\n",
    "    first_row = next(data)\n",
    "    field_names = first_row.keys()\n",
    "    with open(out_filename, 'w', newline='') as csvfile:\n",
    "        csv_writer = csv.DictWriter(\n",
    "            csvfile,\n",
    "            delimiter=',',\n",
    "            fieldnames=field_names,\n",
    "        )\n",
    "        csv_writer.writeheader()\n",
    "        csv_writer.writerow(first_row)\n",
    "        for row in data:\n",
    "            csv_writer.writerow(row)"
   ]
  },
  {
   "cell_type": "code",
   "execution_count": 116,
   "metadata": {},
   "outputs": [],
   "source": [
    "people = PersonalDataCleaner().clean(get_csv_lines())\n",
    "save_csv(people)"
   ]
  },
  {
   "cell_type": "markdown",
   "metadata": {},
   "source": [
    "# 2. OBRÓBKA DANYCH"
   ]
  },
  {
   "cell_type": "markdown",
   "metadata": {},
   "source": [
    "Teraz mamy dane przygotowane do obrabiania. Pytania, na które mamy odpowiedzieć:\n",
    "\n",
    "1. Wyznaczyć średnią i medianę wynagrodzeń.\n",
    "\n",
    "2. Wyznaczyć średnią i medianę wynagrodzeń w poszczególnych działach firmy.\n",
    "\n",
    "3. Sprawdzić, czy posiadanie karty multisport związane jest z wysokością zarobków.\n",
    "\n",
    "4. Określic liczbę osób pracujących w poszczególnych działach firmy.\n",
    "\n",
    "5. Znaleźć osobę zarabiającą najwięcej oraz osobę zarabiającą najmniej.\n",
    "\n",
    "6. Sprawdzić kiedy zatrudniony został pierwszy pracownik działu kadry."
   ]
  },
  {
   "cell_type": "markdown",
   "metadata": {},
   "source": [
    "## 2.1. Średnia i mediana wynagrodzeń"
   ]
  },
  {
   "cell_type": "code",
   "execution_count": 117,
   "metadata": {},
   "outputs": [],
   "source": [
    "people = list(PersonalDataCleaner().clean(get_csv_lines()))\n",
    "\n",
    "salaries = [\n",
    "    person['monthly_salary']\n",
    "    for person in people \n",
    "    if person['monthly_salary'] is not None\n",
    "]"
   ]
  },
  {
   "cell_type": "code",
   "execution_count": 118,
   "metadata": {},
   "outputs": [
    {
     "data": {
      "text/plain": [
       "[Decimal('2436.90'),\n",
       " Decimal('3407.40'),\n",
       " Decimal('4676.76'),\n",
       " Decimal('5533.97'),\n",
       " Decimal('4731.21'),\n",
       " Decimal('5306.90'),\n",
       " Decimal('3746.60'),\n",
       " Decimal('5184.00'),\n",
       " Decimal('5055.30'),\n",
       " Decimal('4195.27')]"
      ]
     },
     "execution_count": 118,
     "metadata": {},
     "output_type": "execute_result"
    }
   ],
   "source": [
    "salaries[:10]"
   ]
  },
  {
   "cell_type": "markdown",
   "metadata": {},
   "source": [
    "Możemy liczyć na piechotę, ale w Pythonie są już odpowiednie funkcje na to."
   ]
  },
  {
   "cell_type": "code",
   "execution_count": 119,
   "metadata": {},
   "outputs": [
    {
     "data": {
      "text/plain": [
       "Decimal('5276.695185909980430528375734')"
      ]
     },
     "execution_count": 119,
     "metadata": {},
     "output_type": "execute_result"
    }
   ],
   "source": [
    "from statistics import mean\n",
    "\n",
    "mean(salaries)"
   ]
  },
  {
   "cell_type": "markdown",
   "metadata": {},
   "source": [
    "Funkcja **`mean`**: https://docs.python.org/3/library/statistics.html#statistics.mean."
   ]
  },
  {
   "cell_type": "code",
   "execution_count": 120,
   "metadata": {},
   "outputs": [
    {
     "data": {
      "text/plain": [
       "Decimal('5276.70')"
      ]
     },
     "execution_count": 120,
     "metadata": {},
     "output_type": "execute_result"
    }
   ],
   "source": [
    "from decimal import Decimal\n",
    "\n",
    "mean(salaries).quantize(Decimal('0.01'))"
   ]
  },
  {
   "cell_type": "code",
   "execution_count": 121,
   "metadata": {},
   "outputs": [
    {
     "data": {
      "text/plain": [
       "Decimal('4300.56')"
      ]
     },
     "execution_count": 121,
     "metadata": {},
     "output_type": "execute_result"
    }
   ],
   "source": [
    "from statistics import median\n",
    "\n",
    "median(salaries).quantize(Decimal('0.01'))"
   ]
  },
  {
   "cell_type": "markdown",
   "metadata": {},
   "source": [
    "Funkcja **`median`**: https://docs.python.org/3/library/statistics.html#statistics.median"
   ]
  },
  {
   "cell_type": "markdown",
   "metadata": {},
   "source": [
    "## 2.2. Średnia i mediana wynagrodzeń w poszczególnych działach firmy"
   ]
  },
  {
   "cell_type": "code",
   "execution_count": 122,
   "metadata": {},
   "outputs": [],
   "source": [
    "from collections import defaultdict\n",
    "\n",
    "dep_to_salaries = defaultdict(list)\n",
    "for person in people:\n",
    "    salary = person['monthly_salary']\n",
    "    department = person['department']\n",
    "    if department is not None:\n",
    "        dep_to_salaries[department].append(salary)"
   ]
  },
  {
   "cell_type": "markdown",
   "metadata": {},
   "source": [
    "Typ **`defaultdict`**: https://docs.python.org/3.7/library/collections.html#collections.defaultdict."
   ]
  },
  {
   "cell_type": "code",
   "execution_count": 123,
   "metadata": {},
   "outputs": [
    {
     "data": {
      "text/plain": [
       "[Decimal('4676.76'),\n",
       " Decimal('4731.21'),\n",
       " Decimal('5306.90'),\n",
       " Decimal('5055.30'),\n",
       " Decimal('3258.75'),\n",
       " Decimal('3387.00'),\n",
       " Decimal('5040.00'),\n",
       " Decimal('3269.70'),\n",
       " Decimal('3385.50'),\n",
       " Decimal('3483.81')]"
      ]
     },
     "execution_count": 123,
     "metadata": {},
     "output_type": "execute_result"
    }
   ],
   "source": [
    "dep_to_salaries['SPRZEDAŻ'][:10]"
   ]
  },
  {
   "cell_type": "code",
   "execution_count": 124,
   "metadata": {},
   "outputs": [
    {
     "name": "stdout",
     "output_type": "stream",
     "text": [
      "CZYSTOŚĆ\n",
      "\t mean   =    2842.85\n",
      "\t median =    2800.50\n",
      "LOGISTYKA\n",
      "\t mean   =    3881.02\n",
      "\t median =    3862.12\n",
      "SPRZEDAŻ\n",
      "\t mean   =    4334.24\n",
      "\t median =    4332.22\n",
      "MARKETING\n",
      "\t mean   =    4591.66\n",
      "\t median =    4598.40\n",
      "OCHRONA\n",
      "\t mean   =    3206.21\n",
      "\t median =    3212.60\n",
      "KSIĘGOWOŚĆ\n",
      "\t mean   =    5732.21\n",
      "\t median =    5645.86\n",
      "KADRY\n",
      "\t mean   =    4418.94\n",
      "\t median =    4358.83\n",
      "ZARZĄD\n",
      "\t mean   =   90787.42\n",
      "\t median =   64721.38\n",
      "IT\n",
      "\t mean   =    7347.72\n",
      "\t median =    7395.00\n"
     ]
    }
   ],
   "source": [
    "for department, salary_list in dep_to_salaries.items():\n",
    "    salary_mean = mean(salary_list).quantize(Decimal('0.01'))\n",
    "    salary_median = median(salary_list).quantize(Decimal('0.01'))\n",
    "    \n",
    "    print(f'{department}')\n",
    "    print(f'\\t mean   = {salary_mean:10.2f}')\n",
    "    print(f'\\t median = {salary_median:10.2f}')"
   ]
  },
  {
   "cell_type": "markdown",
   "metadata": {},
   "source": [
    "Co to to takie dziwne **`:10.2f`** w f-stringu? Zob. https://docs.python.org/3/library/string.html#format-specification-mini-language."
   ]
  },
  {
   "cell_type": "markdown",
   "metadata": {},
   "source": [
    "## 2.3. Czy posiadanie karty multisport związane jest z wysokością zarobków"
   ]
  },
  {
   "cell_type": "code",
   "execution_count": 125,
   "metadata": {},
   "outputs": [],
   "source": [
    "multisport_to_salaries = defaultdict(list)\n",
    "\n",
    "for person in people:\n",
    "    salary = person['monthly_salary']\n",
    "    multisport = person['multisport']\n",
    "    if multisport is not None:\n",
    "        multisport_to_salaries[multisport].append(salary)"
   ]
  },
  {
   "cell_type": "code",
   "execution_count": 126,
   "metadata": {},
   "outputs": [
    {
     "name": "stdout",
     "output_type": "stream",
     "text": [
      "Multisport\n",
      "\t False\n",
      "\t\t mean   =    5290.12\n",
      "\t\t median =    4229.11\n",
      "\t True\n",
      "\t\t mean   =    5096.26\n",
      "\t\t median =    4495.10\n"
     ]
    }
   ],
   "source": [
    "print('Multisport')\n",
    "\n",
    "for multisport, salaries in multisport_to_salaries.items():\n",
    "    salary_mean = mean(salaries).quantize(Decimal('0.01'))\n",
    "    salary_median = median(salaries).quantize(Decimal('0.01'))\n",
    "    \n",
    "    print(f'\\t {multisport}')\n",
    "    print(f'\\t\\t mean   = {salary_mean:10.2f}')\n",
    "    print(f'\\t\\t median = {salary_median:10.2f}')"
   ]
  },
  {
   "cell_type": "markdown",
   "metadata": {},
   "source": [
    "## 2.4. Liczba osób pracujących w poszczególnych działach firmy"
   ]
  },
  {
   "cell_type": "code",
   "execution_count": 127,
   "metadata": {},
   "outputs": [
    {
     "data": {
      "text/plain": [
       "Counter({'a': 3, 'b': 55})"
      ]
     },
     "execution_count": 127,
     "metadata": {},
     "output_type": "execute_result"
    }
   ],
   "source": [
    "from collections import Counter\n",
    "\n",
    "counter = Counter()\n",
    "\n",
    "counter['a'] += 1\n",
    "counter['a'] += 1\n",
    "counter['a'] += 1\n",
    "\n",
    "counter['b'] += 55\n",
    "\n",
    "counter"
   ]
  },
  {
   "cell_type": "markdown",
   "metadata": {},
   "source": [
    "Typ **`Counter`**: https://docs.python.org/3.7/library/collections.html#collections.Counter."
   ]
  },
  {
   "cell_type": "code",
   "execution_count": 128,
   "metadata": {},
   "outputs": [
    {
     "data": {
      "text/plain": [
       "[('SPRZEDAŻ', 334),\n",
       " ('MARKETING', 253),\n",
       " ('LOGISTYKA', 240),\n",
       " ('KSIĘGOWOŚĆ', 199),\n",
       " ('KADRY', 185),\n",
       " ('CZYSTOŚĆ', 160),\n",
       " ('OCHRONA', 70),\n",
       " ('IT', 39),\n",
       " ('ZARZĄD', 16)]"
      ]
     },
     "execution_count": 128,
     "metadata": {},
     "output_type": "execute_result"
    }
   ],
   "source": [
    "department_to_employee_count = Counter()\n",
    "\n",
    "for person in people:\n",
    "    department = person['department']\n",
    "    if department:\n",
    "        department_to_employee_count[department] += 1\n",
    "\n",
    "sorted(\n",
    "    department_to_employee_count.items(),\n",
    "    key=lambda x: x[1],\n",
    "    reverse=True,\n",
    ")"
   ]
  },
  {
   "cell_type": "markdown",
   "metadata": {},
   "source": [
    "Funkcja **`sorted`** z parametrami `key` oraz `reverse`: https://docs.python.org/3/library/functions.html#sorted."
   ]
  },
  {
   "cell_type": "markdown",
   "metadata": {},
   "source": [
    "## 2.5. Kto zarabia najwięcej a kto najmniej"
   ]
  },
  {
   "cell_type": "code",
   "execution_count": 129,
   "metadata": {},
   "outputs": [],
   "source": [
    "salaries = [\n",
    "    person['monthly_salary']\n",
    "    for person in people \n",
    "    if person['monthly_salary'] is not None\n",
    "]"
   ]
  },
  {
   "cell_type": "code",
   "execution_count": 130,
   "metadata": {},
   "outputs": [
    {
     "data": {
      "text/plain": [
       "Decimal('436050.00')"
      ]
     },
     "execution_count": 130,
     "metadata": {},
     "output_type": "execute_result"
    }
   ],
   "source": [
    "max(salaries)"
   ]
  },
  {
   "cell_type": "markdown",
   "metadata": {},
   "source": [
    "Funkcja **`max`**: https://docs.python.org/3/library/functions.html#max."
   ]
  },
  {
   "cell_type": "markdown",
   "metadata": {},
   "source": [
    ":O ... chyba CEO znaleźliśmy ;)"
   ]
  },
  {
   "cell_type": "code",
   "execution_count": 131,
   "metadata": {},
   "outputs": [
    {
     "data": {
      "text/plain": [
       "Decimal('2126.10')"
      ]
     },
     "execution_count": 131,
     "metadata": {},
     "output_type": "execute_result"
    }
   ],
   "source": [
    "min(salaries)"
   ]
  },
  {
   "cell_type": "markdown",
   "metadata": {},
   "source": [
    "Funkcja **`min`**: https://docs.python.org/3/library/functions.html#min."
   ]
  },
  {
   "cell_type": "markdown",
   "metadata": {},
   "source": [
    "OK, ale kto jest kim..."
   ]
  },
  {
   "cell_type": "code",
   "execution_count": 132,
   "metadata": {},
   "outputs": [
    {
     "data": {
      "text/plain": [
       "OrderedDict([('first_name', 'Renata'),\n",
       "             ('last_name', 'Pawlak'),\n",
       "             ('id_number', 'ZA/760256/2015'),\n",
       "             ('employment_start_date', datetime.date(2015, 5, 14)),\n",
       "             ('monthly_salary', Decimal('436050.00')),\n",
       "             ('department', 'ZARZĄD'),\n",
       "             ('multisport', False)])"
      ]
     },
     "execution_count": 132,
     "metadata": {},
     "output_type": "execute_result"
    }
   ],
   "source": [
    "max(people, key=lambda person: person['monthly_salary'])"
   ]
  },
  {
   "cell_type": "code",
   "execution_count": 133,
   "metadata": {},
   "outputs": [
    {
     "data": {
      "text/plain": [
       "OrderedDict([('first_name', 'Bogumiła'),\n",
       "             ('last_name', 'Nowicka'),\n",
       "             ('id_number', 'CZ/471338/2013'),\n",
       "             ('employment_start_date', datetime.date(2013, 9, 21)),\n",
       "             ('monthly_salary', Decimal('2126.10')),\n",
       "             ('department', 'CZYSTOŚĆ'),\n",
       "             ('multisport', False)])"
      ]
     },
     "execution_count": 133,
     "metadata": {},
     "output_type": "execute_result"
    }
   ],
   "source": [
    "min(people, key=lambda person: person['monthly_salary'])"
   ]
  },
  {
   "cell_type": "markdown",
   "metadata": {},
   "source": [
    "## 2.6. Kiedy zatrudniony został pierwszy pracownik działu kadry"
   ]
  },
  {
   "cell_type": "code",
   "execution_count": 134,
   "metadata": {},
   "outputs": [],
   "source": [
    "hr_people = [\n",
    "    person\n",
    "    for person in people\n",
    "    if person['department'] == 'KADRY'\n",
    "    if person['employment_start_date'] is not None\n",
    "]"
   ]
  },
  {
   "cell_type": "code",
   "execution_count": 135,
   "metadata": {},
   "outputs": [
    {
     "data": {
      "text/plain": [
       "OrderedDict([('first_name', 'Józefa'),\n",
       "             ('last_name', 'Adamczyk'),\n",
       "             ('id_number', 'KA/165959/2009'),\n",
       "             ('employment_start_date', datetime.date(2009, 8, 13)),\n",
       "             ('monthly_salary', Decimal('4082.08')),\n",
       "             ('department', 'KADRY'),\n",
       "             ('multisport', False)])"
      ]
     },
     "execution_count": 135,
     "metadata": {},
     "output_type": "execute_result"
    }
   ],
   "source": [
    "hr_empl = min(hr_people, \n",
    "              key=lambda person: person['employment_start_date'])\n",
    "hr_empl['employment_start_date']\n",
    "hr_empl"
   ]
  },
  {
   "cell_type": "markdown",
   "metadata": {},
   "source": [
    "# 3. WIZUALIZACJA DANYCH"
   ]
  },
  {
   "cell_type": "markdown",
   "metadata": {},
   "source": [
    "Użyjemy biblioteki **Bokeh**: https://bokeh.pydata.org/."
   ]
  },
  {
   "cell_type": "code",
   "execution_count": 136,
   "metadata": {},
   "outputs": [
    {
     "data": {
      "text/html": [
       "\n",
       "    <div class=\"bk-root\">\n",
       "        <a href=\"https://bokeh.pydata.org\" target=\"_blank\" class=\"bk-logo bk-logo-small bk-logo-notebook\"></a>\n",
       "        <span id=\"1383\">Loading BokehJS ...</span>\n",
       "    </div>"
      ]
     },
     "metadata": {},
     "output_type": "display_data"
    },
    {
     "data": {
      "application/javascript": [
       "\n",
       "(function(root) {\n",
       "  function now() {\n",
       "    return new Date();\n",
       "  }\n",
       "\n",
       "  var force = true;\n",
       "\n",
       "  if (typeof (root._bokeh_onload_callbacks) === \"undefined\" || force === true) {\n",
       "    root._bokeh_onload_callbacks = [];\n",
       "    root._bokeh_is_loading = undefined;\n",
       "  }\n",
       "\n",
       "  var JS_MIME_TYPE = 'application/javascript';\n",
       "  var HTML_MIME_TYPE = 'text/html';\n",
       "  var EXEC_MIME_TYPE = 'application/vnd.bokehjs_exec.v0+json';\n",
       "  var CLASS_NAME = 'output_bokeh rendered_html';\n",
       "\n",
       "  /**\n",
       "   * Render data to the DOM node\n",
       "   */\n",
       "  function render(props, node) {\n",
       "    var script = document.createElement(\"script\");\n",
       "    node.appendChild(script);\n",
       "  }\n",
       "\n",
       "  /**\n",
       "   * Handle when an output is cleared or removed\n",
       "   */\n",
       "  function handleClearOutput(event, handle) {\n",
       "    var cell = handle.cell;\n",
       "\n",
       "    var id = cell.output_area._bokeh_element_id;\n",
       "    var server_id = cell.output_area._bokeh_server_id;\n",
       "    // Clean up Bokeh references\n",
       "    if (id != null && id in Bokeh.index) {\n",
       "      Bokeh.index[id].model.document.clear();\n",
       "      delete Bokeh.index[id];\n",
       "    }\n",
       "\n",
       "    if (server_id !== undefined) {\n",
       "      // Clean up Bokeh references\n",
       "      var cmd = \"from bokeh.io.state import curstate; print(curstate().uuid_to_server['\" + server_id + \"'].get_sessions()[0].document.roots[0]._id)\";\n",
       "      cell.notebook.kernel.execute(cmd, {\n",
       "        iopub: {\n",
       "          output: function(msg) {\n",
       "            var id = msg.content.text.trim();\n",
       "            if (id in Bokeh.index) {\n",
       "              Bokeh.index[id].model.document.clear();\n",
       "              delete Bokeh.index[id];\n",
       "            }\n",
       "          }\n",
       "        }\n",
       "      });\n",
       "      // Destroy server and session\n",
       "      var cmd = \"import bokeh.io.notebook as ion; ion.destroy_server('\" + server_id + \"')\";\n",
       "      cell.notebook.kernel.execute(cmd);\n",
       "    }\n",
       "  }\n",
       "\n",
       "  /**\n",
       "   * Handle when a new output is added\n",
       "   */\n",
       "  function handleAddOutput(event, handle) {\n",
       "    var output_area = handle.output_area;\n",
       "    var output = handle.output;\n",
       "\n",
       "    // limit handleAddOutput to display_data with EXEC_MIME_TYPE content only\n",
       "    if ((output.output_type != \"display_data\") || (!output.data.hasOwnProperty(EXEC_MIME_TYPE))) {\n",
       "      return\n",
       "    }\n",
       "\n",
       "    var toinsert = output_area.element.find(\".\" + CLASS_NAME.split(' ')[0]);\n",
       "\n",
       "    if (output.metadata[EXEC_MIME_TYPE][\"id\"] !== undefined) {\n",
       "      toinsert[toinsert.length - 1].firstChild.textContent = output.data[JS_MIME_TYPE];\n",
       "      // store reference to embed id on output_area\n",
       "      output_area._bokeh_element_id = output.metadata[EXEC_MIME_TYPE][\"id\"];\n",
       "    }\n",
       "    if (output.metadata[EXEC_MIME_TYPE][\"server_id\"] !== undefined) {\n",
       "      var bk_div = document.createElement(\"div\");\n",
       "      bk_div.innerHTML = output.data[HTML_MIME_TYPE];\n",
       "      var script_attrs = bk_div.children[0].attributes;\n",
       "      for (var i = 0; i < script_attrs.length; i++) {\n",
       "        toinsert[toinsert.length - 1].firstChild.setAttribute(script_attrs[i].name, script_attrs[i].value);\n",
       "      }\n",
       "      // store reference to server id on output_area\n",
       "      output_area._bokeh_server_id = output.metadata[EXEC_MIME_TYPE][\"server_id\"];\n",
       "    }\n",
       "  }\n",
       "\n",
       "  function register_renderer(events, OutputArea) {\n",
       "\n",
       "    function append_mime(data, metadata, element) {\n",
       "      // create a DOM node to render to\n",
       "      var toinsert = this.create_output_subarea(\n",
       "        metadata,\n",
       "        CLASS_NAME,\n",
       "        EXEC_MIME_TYPE\n",
       "      );\n",
       "      this.keyboard_manager.register_events(toinsert);\n",
       "      // Render to node\n",
       "      var props = {data: data, metadata: metadata[EXEC_MIME_TYPE]};\n",
       "      render(props, toinsert[toinsert.length - 1]);\n",
       "      element.append(toinsert);\n",
       "      return toinsert\n",
       "    }\n",
       "\n",
       "    /* Handle when an output is cleared or removed */\n",
       "    events.on('clear_output.CodeCell', handleClearOutput);\n",
       "    events.on('delete.Cell', handleClearOutput);\n",
       "\n",
       "    /* Handle when a new output is added */\n",
       "    events.on('output_added.OutputArea', handleAddOutput);\n",
       "\n",
       "    /**\n",
       "     * Register the mime type and append_mime function with output_area\n",
       "     */\n",
       "    OutputArea.prototype.register_mime_type(EXEC_MIME_TYPE, append_mime, {\n",
       "      /* Is output safe? */\n",
       "      safe: true,\n",
       "      /* Index of renderer in `output_area.display_order` */\n",
       "      index: 0\n",
       "    });\n",
       "  }\n",
       "\n",
       "  // register the mime type if in Jupyter Notebook environment and previously unregistered\n",
       "  if (root.Jupyter !== undefined) {\n",
       "    var events = require('base/js/events');\n",
       "    var OutputArea = require('notebook/js/outputarea').OutputArea;\n",
       "\n",
       "    if (OutputArea.prototype.mime_types().indexOf(EXEC_MIME_TYPE) == -1) {\n",
       "      register_renderer(events, OutputArea);\n",
       "    }\n",
       "  }\n",
       "\n",
       "  \n",
       "  if (typeof (root._bokeh_timeout) === \"undefined\" || force === true) {\n",
       "    root._bokeh_timeout = Date.now() + 5000;\n",
       "    root._bokeh_failed_load = false;\n",
       "  }\n",
       "\n",
       "  var NB_LOAD_WARNING = {'data': {'text/html':\n",
       "     \"<div style='background-color: #fdd'>\\n\"+\n",
       "     \"<p>\\n\"+\n",
       "     \"BokehJS does not appear to have successfully loaded. If loading BokehJS from CDN, this \\n\"+\n",
       "     \"may be due to a slow or bad network connection. Possible fixes:\\n\"+\n",
       "     \"</p>\\n\"+\n",
       "     \"<ul>\\n\"+\n",
       "     \"<li>re-rerun `output_notebook()` to attempt to load from CDN again, or</li>\\n\"+\n",
       "     \"<li>use INLINE resources instead, as so:</li>\\n\"+\n",
       "     \"</ul>\\n\"+\n",
       "     \"<code>\\n\"+\n",
       "     \"from bokeh.resources import INLINE\\n\"+\n",
       "     \"output_notebook(resources=INLINE)\\n\"+\n",
       "     \"</code>\\n\"+\n",
       "     \"</div>\"}};\n",
       "\n",
       "  function display_loaded() {\n",
       "    var el = document.getElementById(\"1383\");\n",
       "    if (el != null) {\n",
       "      el.textContent = \"BokehJS is loading...\";\n",
       "    }\n",
       "    if (root.Bokeh !== undefined) {\n",
       "      if (el != null) {\n",
       "        el.textContent = \"BokehJS \" + root.Bokeh.version + \" successfully loaded.\";\n",
       "      }\n",
       "    } else if (Date.now() < root._bokeh_timeout) {\n",
       "      setTimeout(display_loaded, 100)\n",
       "    }\n",
       "  }\n",
       "\n",
       "\n",
       "  function run_callbacks() {\n",
       "    try {\n",
       "      root._bokeh_onload_callbacks.forEach(function(callback) { callback() });\n",
       "    }\n",
       "    finally {\n",
       "      delete root._bokeh_onload_callbacks\n",
       "    }\n",
       "    console.info(\"Bokeh: all callbacks have finished\");\n",
       "  }\n",
       "\n",
       "  function load_libs(js_urls, callback) {\n",
       "    root._bokeh_onload_callbacks.push(callback);\n",
       "    if (root._bokeh_is_loading > 0) {\n",
       "      console.log(\"Bokeh: BokehJS is being loaded, scheduling callback at\", now());\n",
       "      return null;\n",
       "    }\n",
       "    if (js_urls == null || js_urls.length === 0) {\n",
       "      run_callbacks();\n",
       "      return null;\n",
       "    }\n",
       "    console.log(\"Bokeh: BokehJS not loaded, scheduling load and callback at\", now());\n",
       "    root._bokeh_is_loading = js_urls.length;\n",
       "    for (var i = 0; i < js_urls.length; i++) {\n",
       "      var url = js_urls[i];\n",
       "      var s = document.createElement('script');\n",
       "      s.src = url;\n",
       "      s.async = false;\n",
       "      s.onreadystatechange = s.onload = function() {\n",
       "        root._bokeh_is_loading--;\n",
       "        if (root._bokeh_is_loading === 0) {\n",
       "          console.log(\"Bokeh: all BokehJS libraries loaded\");\n",
       "          run_callbacks()\n",
       "        }\n",
       "      };\n",
       "      s.onerror = function() {\n",
       "        console.warn(\"failed to load library \" + url);\n",
       "      };\n",
       "      console.log(\"Bokeh: injecting script tag for BokehJS library: \", url);\n",
       "      document.getElementsByTagName(\"head\")[0].appendChild(s);\n",
       "    }\n",
       "  };var element = document.getElementById(\"1383\");\n",
       "  if (element == null) {\n",
       "    console.log(\"Bokeh: ERROR: autoload.js configured with elementid '1383' but no matching script tag was found. \")\n",
       "    return false;\n",
       "  }\n",
       "\n",
       "  var js_urls = [\"https://cdn.pydata.org/bokeh/release/bokeh-1.0.2.min.js\", \"https://cdn.pydata.org/bokeh/release/bokeh-widgets-1.0.2.min.js\", \"https://cdn.pydata.org/bokeh/release/bokeh-tables-1.0.2.min.js\", \"https://cdn.pydata.org/bokeh/release/bokeh-gl-1.0.2.min.js\"];\n",
       "\n",
       "  var inline_js = [\n",
       "    function(Bokeh) {\n",
       "      Bokeh.set_log_level(\"info\");\n",
       "    },\n",
       "    \n",
       "    function(Bokeh) {\n",
       "      \n",
       "    },\n",
       "    function(Bokeh) {\n",
       "      console.log(\"Bokeh: injecting CSS: https://cdn.pydata.org/bokeh/release/bokeh-1.0.2.min.css\");\n",
       "      Bokeh.embed.inject_css(\"https://cdn.pydata.org/bokeh/release/bokeh-1.0.2.min.css\");\n",
       "      console.log(\"Bokeh: injecting CSS: https://cdn.pydata.org/bokeh/release/bokeh-widgets-1.0.2.min.css\");\n",
       "      Bokeh.embed.inject_css(\"https://cdn.pydata.org/bokeh/release/bokeh-widgets-1.0.2.min.css\");\n",
       "      console.log(\"Bokeh: injecting CSS: https://cdn.pydata.org/bokeh/release/bokeh-tables-1.0.2.min.css\");\n",
       "      Bokeh.embed.inject_css(\"https://cdn.pydata.org/bokeh/release/bokeh-tables-1.0.2.min.css\");\n",
       "    }\n",
       "  ];\n",
       "\n",
       "  function run_inline_js() {\n",
       "    \n",
       "    if ((root.Bokeh !== undefined) || (force === true)) {\n",
       "      for (var i = 0; i < inline_js.length; i++) {\n",
       "        inline_js[i].call(root, root.Bokeh);\n",
       "      }if (force === true) {\n",
       "        display_loaded();\n",
       "      }} else if (Date.now() < root._bokeh_timeout) {\n",
       "      setTimeout(run_inline_js, 100);\n",
       "    } else if (!root._bokeh_failed_load) {\n",
       "      console.log(\"Bokeh: BokehJS failed to load within specified timeout.\");\n",
       "      root._bokeh_failed_load = true;\n",
       "    } else if (force !== true) {\n",
       "      var cell = $(document.getElementById(\"1383\")).parents('.cell').data().cell;\n",
       "      cell.output_area.append_execute_result(NB_LOAD_WARNING)\n",
       "    }\n",
       "\n",
       "  }\n",
       "\n",
       "  if (root._bokeh_is_loading === 0) {\n",
       "    console.log(\"Bokeh: BokehJS loaded, going straight to plotting\");\n",
       "    run_inline_js();\n",
       "  } else {\n",
       "    load_libs(js_urls, function() {\n",
       "      console.log(\"Bokeh: BokehJS plotting callback run at\", now());\n",
       "      run_inline_js();\n",
       "    });\n",
       "  }\n",
       "}(window));"
      ],
      "application/vnd.bokehjs_load.v0+json": "\n(function(root) {\n  function now() {\n    return new Date();\n  }\n\n  var force = true;\n\n  if (typeof (root._bokeh_onload_callbacks) === \"undefined\" || force === true) {\n    root._bokeh_onload_callbacks = [];\n    root._bokeh_is_loading = undefined;\n  }\n\n  \n\n  \n  if (typeof (root._bokeh_timeout) === \"undefined\" || force === true) {\n    root._bokeh_timeout = Date.now() + 5000;\n    root._bokeh_failed_load = false;\n  }\n\n  var NB_LOAD_WARNING = {'data': {'text/html':\n     \"<div style='background-color: #fdd'>\\n\"+\n     \"<p>\\n\"+\n     \"BokehJS does not appear to have successfully loaded. If loading BokehJS from CDN, this \\n\"+\n     \"may be due to a slow or bad network connection. Possible fixes:\\n\"+\n     \"</p>\\n\"+\n     \"<ul>\\n\"+\n     \"<li>re-rerun `output_notebook()` to attempt to load from CDN again, or</li>\\n\"+\n     \"<li>use INLINE resources instead, as so:</li>\\n\"+\n     \"</ul>\\n\"+\n     \"<code>\\n\"+\n     \"from bokeh.resources import INLINE\\n\"+\n     \"output_notebook(resources=INLINE)\\n\"+\n     \"</code>\\n\"+\n     \"</div>\"}};\n\n  function display_loaded() {\n    var el = document.getElementById(\"1383\");\n    if (el != null) {\n      el.textContent = \"BokehJS is loading...\";\n    }\n    if (root.Bokeh !== undefined) {\n      if (el != null) {\n        el.textContent = \"BokehJS \" + root.Bokeh.version + \" successfully loaded.\";\n      }\n    } else if (Date.now() < root._bokeh_timeout) {\n      setTimeout(display_loaded, 100)\n    }\n  }\n\n\n  function run_callbacks() {\n    try {\n      root._bokeh_onload_callbacks.forEach(function(callback) { callback() });\n    }\n    finally {\n      delete root._bokeh_onload_callbacks\n    }\n    console.info(\"Bokeh: all callbacks have finished\");\n  }\n\n  function load_libs(js_urls, callback) {\n    root._bokeh_onload_callbacks.push(callback);\n    if (root._bokeh_is_loading > 0) {\n      console.log(\"Bokeh: BokehJS is being loaded, scheduling callback at\", now());\n      return null;\n    }\n    if (js_urls == null || js_urls.length === 0) {\n      run_callbacks();\n      return null;\n    }\n    console.log(\"Bokeh: BokehJS not loaded, scheduling load and callback at\", now());\n    root._bokeh_is_loading = js_urls.length;\n    for (var i = 0; i < js_urls.length; i++) {\n      var url = js_urls[i];\n      var s = document.createElement('script');\n      s.src = url;\n      s.async = false;\n      s.onreadystatechange = s.onload = function() {\n        root._bokeh_is_loading--;\n        if (root._bokeh_is_loading === 0) {\n          console.log(\"Bokeh: all BokehJS libraries loaded\");\n          run_callbacks()\n        }\n      };\n      s.onerror = function() {\n        console.warn(\"failed to load library \" + url);\n      };\n      console.log(\"Bokeh: injecting script tag for BokehJS library: \", url);\n      document.getElementsByTagName(\"head\")[0].appendChild(s);\n    }\n  };var element = document.getElementById(\"1383\");\n  if (element == null) {\n    console.log(\"Bokeh: ERROR: autoload.js configured with elementid '1383' but no matching script tag was found. \")\n    return false;\n  }\n\n  var js_urls = [\"https://cdn.pydata.org/bokeh/release/bokeh-1.0.2.min.js\", \"https://cdn.pydata.org/bokeh/release/bokeh-widgets-1.0.2.min.js\", \"https://cdn.pydata.org/bokeh/release/bokeh-tables-1.0.2.min.js\", \"https://cdn.pydata.org/bokeh/release/bokeh-gl-1.0.2.min.js\"];\n\n  var inline_js = [\n    function(Bokeh) {\n      Bokeh.set_log_level(\"info\");\n    },\n    \n    function(Bokeh) {\n      \n    },\n    function(Bokeh) {\n      console.log(\"Bokeh: injecting CSS: https://cdn.pydata.org/bokeh/release/bokeh-1.0.2.min.css\");\n      Bokeh.embed.inject_css(\"https://cdn.pydata.org/bokeh/release/bokeh-1.0.2.min.css\");\n      console.log(\"Bokeh: injecting CSS: https://cdn.pydata.org/bokeh/release/bokeh-widgets-1.0.2.min.css\");\n      Bokeh.embed.inject_css(\"https://cdn.pydata.org/bokeh/release/bokeh-widgets-1.0.2.min.css\");\n      console.log(\"Bokeh: injecting CSS: https://cdn.pydata.org/bokeh/release/bokeh-tables-1.0.2.min.css\");\n      Bokeh.embed.inject_css(\"https://cdn.pydata.org/bokeh/release/bokeh-tables-1.0.2.min.css\");\n    }\n  ];\n\n  function run_inline_js() {\n    \n    if ((root.Bokeh !== undefined) || (force === true)) {\n      for (var i = 0; i < inline_js.length; i++) {\n        inline_js[i].call(root, root.Bokeh);\n      }if (force === true) {\n        display_loaded();\n      }} else if (Date.now() < root._bokeh_timeout) {\n      setTimeout(run_inline_js, 100);\n    } else if (!root._bokeh_failed_load) {\n      console.log(\"Bokeh: BokehJS failed to load within specified timeout.\");\n      root._bokeh_failed_load = true;\n    } else if (force !== true) {\n      var cell = $(document.getElementById(\"1383\")).parents('.cell').data().cell;\n      cell.output_area.append_execute_result(NB_LOAD_WARNING)\n    }\n\n  }\n\n  if (root._bokeh_is_loading === 0) {\n    console.log(\"Bokeh: BokehJS loaded, going straight to plotting\");\n    run_inline_js();\n  } else {\n    load_libs(js_urls, function() {\n      console.log(\"Bokeh: BokehJS plotting callback run at\", now());\n      run_inline_js();\n    });\n  }\n}(window));"
     },
     "metadata": {},
     "output_type": "display_data"
    }
   ],
   "source": [
    "from bokeh.io import output_notebook, show\n",
    "from bokeh.plotting import figure\n",
    "\n",
    "output_notebook()"
   ]
  },
  {
   "cell_type": "markdown",
   "metadata": {},
   "source": [
    "## Średnie zarobki w poszczególnych działach"
   ]
  },
  {
   "cell_type": "code",
   "execution_count": 137,
   "metadata": {},
   "outputs": [],
   "source": [
    "from collections import defaultdict\n",
    "from statistics import mean\n",
    "\n",
    "\n",
    "department_to_salaries = defaultdict(list)\n",
    "\n",
    "for person in people:\n",
    "    salary = person['monthly_salary']\n",
    "    department = person['department']\n",
    "    if department is not None:\n",
    "        department_to_salaries[department].append(salary)\n",
    "        \n",
    "department_to_salary_mean = tuple(\n",
    "    (department, mean(salaries).quantize(Decimal('0.01')))\n",
    "    for department, salaries in department_to_salaries.items()\n",
    "    if department not in {None} #, 'ZARZĄD'}\n",
    ")\n",
    "\n",
    "department_to_salary_mean = sorted(department_to_salary_mean, key=lambda t: t[1])"
   ]
  },
  {
   "cell_type": "code",
   "execution_count": 138,
   "metadata": {},
   "outputs": [],
   "source": [
    "from bokeh.models import ColumnDataSource\n",
    "from bokeh.palettes import Spectral9, Colorblind8\n",
    "from bokeh.models import NumeralTickFormatter, DatetimeTickFormatter"
   ]
  },
  {
   "cell_type": "code",
   "execution_count": 139,
   "metadata": {},
   "outputs": [],
   "source": [
    "def draw_mean_salary(departments, means, palette):\n",
    "    source = ColumnDataSource(data=dict(\n",
    "        departments=departments, means=means, color=palette,\n",
    "    ))\n",
    "\n",
    "    p = figure(\n",
    "        x_range=departments,\n",
    "        y_range=(0, int(max(means))*1.1), \n",
    "        plot_height=250,\n",
    "        plot_width=700,\n",
    "        title=\"Średnie wynagrodzenie w poszczególnych działach\",\n",
    "    )\n",
    "    p.vbar(\n",
    "        x='departments',\n",
    "        top='means',\n",
    "        width=0.5,\n",
    "        color='color',\n",
    "        legend=False,\n",
    "        source=source,\n",
    "    )\n",
    "\n",
    "    p.xgrid.grid_line_color = None\n",
    "    p.yaxis[0].formatter = NumeralTickFormatter(format=\"0.00\")\n",
    "\n",
    "    show(p)"
   ]
  },
  {
   "cell_type": "code",
   "execution_count": 140,
   "metadata": {},
   "outputs": [
    {
     "data": {
      "text/html": [
       "\n",
       "\n",
       "\n",
       "\n",
       "\n",
       "\n",
       "  <div class=\"bk-root\" id=\"785f0390-1612-4db4-8d13-b50dc6ed3a7d\"></div>\n"
      ]
     },
     "metadata": {},
     "output_type": "display_data"
    },
    {
     "data": {
      "application/javascript": [
       "(function(root) {\n",
       "  function embed_document(root) {\n",
       "    \n",
       "  var docs_json = {\"7943f8a2-58d2-47ce-a221-d7c48e824172\":{\"roots\":{\"references\":[{\"attributes\":{\"below\":[{\"id\":\"1396\",\"type\":\"CategoricalAxis\"}],\"left\":[{\"id\":\"1400\",\"type\":\"LinearAxis\"}],\"plot_height\":250,\"plot_width\":700,\"renderers\":[{\"id\":\"1396\",\"type\":\"CategoricalAxis\"},{\"id\":\"1399\",\"type\":\"Grid\"},{\"id\":\"1400\",\"type\":\"LinearAxis\"},{\"id\":\"1404\",\"type\":\"Grid\"},{\"id\":\"1413\",\"type\":\"BoxAnnotation\"},{\"id\":\"1423\",\"type\":\"GlyphRenderer\"}],\"title\":{\"id\":\"1385\",\"type\":\"Title\"},\"toolbar\":{\"id\":\"1411\",\"type\":\"Toolbar\"},\"x_range\":{\"id\":\"1388\",\"type\":\"FactorRange\"},\"x_scale\":{\"id\":\"1392\",\"type\":\"CategoricalScale\"},\"y_range\":{\"id\":\"1390\",\"type\":\"Range1d\"},\"y_scale\":{\"id\":\"1394\",\"type\":\"LinearScale\"}},\"id\":\"1386\",\"subtype\":\"Figure\",\"type\":\"Plot\"},{\"attributes\":{},\"id\":\"1392\",\"type\":\"CategoricalScale\"},{\"attributes\":{},\"id\":\"1394\",\"type\":\"LinearScale\"},{\"attributes\":{\"source\":{\"id\":\"1384\",\"type\":\"ColumnDataSource\"}},\"id\":\"1424\",\"type\":\"CDSView\"},{\"attributes\":{\"formatter\":{\"id\":\"1462\",\"type\":\"CategoricalTickFormatter\"},\"plot\":{\"id\":\"1386\",\"subtype\":\"Figure\",\"type\":\"Plot\"},\"ticker\":{\"id\":\"1397\",\"type\":\"CategoricalTicker\"}},\"id\":\"1396\",\"type\":\"CategoricalAxis\"},{\"attributes\":{\"format\":\"0.00\"},\"id\":\"1425\",\"type\":\"NumeralTickFormatter\"},{\"attributes\":{},\"id\":\"1397\",\"type\":\"CategoricalTicker\"},{\"attributes\":{\"grid_line_color\":{\"value\":null},\"plot\":{\"id\":\"1386\",\"subtype\":\"Figure\",\"type\":\"Plot\"},\"ticker\":{\"id\":\"1397\",\"type\":\"CategoricalTicker\"}},\"id\":\"1399\",\"type\":\"Grid\"},{\"attributes\":{},\"id\":\"1462\",\"type\":\"CategoricalTickFormatter\"},{\"attributes\":{\"formatter\":{\"id\":\"1425\",\"type\":\"NumeralTickFormatter\"},\"plot\":{\"id\":\"1386\",\"subtype\":\"Figure\",\"type\":\"Plot\"},\"ticker\":{\"id\":\"1401\",\"type\":\"BasicTicker\"}},\"id\":\"1400\",\"type\":\"LinearAxis\"},{\"attributes\":{},\"id\":\"1465\",\"type\":\"UnionRenderers\"},{\"attributes\":{},\"id\":\"1401\",\"type\":\"BasicTicker\"},{\"attributes\":{},\"id\":\"1466\",\"type\":\"Selection\"},{\"attributes\":{\"dimension\":1,\"plot\":{\"id\":\"1386\",\"subtype\":\"Figure\",\"type\":\"Plot\"},\"ticker\":{\"id\":\"1401\",\"type\":\"BasicTicker\"}},\"id\":\"1404\",\"type\":\"Grid\"},{\"attributes\":{\"fill_alpha\":{\"value\":0.1},\"fill_color\":{\"value\":\"#1f77b4\"},\"line_alpha\":{\"value\":0.1},\"line_color\":{\"value\":\"#1f77b4\"},\"top\":{\"field\":\"means\"},\"width\":{\"value\":0.5},\"x\":{\"field\":\"departments\"}},\"id\":\"1422\",\"type\":\"VBar\"},{\"attributes\":{\"active_drag\":\"auto\",\"active_inspect\":\"auto\",\"active_multi\":null,\"active_scroll\":\"auto\",\"active_tap\":\"auto\",\"tools\":[{\"id\":\"1405\",\"type\":\"PanTool\"},{\"id\":\"1406\",\"type\":\"WheelZoomTool\"},{\"id\":\"1407\",\"type\":\"BoxZoomTool\"},{\"id\":\"1408\",\"type\":\"SaveTool\"},{\"id\":\"1409\",\"type\":\"ResetTool\"},{\"id\":\"1410\",\"type\":\"HelpTool\"}]},\"id\":\"1411\",\"type\":\"Toolbar\"},{\"attributes\":{},\"id\":\"1405\",\"type\":\"PanTool\"},{\"attributes\":{},\"id\":\"1406\",\"type\":\"WheelZoomTool\"},{\"attributes\":{\"overlay\":{\"id\":\"1413\",\"type\":\"BoxAnnotation\"}},\"id\":\"1407\",\"type\":\"BoxZoomTool\"},{\"attributes\":{\"plot\":null,\"text\":\"\\u015arednie wynagrodzenie w poszczeg\\u00f3lnych dzia\\u0142ach\"},\"id\":\"1385\",\"type\":\"Title\"},{\"attributes\":{},\"id\":\"1408\",\"type\":\"SaveTool\"},{\"attributes\":{},\"id\":\"1409\",\"type\":\"ResetTool\"},{\"attributes\":{\"fill_color\":{\"field\":\"color\"},\"line_color\":{\"field\":\"color\"},\"top\":{\"field\":\"means\"},\"width\":{\"value\":0.5},\"x\":{\"field\":\"departments\"}},\"id\":\"1421\",\"type\":\"VBar\"},{\"attributes\":{\"callback\":null,\"data\":{\"color\":[\"#3288bd\",\"#66c2a5\",\"#abdda4\",\"#e6f598\",\"#ffffbf\",\"#fee08b\",\"#fdae61\",\"#f46d43\",\"#d53e4f\"],\"departments\":[\"CZYSTO\\u015a\\u0106\",\"OCHRONA\",\"LOGISTYKA\",\"SPRZEDA\\u017b\",\"KADRY\",\"MARKETING\",\"KSI\\u0118GOWO\\u015a\\u0106\",\"IT\",\"ZARZ\\u0104D\"],\"means\":[2842.85,3206.21,3881.02,4334.24,4418.94,4591.66,5732.21,7347.72,90787.42]},\"selected\":{\"id\":\"1466\",\"type\":\"Selection\"},\"selection_policy\":{\"id\":\"1465\",\"type\":\"UnionRenderers\"}},\"id\":\"1384\",\"type\":\"ColumnDataSource\"},{\"attributes\":{},\"id\":\"1410\",\"type\":\"HelpTool\"},{\"attributes\":{\"callback\":null,\"factors\":[\"CZYSTO\\u015a\\u0106\",\"OCHRONA\",\"LOGISTYKA\",\"SPRZEDA\\u017b\",\"KADRY\",\"MARKETING\",\"KSI\\u0118GOWO\\u015a\\u0106\",\"IT\",\"ZARZ\\u0104D\"]},\"id\":\"1388\",\"type\":\"FactorRange\"},{\"attributes\":{\"data_source\":{\"id\":\"1384\",\"type\":\"ColumnDataSource\"},\"glyph\":{\"id\":\"1421\",\"type\":\"VBar\"},\"hover_glyph\":null,\"muted_glyph\":null,\"nonselection_glyph\":{\"id\":\"1422\",\"type\":\"VBar\"},\"selection_glyph\":null,\"view\":{\"id\":\"1424\",\"type\":\"CDSView\"}},\"id\":\"1423\",\"type\":\"GlyphRenderer\"},{\"attributes\":{\"callback\":null,\"end\":99865.70000000001},\"id\":\"1390\",\"type\":\"Range1d\"},{\"attributes\":{\"bottom_units\":\"screen\",\"fill_alpha\":{\"value\":0.5},\"fill_color\":{\"value\":\"lightgrey\"},\"left_units\":\"screen\",\"level\":\"overlay\",\"line_alpha\":{\"value\":1.0},\"line_color\":{\"value\":\"black\"},\"line_dash\":[4,4],\"line_width\":{\"value\":2},\"plot\":null,\"render_mode\":\"css\",\"right_units\":\"screen\",\"top_units\":\"screen\"},\"id\":\"1413\",\"type\":\"BoxAnnotation\"}],\"root_ids\":[\"1386\"]},\"title\":\"Bokeh Application\",\"version\":\"1.0.2\"}};\n",
       "  var render_items = [{\"docid\":\"7943f8a2-58d2-47ce-a221-d7c48e824172\",\"roots\":{\"1386\":\"785f0390-1612-4db4-8d13-b50dc6ed3a7d\"}}];\n",
       "  root.Bokeh.embed.embed_items_notebook(docs_json, render_items);\n",
       "\n",
       "  }\n",
       "  if (root.Bokeh !== undefined) {\n",
       "    embed_document(root);\n",
       "  } else {\n",
       "    var attempts = 0;\n",
       "    var timer = setInterval(function(root) {\n",
       "      if (root.Bokeh !== undefined) {\n",
       "        embed_document(root);\n",
       "        clearInterval(timer);\n",
       "      }\n",
       "      attempts++;\n",
       "      if (attempts > 100) {\n",
       "        console.log(\"Bokeh: ERROR: Unable to run BokehJS code because BokehJS library is missing\");\n",
       "        clearInterval(timer);\n",
       "      }\n",
       "    }, 10, root)\n",
       "  }\n",
       "})(window);"
      ],
      "application/vnd.bokehjs_exec.v0+json": ""
     },
     "metadata": {
      "application/vnd.bokehjs_exec.v0+json": {
       "id": "1386"
      }
     },
     "output_type": "display_data"
    }
   ],
   "source": [
    "departments = [item[0] for item in department_to_salary_mean]\n",
    "means = [item[1] for item in department_to_salary_mean]\n",
    "draw_mean_salary(departments, means, Spectral9)"
   ]
  },
  {
   "cell_type": "markdown",
   "metadata": {},
   "source": [
    "ok... zobaczmy bez zarządu:"
   ]
  },
  {
   "cell_type": "code",
   "execution_count": 141,
   "metadata": {},
   "outputs": [
    {
     "data": {
      "text/html": [
       "\n",
       "\n",
       "\n",
       "\n",
       "\n",
       "\n",
       "  <div class=\"bk-root\" id=\"c11683a4-a028-44ce-87f3-20de3058af69\"></div>\n"
      ]
     },
     "metadata": {},
     "output_type": "display_data"
    },
    {
     "data": {
      "application/javascript": [
       "(function(root) {\n",
       "  function embed_document(root) {\n",
       "    \n",
       "  var docs_json = {\"7c9c9403-5625-4e34-b936-c5c90b611b5d\":{\"roots\":{\"references\":[{\"attributes\":{\"below\":[{\"id\":\"1521\",\"type\":\"CategoricalAxis\"}],\"left\":[{\"id\":\"1525\",\"type\":\"LinearAxis\"}],\"plot_height\":250,\"plot_width\":700,\"renderers\":[{\"id\":\"1521\",\"type\":\"CategoricalAxis\"},{\"id\":\"1524\",\"type\":\"Grid\"},{\"id\":\"1525\",\"type\":\"LinearAxis\"},{\"id\":\"1529\",\"type\":\"Grid\"},{\"id\":\"1538\",\"type\":\"BoxAnnotation\"},{\"id\":\"1548\",\"type\":\"GlyphRenderer\"}],\"title\":{\"id\":\"1510\",\"type\":\"Title\"},\"toolbar\":{\"id\":\"1536\",\"type\":\"Toolbar\"},\"x_range\":{\"id\":\"1513\",\"type\":\"FactorRange\"},\"x_scale\":{\"id\":\"1517\",\"type\":\"CategoricalScale\"},\"y_range\":{\"id\":\"1515\",\"type\":\"Range1d\"},\"y_scale\":{\"id\":\"1519\",\"type\":\"LinearScale\"}},\"id\":\"1511\",\"subtype\":\"Figure\",\"type\":\"Plot\"},{\"attributes\":{\"overlay\":{\"id\":\"1538\",\"type\":\"BoxAnnotation\"}},\"id\":\"1532\",\"type\":\"BoxZoomTool\"},{\"attributes\":{},\"id\":\"1533\",\"type\":\"SaveTool\"},{\"attributes\":{},\"id\":\"1534\",\"type\":\"ResetTool\"},{\"attributes\":{},\"id\":\"1535\",\"type\":\"HelpTool\"},{\"attributes\":{\"active_drag\":\"auto\",\"active_inspect\":\"auto\",\"active_multi\":null,\"active_scroll\":\"auto\",\"active_tap\":\"auto\",\"tools\":[{\"id\":\"1530\",\"type\":\"PanTool\"},{\"id\":\"1531\",\"type\":\"WheelZoomTool\"},{\"id\":\"1532\",\"type\":\"BoxZoomTool\"},{\"id\":\"1533\",\"type\":\"SaveTool\"},{\"id\":\"1534\",\"type\":\"ResetTool\"},{\"id\":\"1535\",\"type\":\"HelpTool\"}]},\"id\":\"1536\",\"type\":\"Toolbar\"},{\"attributes\":{\"bottom_units\":\"screen\",\"fill_alpha\":{\"value\":0.5},\"fill_color\":{\"value\":\"lightgrey\"},\"left_units\":\"screen\",\"level\":\"overlay\",\"line_alpha\":{\"value\":1.0},\"line_color\":{\"value\":\"black\"},\"line_dash\":[4,4],\"line_width\":{\"value\":2},\"plot\":null,\"render_mode\":\"css\",\"right_units\":\"screen\",\"top_units\":\"screen\"},\"id\":\"1538\",\"type\":\"BoxAnnotation\"},{\"attributes\":{},\"id\":\"1598\",\"type\":\"Selection\"},{\"attributes\":{},\"id\":\"1531\",\"type\":\"WheelZoomTool\"},{\"attributes\":{},\"id\":\"1530\",\"type\":\"PanTool\"},{\"attributes\":{\"data_source\":{\"id\":\"1509\",\"type\":\"ColumnDataSource\"},\"glyph\":{\"id\":\"1546\",\"type\":\"VBar\"},\"hover_glyph\":null,\"muted_glyph\":null,\"nonselection_glyph\":{\"id\":\"1547\",\"type\":\"VBar\"},\"selection_glyph\":null,\"view\":{\"id\":\"1549\",\"type\":\"CDSView\"}},\"id\":\"1548\",\"type\":\"GlyphRenderer\"},{\"attributes\":{\"source\":{\"id\":\"1509\",\"type\":\"ColumnDataSource\"}},\"id\":\"1549\",\"type\":\"CDSView\"},{\"attributes\":{},\"id\":\"1517\",\"type\":\"CategoricalScale\"},{\"attributes\":{\"format\":\"0.00\"},\"id\":\"1550\",\"type\":\"NumeralTickFormatter\"},{\"attributes\":{\"fill_color\":{\"field\":\"color\"},\"line_color\":{\"field\":\"color\"},\"top\":{\"field\":\"means\"},\"width\":{\"value\":0.5},\"x\":{\"field\":\"departments\"}},\"id\":\"1546\",\"type\":\"VBar\"},{\"attributes\":{\"formatter\":{\"id\":\"1594\",\"type\":\"CategoricalTickFormatter\"},\"plot\":{\"id\":\"1511\",\"subtype\":\"Figure\",\"type\":\"Plot\"},\"ticker\":{\"id\":\"1522\",\"type\":\"CategoricalTicker\"}},\"id\":\"1521\",\"type\":\"CategoricalAxis\"},{\"attributes\":{\"callback\":null,\"factors\":[\"CZYSTO\\u015a\\u0106\",\"OCHRONA\",\"LOGISTYKA\",\"SPRZEDA\\u017b\",\"KADRY\",\"MARKETING\",\"KSI\\u0118GOWO\\u015a\\u0106\",\"IT\"]},\"id\":\"1513\",\"type\":\"FactorRange\"},{\"attributes\":{},\"id\":\"1519\",\"type\":\"LinearScale\"},{\"attributes\":{\"callback\":null,\"end\":8081.700000000001},\"id\":\"1515\",\"type\":\"Range1d\"},{\"attributes\":{},\"id\":\"1526\",\"type\":\"BasicTicker\"},{\"attributes\":{\"formatter\":{\"id\":\"1550\",\"type\":\"NumeralTickFormatter\"},\"plot\":{\"id\":\"1511\",\"subtype\":\"Figure\",\"type\":\"Plot\"},\"ticker\":{\"id\":\"1526\",\"type\":\"BasicTicker\"}},\"id\":\"1525\",\"type\":\"LinearAxis\"},{\"attributes\":{\"callback\":null,\"data\":{\"color\":[\"#0072B2\",\"#E69F00\",\"#F0E442\",\"#009E73\",\"#56B4E9\",\"#D55E00\",\"#CC79A7\",\"#000000\"],\"departments\":[\"CZYSTO\\u015a\\u0106\",\"OCHRONA\",\"LOGISTYKA\",\"SPRZEDA\\u017b\",\"KADRY\",\"MARKETING\",\"KSI\\u0118GOWO\\u015a\\u0106\",\"IT\"],\"means\":[2842.85,3206.21,3881.02,4334.24,4418.94,4591.66,5732.21,7347.72]},\"selected\":{\"id\":\"1598\",\"type\":\"Selection\"},\"selection_policy\":{\"id\":\"1597\",\"type\":\"UnionRenderers\"}},\"id\":\"1509\",\"type\":\"ColumnDataSource\"},{\"attributes\":{\"grid_line_color\":{\"value\":null},\"plot\":{\"id\":\"1511\",\"subtype\":\"Figure\",\"type\":\"Plot\"},\"ticker\":{\"id\":\"1522\",\"type\":\"CategoricalTicker\"}},\"id\":\"1524\",\"type\":\"Grid\"},{\"attributes\":{\"plot\":null,\"text\":\"\\u015arednie wynagrodzenie w poszczeg\\u00f3lnych dzia\\u0142ach\"},\"id\":\"1510\",\"type\":\"Title\"},{\"attributes\":{},\"id\":\"1594\",\"type\":\"CategoricalTickFormatter\"},{\"attributes\":{},\"id\":\"1522\",\"type\":\"CategoricalTicker\"},{\"attributes\":{\"fill_alpha\":{\"value\":0.1},\"fill_color\":{\"value\":\"#1f77b4\"},\"line_alpha\":{\"value\":0.1},\"line_color\":{\"value\":\"#1f77b4\"},\"top\":{\"field\":\"means\"},\"width\":{\"value\":0.5},\"x\":{\"field\":\"departments\"}},\"id\":\"1547\",\"type\":\"VBar\"},{\"attributes\":{\"dimension\":1,\"plot\":{\"id\":\"1511\",\"subtype\":\"Figure\",\"type\":\"Plot\"},\"ticker\":{\"id\":\"1526\",\"type\":\"BasicTicker\"}},\"id\":\"1529\",\"type\":\"Grid\"},{\"attributes\":{},\"id\":\"1597\",\"type\":\"UnionRenderers\"}],\"root_ids\":[\"1511\"]},\"title\":\"Bokeh Application\",\"version\":\"1.0.2\"}};\n",
       "  var render_items = [{\"docid\":\"7c9c9403-5625-4e34-b936-c5c90b611b5d\",\"roots\":{\"1511\":\"c11683a4-a028-44ce-87f3-20de3058af69\"}}];\n",
       "  root.Bokeh.embed.embed_items_notebook(docs_json, render_items);\n",
       "\n",
       "  }\n",
       "  if (root.Bokeh !== undefined) {\n",
       "    embed_document(root);\n",
       "  } else {\n",
       "    var attempts = 0;\n",
       "    var timer = setInterval(function(root) {\n",
       "      if (root.Bokeh !== undefined) {\n",
       "        embed_document(root);\n",
       "        clearInterval(timer);\n",
       "      }\n",
       "      attempts++;\n",
       "      if (attempts > 100) {\n",
       "        console.log(\"Bokeh: ERROR: Unable to run BokehJS code because BokehJS library is missing\");\n",
       "        clearInterval(timer);\n",
       "      }\n",
       "    }, 10, root)\n",
       "  }\n",
       "})(window);"
      ],
      "application/vnd.bokehjs_exec.v0+json": ""
     },
     "metadata": {
      "application/vnd.bokehjs_exec.v0+json": {
       "id": "1511"
      }
     },
     "output_type": "display_data"
    }
   ],
   "source": [
    "departments = [item[0] for item in department_to_salary_mean][:-1]\n",
    "means = [item[1] for item in department_to_salary_mean][:-1]\n",
    "\n",
    "draw_mean_salary(departments, means, Colorblind8)"
   ]
  },
  {
   "cell_type": "markdown",
   "metadata": {},
   "source": [
    "## Zarobki w dziale IT a data zatrudnienia"
   ]
  },
  {
   "cell_type": "markdown",
   "metadata": {},
   "source": [
    "Zobaczmy, czy starci stażem pracownicy zarabiają więcej."
   ]
  },
  {
   "cell_type": "code",
   "execution_count": 142,
   "metadata": {},
   "outputs": [],
   "source": [
    "people_with_all_needed_data = tuple(\n",
    "    person\n",
    "    for person in people\n",
    "    if person['monthly_salary'] is not None\n",
    "    if person['employment_start_date'] is not None\n",
    ")\n",
    "\n",
    "it_monthly_salaries = tuple(\n",
    "    person['monthly_salary']\n",
    "    for person in people_with_all_needed_data\n",
    "    if person['department'] == 'IT'\n",
    ")\n",
    "\n",
    "it_emlp_start_dates = tuple(\n",
    "    person['employment_start_date']\n",
    "    for person in people_with_all_needed_data\n",
    "    if person['department'] == 'IT'\n",
    ")"
   ]
  },
  {
   "cell_type": "code",
   "execution_count": 143,
   "metadata": {},
   "outputs": [
    {
     "data": {
      "text/html": [
       "\n",
       "\n",
       "\n",
       "\n",
       "\n",
       "\n",
       "  <div class=\"bk-root\" id=\"7f75af87-c73a-4c97-bee7-52b323d71500\"></div>\n"
      ]
     },
     "metadata": {},
     "output_type": "display_data"
    },
    {
     "data": {
      "application/javascript": [
       "(function(root) {\n",
       "  function embed_document(root) {\n",
       "    \n",
       "  var docs_json = {\"f5cfa60f-2cc1-4f7d-ba8b-f37e2b9ec353\":{\"roots\":{\"references\":[{\"attributes\":{\"below\":[{\"id\":\"1650\",\"type\":\"LinearAxis\"}],\"left\":[{\"id\":\"1655\",\"type\":\"DatetimeAxis\"}],\"plot_height\":400,\"plot_width\":700,\"renderers\":[{\"id\":\"1650\",\"type\":\"LinearAxis\"},{\"id\":\"1654\",\"type\":\"Grid\"},{\"id\":\"1655\",\"type\":\"DatetimeAxis\"},{\"id\":\"1659\",\"type\":\"Grid\"},{\"id\":\"1668\",\"type\":\"BoxAnnotation\"},{\"id\":\"1678\",\"type\":\"GlyphRenderer\"}],\"title\":{\"id\":\"1731\",\"type\":\"Title\"},\"toolbar\":{\"id\":\"1666\",\"type\":\"Toolbar\"},\"x_range\":{\"id\":\"1642\",\"type\":\"DataRange1d\"},\"x_scale\":{\"id\":\"1646\",\"type\":\"LinearScale\"},\"y_range\":{\"id\":\"1644\",\"type\":\"DataRange1d\"},\"y_scale\":{\"id\":\"1648\",\"type\":\"LinearScale\"}},\"id\":\"1641\",\"subtype\":\"Figure\",\"type\":\"Plot\"},{\"attributes\":{},\"id\":\"1661\",\"type\":\"WheelZoomTool\"},{\"attributes\":{},\"id\":\"1749\",\"type\":\"Selection\"},{\"attributes\":{},\"id\":\"1682\",\"type\":\"DatetimeTickFormatter\"},{\"attributes\":{\"source\":{\"id\":\"1675\",\"type\":\"ColumnDataSource\"}},\"id\":\"1679\",\"type\":\"CDSView\"},{\"attributes\":{},\"id\":\"1651\",\"type\":\"BasicTicker\"},{\"attributes\":{\"plot\":{\"id\":\"1641\",\"subtype\":\"Figure\",\"type\":\"Plot\"},\"ticker\":{\"id\":\"1651\",\"type\":\"BasicTicker\"}},\"id\":\"1654\",\"type\":\"Grid\"},{\"attributes\":{\"formatter\":{\"id\":\"1680\",\"type\":\"NumeralTickFormatter\"},\"plot\":{\"id\":\"1641\",\"subtype\":\"Figure\",\"type\":\"Plot\"},\"ticker\":{\"id\":\"1656\",\"type\":\"DatetimeTicker\"}},\"id\":\"1655\",\"type\":\"DatetimeAxis\"},{\"attributes\":{\"dimension\":1,\"plot\":{\"id\":\"1641\",\"subtype\":\"Figure\",\"type\":\"Plot\"},\"ticker\":{\"id\":\"1656\",\"type\":\"DatetimeTicker\"}},\"id\":\"1659\",\"type\":\"Grid\"},{\"attributes\":{\"mantissas\":[1,2,5],\"max_interval\":500.0,\"num_minor_ticks\":0},\"id\":\"1736\",\"type\":\"AdaptiveTicker\"},{\"attributes\":{\"num_minor_ticks\":5,\"tickers\":[{\"id\":\"1736\",\"type\":\"AdaptiveTicker\"},{\"id\":\"1737\",\"type\":\"AdaptiveTicker\"},{\"id\":\"1738\",\"type\":\"AdaptiveTicker\"},{\"id\":\"1739\",\"type\":\"DaysTicker\"},{\"id\":\"1740\",\"type\":\"DaysTicker\"},{\"id\":\"1741\",\"type\":\"DaysTicker\"},{\"id\":\"1742\",\"type\":\"DaysTicker\"},{\"id\":\"1743\",\"type\":\"MonthsTicker\"},{\"id\":\"1744\",\"type\":\"MonthsTicker\"},{\"id\":\"1745\",\"type\":\"MonthsTicker\"},{\"id\":\"1746\",\"type\":\"MonthsTicker\"},{\"id\":\"1747\",\"type\":\"YearsTicker\"}]},\"id\":\"1656\",\"type\":\"DatetimeTicker\"},{\"attributes\":{\"base\":60,\"mantissas\":[1,2,5,10,15,20,30],\"max_interval\":1800000.0,\"min_interval\":1000.0,\"num_minor_ticks\":0},\"id\":\"1737\",\"type\":\"AdaptiveTicker\"},{\"attributes\":{\"fill_color\":{\"value\":\"blue\"},\"line_color\":{\"value\":\"navy\"},\"size\":{\"units\":\"screen\",\"value\":15},\"x\":{\"field\":\"x\"},\"y\":{\"field\":\"y\"}},\"id\":\"1676\",\"type\":\"Circle\"},{\"attributes\":{\"days\":[1,2,3,4,5,6,7,8,9,10,11,12,13,14,15,16,17,18,19,20,21,22,23,24,25,26,27,28,29,30,31]},\"id\":\"1739\",\"type\":\"DaysTicker\"},{\"attributes\":{\"active_drag\":\"auto\",\"active_inspect\":\"auto\",\"active_multi\":null,\"active_scroll\":\"auto\",\"active_tap\":\"auto\",\"tools\":[{\"id\":\"1660\",\"type\":\"PanTool\"},{\"id\":\"1661\",\"type\":\"WheelZoomTool\"},{\"id\":\"1662\",\"type\":\"BoxZoomTool\"},{\"id\":\"1663\",\"type\":\"SaveTool\"},{\"id\":\"1664\",\"type\":\"ResetTool\"},{\"id\":\"1665\",\"type\":\"HelpTool\"}]},\"id\":\"1666\",\"type\":\"Toolbar\"},{\"attributes\":{},\"id\":\"1747\",\"type\":\"YearsTicker\"},{\"attributes\":{\"days\":[1,8,15,22]},\"id\":\"1741\",\"type\":\"DaysTicker\"},{\"attributes\":{},\"id\":\"1664\",\"type\":\"ResetTool\"},{\"attributes\":{\"base\":24,\"mantissas\":[1,2,4,6,8,12],\"max_interval\":43200000.0,\"min_interval\":3600000.0,\"num_minor_ticks\":0},\"id\":\"1738\",\"type\":\"AdaptiveTicker\"},{\"attributes\":{},\"id\":\"1660\",\"type\":\"PanTool\"},{\"attributes\":{\"overlay\":{\"id\":\"1668\",\"type\":\"BoxAnnotation\"}},\"id\":\"1662\",\"type\":\"BoxZoomTool\"},{\"attributes\":{\"callback\":null,\"data\":{\"x\":[1366761600000.0,1276041600000.0,1340841600000.0,1483401600000.0,1280361600000.0,1444521600000.0,1392681600000.0,1500681600000.0,1401321600000.0,1414281600000.0,1457481600000.0,1384041600000.0,1280361600000.0,1289001600000.0,1522281600000.0,1388361600000.0,1293321600000.0,1319241600000.0,1297641600000.0,1310601600000.0,1457481600000.0,1535241600000.0,1284681600000.0,1496361600000.0,1336521600000.0,1306281600000.0,1457481600000.0,1479081600000.0,1414281600000.0,1245801600000.0,1258761600000.0,1539561600000.0,1263081600000.0,1345161600000.0,1435881600000.0,1401321600000.0,1435881600000.0,1505001600000.0,1444521600000.0],\"y\":[8248.75,6645.5,9278.5,7842.5,6765.5,8280.25,6965.75,9578.25,8715.25,8097.93,5670.25,5601.0,9430.03,6247.5,6879.0,7420.88,8332.5,6340.0,6887.5,5495.0,8906.98,7395.0,5260.0,6320.0,8321.75,7375.0,6388.25,8437.5,5262.5,7095.5,6723.75,9385.75,7411.25,7800.1,8255.22,5295.0,7909.28,6369.0,7927.5]},\"selected\":{\"id\":\"1749\",\"type\":\"Selection\"},\"selection_policy\":{\"id\":\"1748\",\"type\":\"UnionRenderers\"}},\"id\":\"1675\",\"type\":\"ColumnDataSource\"},{\"attributes\":{\"days\":[1,4,7,10,13,16,19,22,25,28]},\"id\":\"1740\",\"type\":\"DaysTicker\"},{\"attributes\":{\"format\":\"0.00\"},\"id\":\"1680\",\"type\":\"NumeralTickFormatter\"},{\"attributes\":{\"days\":[1,15]},\"id\":\"1742\",\"type\":\"DaysTicker\"},{\"attributes\":{\"fill_alpha\":{\"value\":0.1},\"fill_color\":{\"value\":\"#1f77b4\"},\"line_alpha\":{\"value\":0.1},\"line_color\":{\"value\":\"#1f77b4\"},\"size\":{\"units\":\"screen\",\"value\":15},\"x\":{\"field\":\"x\"},\"y\":{\"field\":\"y\"}},\"id\":\"1677\",\"type\":\"Circle\"},{\"attributes\":{},\"id\":\"1663\",\"type\":\"SaveTool\"},{\"attributes\":{\"callback\":null},\"id\":\"1642\",\"type\":\"DataRange1d\"},{\"attributes\":{\"months\":[0,1,2,3,4,5,6,7,8,9,10,11]},\"id\":\"1743\",\"type\":\"MonthsTicker\"},{\"attributes\":{\"months\":[0,4,8]},\"id\":\"1745\",\"type\":\"MonthsTicker\"},{\"attributes\":{\"callback\":null},\"id\":\"1644\",\"type\":\"DataRange1d\"},{\"attributes\":{},\"id\":\"1665\",\"type\":\"HelpTool\"},{\"attributes\":{\"data_source\":{\"id\":\"1675\",\"type\":\"ColumnDataSource\"},\"glyph\":{\"id\":\"1676\",\"type\":\"Circle\"},\"hover_glyph\":null,\"muted_glyph\":null,\"nonselection_glyph\":{\"id\":\"1677\",\"type\":\"Circle\"},\"selection_glyph\":null,\"view\":{\"id\":\"1679\",\"type\":\"CDSView\"}},\"id\":\"1678\",\"type\":\"GlyphRenderer\"},{\"attributes\":{\"months\":[0,2,4,6,8,10]},\"id\":\"1744\",\"type\":\"MonthsTicker\"},{\"attributes\":{\"formatter\":{\"id\":\"1682\",\"type\":\"DatetimeTickFormatter\"},\"plot\":{\"id\":\"1641\",\"subtype\":\"Figure\",\"type\":\"Plot\"},\"ticker\":{\"id\":\"1651\",\"type\":\"BasicTicker\"}},\"id\":\"1650\",\"type\":\"LinearAxis\"},{\"attributes\":{},\"id\":\"1748\",\"type\":\"UnionRenderers\"},{\"attributes\":{\"months\":[0,6]},\"id\":\"1746\",\"type\":\"MonthsTicker\"},{\"attributes\":{},\"id\":\"1646\",\"type\":\"LinearScale\"},{\"attributes\":{\"bottom_units\":\"screen\",\"fill_alpha\":{\"value\":0.5},\"fill_color\":{\"value\":\"lightgrey\"},\"left_units\":\"screen\",\"level\":\"overlay\",\"line_alpha\":{\"value\":1.0},\"line_color\":{\"value\":\"black\"},\"line_dash\":[4,4],\"line_width\":{\"value\":2},\"plot\":null,\"render_mode\":\"css\",\"right_units\":\"screen\",\"top_units\":\"screen\"},\"id\":\"1668\",\"type\":\"BoxAnnotation\"},{\"attributes\":{},\"id\":\"1648\",\"type\":\"LinearScale\"},{\"attributes\":{\"plot\":null,\"text\":\"\"},\"id\":\"1731\",\"type\":\"Title\"}],\"root_ids\":[\"1641\"]},\"title\":\"Bokeh Application\",\"version\":\"1.0.2\"}};\n",
       "  var render_items = [{\"docid\":\"f5cfa60f-2cc1-4f7d-ba8b-f37e2b9ec353\",\"roots\":{\"1641\":\"7f75af87-c73a-4c97-bee7-52b323d71500\"}}];\n",
       "  root.Bokeh.embed.embed_items_notebook(docs_json, render_items);\n",
       "\n",
       "  }\n",
       "  if (root.Bokeh !== undefined) {\n",
       "    embed_document(root);\n",
       "  } else {\n",
       "    var attempts = 0;\n",
       "    var timer = setInterval(function(root) {\n",
       "      if (root.Bokeh !== undefined) {\n",
       "        embed_document(root);\n",
       "        clearInterval(timer);\n",
       "      }\n",
       "      attempts++;\n",
       "      if (attempts > 100) {\n",
       "        console.log(\"Bokeh: ERROR: Unable to run BokehJS code because BokehJS library is missing\");\n",
       "        clearInterval(timer);\n",
       "      }\n",
       "    }, 10, root)\n",
       "  }\n",
       "})(window);"
      ],
      "application/vnd.bokehjs_exec.v0+json": ""
     },
     "metadata": {
      "application/vnd.bokehjs_exec.v0+json": {
       "id": "1641"
      }
     },
     "output_type": "display_data"
    }
   ],
   "source": [
    "p = figure(plot_width=700, plot_height=400, y_axis_type=\"datetime\")\n",
    "\n",
    "p.circle(\n",
    "    it_emlp_start_dates,\n",
    "    it_monthly_salaries,\n",
    "    size=15,\n",
    "    line_color=\"navy\",\n",
    "    fill_color=\"blue\",\n",
    "    fill_alpha=1,\n",
    ")\n",
    "\n",
    "p.yaxis[0].formatter = NumeralTickFormatter(format=\"0.00\")\n",
    "p.xaxis[0].formatter = DatetimeTickFormatter()\n",
    "\n",
    "show(p)"
   ]
  },
  {
   "cell_type": "markdown",
   "metadata": {},
   "source": [
    "Wygląda na to, że nie koreluje.\n",
    "\n",
    "**`¯\\_(ツ)_/¯`**"
   ]
  }
 ],
 "metadata": {
  "kernelspec": {
   "display_name": "Python 3",
   "language": "python",
   "name": "python3"
  },
  "language_info": {
   "codemirror_mode": {
    "name": "ipython",
    "version": 3
   },
   "file_extension": ".py",
   "mimetype": "text/x-python",
   "name": "python",
   "nbconvert_exporter": "python",
   "pygments_lexer": "ipython3",
   "version": "3.6.6"
  }
 },
 "nbformat": 4,
 "nbformat_minor": 2
}
