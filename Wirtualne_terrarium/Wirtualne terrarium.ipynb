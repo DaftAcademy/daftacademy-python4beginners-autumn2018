{
 "cells": [
  {
   "cell_type": "markdown",
   "metadata": {
    "slideshow": {
     "slide_type": "slide"
    }
   },
   "source": [
    "# Wirtualne terrarium\n",
    "\n",
    "### Joanna Tustanowska\n",
    "### 27.11.2018, Python4Beginners"
   ]
  },
  {
   "cell_type": "markdown",
   "metadata": {
    "slideshow": {
     "slide_type": "notes"
    }
   },
   "source": [
    "**Plan na dziś**\n",
    "\n",
    "**1. Jak zarządzać swoją instalacją Pythona i nie zwariować** `<-------`\n",
    "    * dlaczego powinniśmy to robić\n",
    "    * jakie mamy narzędzia i jak działają\n",
    "    * dobre praktyki\n",
    "    \n",
    "**2. Biblioteka requests - HTTP i API w Pythonie**\n",
    "    * protokół HTTP (co to jest protokół i co to jest HTTP)\n",
    "    * JSON API\n",
    "    * jak wypełnić formularz w pythonie?\n",
    "    * co robić, gdy potrzebne jest zalogowanie się?\n",
    "    * do poczytania (scrapy, httpie/postman/curl, więcej o API design)\n",
    "    \n"
   ]
  },
  {
   "cell_type": "markdown",
   "metadata": {
    "slideshow": {
     "slide_type": "slide"
    }
   },
   "source": [
    "# Część 1: \n",
    "# Jak zarządzać swoją instalacją Pythona i nie zwariować?\n"
   ]
  },
  {
   "cell_type": "markdown",
   "metadata": {
    "slideshow": {
     "slide_type": "slide"
    }
   },
   "source": [
    "## Wstęp - gdzie mieszka Python?\n",
    "\n",
    "Przykład - domyślna instalacja Pythona na Linuksie. To tylko niektóre pliki.\n",
    "\n",
    "```console\n",
    "$ which python\n",
    "/bin/python\n",
    "```\n",
    "\n",
    "```console\n",
    "$ ls /usr/lib/python3.7\n",
    "-rw-r--r--  1 root root 5,5K 10-22 12:41 abc.py\n",
    "-rwxr-xr-x  1 root root  20K 10-22 12:41 base64.py\n",
    "...\n",
    "drwxr-xr-x 88 root root 4,0K 11-16 15:26 site-packages\n",
    "...\n",
    "```\n",
    "\n",
    "* `site-packages` to katalog, do którego trafiają zewnętrzne pakiety Pythona\n"
   ]
  },
  {
   "cell_type": "markdown",
   "metadata": {
    "slideshow": {
     "slide_type": "skip"
    }
   },
   "source": [
    "Windows & Mac"
   ]
  },
  {
   "cell_type": "markdown",
   "metadata": {
    "slideshow": {
     "slide_type": "slide"
    }
   },
   "source": [
    "## `pip` - narzędzie do instalacji pakietów\n",
    "\n",
    "`pip` - narzędzie dystrybuowane razem z Pythonem (od wersji 3.4)\n",
    "\n",
    "`$ pip install [nazwa pakietu]`  / można też: `$ python -m pip install [nazwa pakietu]`\n",
    "\n",
    "np. `pip install maya` \n",
    "\n",
    "Zainstaluje pakiet oraz jego zależności.\n",
    "\n",
    "Instalacja do `site-packages` użytkownika (nie wymaga uprawnień administratora):\n",
    "\n",
    "`$ pip install --user [nazwa paczki]`\n"
   ]
  },
  {
   "cell_type": "markdown",
   "metadata": {
    "slideshow": {
     "slide_type": "slide"
    }
   },
   "source": [
    "\n",
    "### Odinstalowanie pakietu\n",
    "\n",
    "`$ pip uninstall [nazwa pakietu]`\n",
    "\n",
    "Odinstaluje pakiet, pozostawi jego zależności."
   ]
  },
  {
   "cell_type": "markdown",
   "metadata": {
    "slideshow": {
     "slide_type": "slide"
    }
   },
   "source": [
    "\n",
    "### Lista zainstalowanych pakietów\n",
    "\n",
    "```console\n",
    "$ pip freeze\n",
    "dateparser==0.7.0\n",
    "humanize==0.5.1\n",
    "pendulum==1.5.1\n",
    "python-dateutil==2.7.5\n",
    "[...]\n",
    "```\n",
    "\n",
    "`pip freeze > requirements.txt`\n",
    "\n",
    "### Instalacja z requirements.txt\n",
    "\n",
    "`$ pip install -r requirements.txt`\n"
   ]
  },
  {
   "cell_type": "markdown",
   "metadata": {
    "slideshow": {
     "slide_type": "slide"
    }
   },
   "source": [
    "### Wyszukiwanie pakietów w (domyślnie w PyPI https://pypi.org/)\n",
    "\n",
    "`$ pip search [nazwa pakietu]`\n",
    "\n",
    "### Inne cechy\n",
    "\n",
    "* `pip` zapisuje pobrane pakiety w cache'u, dla szybszej ponownej instalacji\n",
    "* `pip check` - sprawdzi, czy w środowisku zainstalowane są wszystkie wymagane zależności, oraz czy nie ma konfliktów (np. pakiet A wymaga pakietu C w wersji <1.0, zaś pakiet B wymaga pakietu C w wersji >1.0)\n",
    "* Dokumentacja `pip` do poczytania: https://pip.pypa.io/en/stable/user_guide/\n"
   ]
  },
  {
   "cell_type": "markdown",
   "metadata": {
    "slideshow": {
     "slide_type": "slide"
    }
   },
   "source": [
    "## Nadchodzą problemy...\n",
    "\n",
    "* W środowisku Pythona możemy mieć tylko jedną wersję danego pakietu, co może rodzić konflikty zależności:\n",
    "    * np. pracujemy nad swoim projektem wykorzystującym najnowszą wersję pakietu A\n",
    "    * i jednocześnie chcemy uruchomić projekt, w którym wymagana jest starsza wersja pakietu A.\n",
    "* Na Linuksie i OSX Python jest używany przez system operacyjny. Pakiety (lub ich wersje), które doinstalujemy w głównym katalogu mogą zdestabilizować narzędzia systemowe...\n",
    "* ...i odwrotnie, przy aktualizacji system może nam nadpisać wersje pakietów\n",
    "* Możemy mieć problem z uporządkowaniem wymagań naszego projektu -- a chcielibyśmy móc uruchomić go nie tylko na naszym komputerze."
   ]
  },
  {
   "cell_type": "markdown",
   "metadata": {
    "slideshow": {
     "slide_type": "notes"
    }
   },
   "source": [
    "### Pytania do publiczności:\n",
    "    \n",
    "* (linux) czy zawsze potrzebujemy praw administratora (roota), żeby doinstalować pakiety do systemowego Pythona?\n",
    "* (all) czy posprzątam swoje środowisko, jeśli odpalę `pip uninstall` dla każdego pakietu, który zainstalowałam przez `pip install`?\n",
    "* (linux) czy mogę coś zepsuć wywołując `sudo pip install [paczka]`?\n",
    "* (all) jak zainstalować pakiet A w wersji NIE NOWSZEJ niż 2.1?"
   ]
  },
  {
   "cell_type": "markdown",
   "metadata": {
    "slideshow": {
     "slide_type": "slide"
    }
   },
   "source": [
    "## Środowisko wirtualne - moduł `venv`\n",
    "\n",
    "`python -m venv [nazwa_enva]`\n",
    "\n",
    "* Kopia środowiska Pythona, tworzona na żądanie\n",
    "   * binarka `python`\n",
    "   * biblioteka standardowa\n",
    "   * `pip` + skrypty do aktywacji i dezaktywacji środowiska\n",
    "   * instalujemy tylko pakiety, których potrzebujemy w konkretnym projekcie\n",
    "\n",
    "* Izolacja od pozostałych środowisk 👍"
   ]
  },
  {
   "cell_type": "markdown",
   "metadata": {
    "slideshow": {
     "slide_type": "slide"
    }
   },
   "source": [
    "### Sposób użycia - moduł `venv`\n",
    "\n",
    "```console\n",
    "$ python -m venv some/path/to/some_project_venv\n",
    "```\n",
    "\n",
    "Utworzy środowisko w zadanym katalogu."
   ]
  },
  {
   "cell_type": "markdown",
   "metadata": {
    "slideshow": {
     "slide_type": "slide"
    }
   },
   "source": [
    "```console\n",
    "$ ls some_project_venv\n",
    "bin  include  lib  lib64\n",
    "\n",
    "$ ls -l some_project_venv/bin\n",
    "-rw-r--r-- 1 asia asia 2248 11-25 22:05 activate\n",
    "-rwxr-xr-x 1 asia asia  257 11-25 22:05 pip\n",
    "lrwxrwxrwx 1 asia asia   11 11-25 22:05 python -> /bin/python\n",
    "[...]\n",
    "\n",
    "$ ls some_project_venv/lib/Python3.7\n",
    "site-packages\n",
    "```"
   ]
  },
  {
   "cell_type": "markdown",
   "metadata": {
    "slideshow": {
     "slide_type": "slide"
    }
   },
   "source": [
    "### Aktywacja środowiska - skrypt shellowy `activate`\n",
    "\n",
    "\n",
    "Platform  \t|Shell \t|Command to activate virtual environment\n",
    "---------------|----|-----------------------------------------\n",
    "Posix \t|bash/zsh \t|`$ source <venv>/bin/activate`\n",
    "  |  \tfish \t|`$ . <venv>/bin/activate.fish`\n",
    "  |  \tcsh/tcsh \t|`$ source <venv>/bin/activate.csh`\n",
    "Windows \t|cmd.exe \t|`C:\\> <venv>\\Scripts\\activate.bat`\n",
    "  |  \tPowerShell \t|`PS C:\\> <venv>\\Scripts\\Activate.ps1`\n",
    "\n",
    "https://docs.python.org/3/library/venv.html#creating-virtual-environments"
   ]
  },
  {
   "cell_type": "markdown",
   "metadata": {
    "slideshow": {
     "slide_type": "slide"
    }
   },
   "source": [
    "### Jak to działa?\n",
    "\n",
    "Zmiany w bieżącej sesji terminala:\n",
    "\n",
    "* modyfikacja *zmiennej środowiskowej* `PATH` - Skierowanie na `pythona`, `pip`a i inne pliki wykonywalne pod nowym adresem\n",
    "* ustawienie zmiennej środowiskowej `VIRTUAL_ENV` - po uruchomieniu Python wie, skąd ładować importowane pakiety, a pip wie, gdzie instalować\n",
    "* stworzenie komendy (funkcji w shellu) `deactivate`\n"
   ]
  },
  {
   "cell_type": "markdown",
   "metadata": {
    "slideshow": {
     "slide_type": "notes"
    }
   },
   "source": [
    "### Zmienne środowiskowe\n",
    "\n",
    "Różne nazwane wartości, z których korzystają procesy uruchamiane w systemie operacyjnym. Gdy używamy terminala (shella=powłoki), możemy zmodyfikować zmienne środowiskowe tak, by wpłynąć na działanie programu, który za chwilę w tym shellu uruchomimy. Ze zmiennych środowiskowych korzysta zarówno Windows, Linuksy, jak i OSX.\n",
    "\n",
    "Przykłady:\n",
    "\n",
    "* `HOME` - adres katalogu domowego bieżącego użytkownika\n",
    "* `USER` - nazwa bieżącego użytkownika\n",
    "* `PATH` - lista katalogów, w których shell będzie szukał pliku wykonywalnego, gdy wpiszemy jakąś komendę bez podania pełnej ścieżki. Np. `python` :-)\n"
   ]
  },
  {
   "cell_type": "markdown",
   "metadata": {
    "slideshow": {
     "slide_type": "slide"
    }
   },
   "source": [
    "### Przykład\n",
    "\n",
    "```bash\n",
    "# przed aktywacją virtual enva\n",
    "$ echo $PATH\n",
    "/home/asia/.local/bin:/home/asia/bin:/usr/local/bin:/usr/bin:/bin\n",
    "$ which python\n",
    "/bin/python\n",
    "$ source some_project_venv/bin/activate\n",
    "```"
   ]
  },
  {
   "cell_type": "markdown",
   "metadata": {
    "slideshow": {
     "slide_type": "slide"
    }
   },
   "source": [
    "### Przykład c.d.\n",
    "\n",
    "```bash\n",
    "# po aktywacji\n",
    "(some_project_venv) $ echo $PATH\n",
    "/home/asia/some_project_venv/bin:/home/asia/.local/bin:/home/asia/bin:/usr/local/bin:/usr/bin:/bin\n",
    "(some_project_venv) $ which python\n",
    "/home/asia/some_project_venv/bin/python\n",
    "(some_project_venv) $ echo $VIRTUAL_ENV\n",
    "/home/asia/some_project_venv\n",
    "\n",
    "(some_project_venv) $ deactivate\n",
    "$ which python\n",
    "/bin/python\n",
    "```\n"
   ]
  },
  {
   "cell_type": "markdown",
   "metadata": {
    "slideshow": {
     "slide_type": "slide"
    }
   },
   "source": [
    "## Jak tego używać? Przykład 1\n",
    "\n",
    "Środowisko wirtualne w katalogu projektu:\n",
    "\n",
    "* w katalogu projektu (powiedzmy `my_project`) odpalam `python -m venv env_my_project`\n",
    "* [jeśli używam `git`a, wpisuję katalog `env_my_project` do pliku `.gitignore`]\n",
    "* aktywuję środowisko `source env_my_project/bin/activate` (za każdym razem, gdy w nowym terminalu uruchamiam pliki projektu)\n",
    "* instaluję potrzebne pakiety (to tylko raz)\n",
    "* gdy projekt działa, zapisuję jego wymagania w pliku requirements: `pip freeze > requirements.txt`. Przyda się, gdy będę budować środowisko od nowa (`pip install -r requirements.txt`)\n",
    "* gdy kończę pracę nad projektem i nie chcę zamykać okna terminala, dezaktywuję środowisko poleceniem `deactivate`\n",
    "   "
   ]
  },
  {
   "cell_type": "markdown",
   "metadata": {
    "slideshow": {
     "slide_type": "slide"
    }
   },
   "source": [
    "## Dobre rady\n",
    "\n",
    "* NIE instalujemy pakietów w głównym środowisku Pythona. To się może źle skończyć.\n",
    "* narzędzia, do których chcemy mieć dostęp w całym systemie (jako nasz użytkownik) instalujemy przez `pip install --user [paczka]`\n",
    "* do każdego projektu w pythonie używamy osobnego virtualenva"
   ]
  },
  {
   "cell_type": "markdown",
   "metadata": {
    "slideshow": {
     "slide_type": "notes"
    }
   },
   "source": [
    "### Pytania do publiczności\n",
    "\n",
    "* czy mogę stworzyć środowisko wirtualne z wersją Pythona, której nie mam zainstalowanej w systemie?\n",
    "* czy jeśli zainstaluję jakiś pakiet w wirtualnym środowisku, to będzie on dostępny dla głównego, systemowego Pythona?\n",
    "* gdzie będzie 'widoczny' mój virtualenv, gdy go aktywuję?\n",
    "* co się stanie, gdy w terminalu skasuję zawartość zmiennej środowiskowej `PATH`, np. poleceniem `export PATH=\"\"`?"
   ]
  },
  {
   "cell_type": "markdown",
   "metadata": {
    "slideshow": {
     "slide_type": "slide"
    }
   },
   "source": [
    "## Jak tego używać?  :-(\n",
    "\n",
    "* :-( muszę ręcznie stworzyć i nazwać środowisko wirtualne\n",
    "* :-( muszę pamiętać, jak mój virtualenv się nazywa i gdzie w systemie plików się znajduje\n",
    "* :-( aby aktywować środowisko muszę wpisywać długie polecenia\n",
    "* :-( moje środowisko wirtualne ma masę niepotrzebnych pakietów i nie jestem pewna/pewien, które dokładnie pakiety mogę usunąć"
   ]
  },
  {
   "cell_type": "markdown",
   "metadata": {
    "slideshow": {
     "slide_type": "slide"
    }
   },
   "source": [
    "### Trochę prościej - `virtualenvwrapper`\n",
    "\n",
    "https://virtualenvwrapper.readthedocs.io/en/latest/\n",
    "\n",
    "* środowiska wirtualne w jednym miejscu\n",
    "* wygodne polecenia, np. `mkvirtualenv [nazwa]`, `workon [nazwa]`\n",
    "* możliwość skonfigurowania auto-aktywacji środowiska po wejściu do katalogu projektu\n"
   ]
  },
  {
   "cell_type": "markdown",
   "metadata": {
    "slideshow": {
     "slide_type": "slide"
    }
   },
   "source": [
    "## `pipenv` - poziom wyżej\n",
    "\n",
    "https://pipenv.readthedocs.io/en/latest/\n",
    "\n",
    "Rekomendowany system zarządzania zależnościami w projektach pythonowych.\n",
    "\n",
    "Używa `pip` i `venv` za nas, dodając do tego wiele mądrych automatyzacji."
   ]
  },
  {
   "cell_type": "markdown",
   "metadata": {
    "slideshow": {
     "slide_type": "slide"
    }
   },
   "source": [
    "### `pipenv` - szybki start\n",
    "\n",
    "https://pipenv.readthedocs.io/en/latest/install/#installing-pipenv\n",
    "    \n",
    "OSX: `brew install pipenv`\n",
    "\n",
    "Win/Linux: `pip install --user pipenv`"
   ]
  },
  {
   "cell_type": "markdown",
   "metadata": {
    "slideshow": {
     "slide_type": "slide"
    }
   },
   "source": [
    "### `pipenv` - użycie w nowym projekcie\n",
    "\n",
    "* przechodzimy w konsoli do katalogu projektu: `cd my_project`\n",
    "* od razu coś instalujemy, np. bibliotekę `requests`: `pipenv install requests`\n",
    "* `pipenv` automatycznie znajduje/tworzy środowisko wirtualne (w swoim centralnym katalogu)\n",
    "* automatycznie tworzy w projekcie pliki `Pipfile` i `Pipfile.lock` (lepszy odpowiednik `requirements.txt`)\n",
    "\n"
   ]
  },
  {
   "cell_type": "markdown",
   "metadata": {
    "slideshow": {
     "slide_type": "slide"
    }
   },
   "source": [
    "```console\n",
    "➜  experiments$ mkdir my_project\n",
    "➜  experiments$ cd my_project \n",
    "➜  my_project$ pipenv install requests\n",
    "Creating a virtualenv for this project…\n",
    "Pipfile: /home/asia/experiments/my_project/Pipfile\n",
    "Using /usr/bin/python (3.7.1) to create virtualenv…\n",
    "✔ Complete \n",
    "Using interpreter /bin/python\n",
    "New python executable in /home/asia/venvs/my_project-F8Fo0uYg/bin/python\n",
    "Installing setuptools, pip, wheel...done.\n",
    "Virtualenv location: /home/asia/venvs/my_project-F8Fo0uYg\n",
    "Creating a Pipfile for this project…\n",
    "Installing requests…\n",
    "Adding requests to Pipfile's [packages]…\n",
    "✔ Installation Succeeded \n",
    "Pipfile.lock not found, creating…\n",
    "Locking [dev-packages] dependencies…\n",
    "Locking [packages] dependencies…\n",
    "✔ Success! \n",
    "Updated Pipfile.lock (444a6d)!\n",
    "Installing dependencies from Pipfile.lock (444a6d)…\n",
    "  🐍   ▉▉▉▉▉▉▉▉▉▉▉▉▉▉▉▉▉▉▉▉▉▉▉▉▉▉▉▉▉▉▉▉ 5/5 — 00:00:01\n",
    "To activate this project's virtualenv, run pipenv shell.\n",
    "Alternatively, run a command inside the virtualenv with pipenv run.\n",
    "\n",
    "```"
   ]
  },
  {
   "cell_type": "markdown",
   "metadata": {
    "slideshow": {
     "slide_type": "slide"
    }
   },
   "source": [
    "### `pipenv` - aktywacja środowiska\n",
    "\n",
    "* aktywujemy środowisko poleceniem `pipenv shell`, deaktywujemy poleceniem `exit` (uruchamiamy/kończymy nowy shell)\n",
    "* możemy też uruchomić swoje programy bez wcześniejszej aktywacji, np. `pipenv run python my_program.py`"
   ]
  },
  {
   "cell_type": "markdown",
   "metadata": {
    "slideshow": {
     "slide_type": "slide"
    }
   },
   "source": [
    "### `pipenv` - Pipfile + Pipfile.lock\n",
    "\n",
    "* `Pipfile` - deklarowane zależności projektu (np. `requests`) - czytelny dla człowieka\n",
    "* każda instalacja/deinstalacja aktualizuje `Pipfile`\n",
    "* `Pipfile.lock` - wszystkie zależności (czyli np. także zależności biblioteki `requests`), stan całego środowiska - czytelny dla pipenva"
   ]
  },
  {
   "cell_type": "markdown",
   "metadata": {
    "slideshow": {
     "slide_type": "slide"
    }
   },
   "source": [
    "### Prosty `Pipfile`\n",
    "\n",
    "```toml\n",
    "[[source]]\n",
    "name = \"pypi\"\n",
    "url = \"https://pypi.org/simple\"\n",
    "verify_ssl = true\n",
    "\n",
    "[dev-packages]\n",
    "\n",
    "[packages]\n",
    "requests = \"*\"\n",
    "\n",
    "[requires]\n",
    "python_version = \"3.7\"\n",
    "```"
   ]
  },
  {
   "cell_type": "markdown",
   "metadata": {
    "slideshow": {
     "slide_type": "slide"
    }
   },
   "source": [
    "### `pipenv` - Sprzątanie środowiska\n",
    "\n",
    "`$ pipenv uninstall [paczka]` - usuwa pakiet, aktualizuje Pipfile\n",
    "\n",
    "\n",
    "`$ pipenv clean` - usunie niepotrzebne zależności pakietów, których już nie ma w Pipfile\n"
   ]
  },
  {
   "cell_type": "markdown",
   "metadata": {
    "slideshow": {
     "slide_type": "slide"
    }
   },
   "source": [
    "### Pytania do publiczności\n",
    "\n",
    "* jak się ma `pip` + `venv` do `pipenv`?\n",
    "* jakich narzędzi będę używać do zarządzania zależnościami w swoim projekcie i czemu to będzie `pipenv`?"
   ]
  },
  {
   "cell_type": "markdown",
   "metadata": {
    "slideshow": {
     "slide_type": "slide"
    }
   },
   "source": [
    "## Ile Pythonów zmieści się w jednym systemie?\n",
    "\n",
    "\n",
    "Wiele. Możemy mieć zainstalowanych kilka wersji Pythona (np. 2.7.x, 3.6.x oraz 3.7.x), a nawet kilka dystrybucji tej samej wersji (Anaconda oraz oficjalny Python https://python.org ).\n",
    "\n"
   ]
  },
  {
   "cell_type": "markdown",
   "metadata": {
    "slideshow": {
     "slide_type": "fragment"
    }
   },
   "source": [
    "Zarządzanie wersjami Pythona - do poczytania https://github.com/pyenv/pyenv"
   ]
  },
  {
   "cell_type": "markdown",
   "metadata": {
    "slideshow": {
     "slide_type": "slide"
    }
   },
   "source": [
    "## Podsumowanie\n",
    "\n",
    "* po co nam środowiska wirtualne?\n",
    "   * izolacja projektów \n",
    "       * różne wersje zależności\n",
    "       * niemodyfikowanie Pythona systemowego\n",
    "   * powtarzalność instalacji\n",
    "   * przewidywalność działania oprogamowania - pakiety mogą wpływać na działanie innych pakietów\n",
    "   \n",
    "* jakie mamy narzędzia?\n",
    "   * wbudowane w Pythona - `pip` i `venv`\n",
    "   * ładne opakowania do powyższych - `virtualenvwrapper`, a przede wszystkim `pipenv`\n",
    "   \n",
    "* dobre praktyki:\n",
    "   * używać środowisk wirtualnych, **zawsze**!"
   ]
  },
  {
   "cell_type": "markdown",
   "metadata": {
    "slideshow": {
     "slide_type": "slide"
    }
   },
   "source": [
    "Koniec części 1 :)"
   ]
  }
 ],
 "metadata": {
  "celltoolbar": "Slideshow",
  "kernelspec": {
   "display_name": "Python 3",
   "language": "python",
   "name": "python3"
  },
  "language_info": {
   "codemirror_mode": {
    "name": "ipython",
    "version": 3
   },
   "file_extension": ".py",
   "mimetype": "text/x-python",
   "name": "python",
   "nbconvert_exporter": "python",
   "pygments_lexer": "ipython3",
   "version": "3.7.1"
  }
 },
 "nbformat": 4,
 "nbformat_minor": 2
}
