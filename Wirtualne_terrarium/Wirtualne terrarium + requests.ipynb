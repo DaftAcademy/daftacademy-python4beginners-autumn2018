{
 "cells": [
  {
   "cell_type": "markdown",
   "metadata": {
    "slideshow": {
     "slide_type": "slide"
    }
   },
   "source": [
    "# Wirtualne terrarium\n",
    "\n",
    "### Joanna Tustanowska\n",
    "### 27.11.2018, Python4Beginners"
   ]
  },
  {
   "cell_type": "markdown",
   "metadata": {
    "slideshow": {
     "slide_type": "notes"
    }
   },
   "source": [
    "**Plan na dziś**\n",
    "\n",
    "**1. Jak zarządzać swoją instalacją Pythona i nie zwariować**\n",
    "    * dlaczego powinniśmy to robić\n",
    "    * jakie mamy narzędzia i jak działają\n",
    "    * dobre praktyki\n",
    "    \n",
    "**2. Biblioteka requests - HTTP i API w Pythonie**\n",
    "    * protokół HTTP (co to jest protokół i co to jest HTTP)\n",
    "    * JSON API\n",
    "    * jak wypełnić formularz w pythonie?\n",
    "    * co robić, gdy potrzebne jest zalogowanie się?\n",
    "    * do poczytania (scrapy, httpie/postman/curl, więcej o API design)\n",
    "    \n"
   ]
  },
  {
   "cell_type": "markdown",
   "metadata": {
    "slideshow": {
     "slide_type": "slide"
    }
   },
   "source": [
    "# Część 1: \n",
    "# Jak zarządzać swoją instalacją Pythona i nie zwariować\n"
   ]
  },
  {
   "cell_type": "markdown",
   "metadata": {
    "slideshow": {
     "slide_type": "slide"
    }
   },
   "source": [
    "## Wstęp - gdzie mieszka Python?\n",
    "\n",
    "Przykład - domyślna instalacja Pythona na Linuksie. To tylko niektóre pliki.\n",
    "\n",
    "```console\n",
    "$ which python\n",
    "/bin/python\n",
    "```\n",
    "\n",
    "```console\n",
    "$ ls /usr/lib/python3.7\n",
    "-rw-r--r--  1 root root 5,5K 10-22 12:41 abc.py\n",
    "-rwxr-xr-x  1 root root  20K 10-22 12:41 base64.py\n",
    "...\n",
    "drwxr-xr-x 88 root root 4,0K 11-16 15:26 site-packages\n",
    "...\n",
    "```\n",
    "\n",
    "* `site-packages` to katalog, do którego trafiają zewnętrzne pakiety Pythona\n"
   ]
  },
  {
   "cell_type": "markdown",
   "metadata": {
    "slideshow": {
     "slide_type": "skip"
    }
   },
   "source": [
    "Windows & Mac"
   ]
  },
  {
   "cell_type": "markdown",
   "metadata": {
    "slideshow": {
     "slide_type": "slide"
    }
   },
   "source": [
    "## `pip` - narzędzie do instalacji pakietów\n",
    "\n",
    "`pip` - narzędzie dystrybuowane razem z Pythonem (od wersji 3.4)\n",
    "\n",
    "`$ pip install [nazwa pakietu]`  / można też: `$ python -m pip install [nazwa pakietu]`\n",
    "\n",
    "np. `pip install maya>0.4.3` \n",
    "\n",
    "Zainstaluje pakiet w podanej wersji (lub najnowszy) oraz jego zależności.\n",
    "\n",
    "Instalacja do `site-packages` użytkownika (nie wymaga uprawnień administratora):\n",
    "\n",
    "`$ pip install --user [nazwa paczki]`\n"
   ]
  },
  {
   "cell_type": "markdown",
   "metadata": {
    "slideshow": {
     "slide_type": "slide"
    }
   },
   "source": [
    "\n",
    "### Odinstalowanie pakietu\n",
    "\n",
    "`$ pip uninstall [nazwa pakietu]`\n",
    "\n",
    "Odinstaluje pakiet, pozostawi jego zależności."
   ]
  },
  {
   "cell_type": "markdown",
   "metadata": {
    "slideshow": {
     "slide_type": "slide"
    }
   },
   "source": [
    "\n",
    "### Lista zainstalowanych pakietów\n",
    "\n",
    "```console\n",
    "$ pip freeze\n",
    "dateparser==0.7.0\n",
    "humanize==0.5.1\n",
    "pendulum==1.5.1\n",
    "python-dateutil==2.7.5\n",
    "[...]\n",
    "```\n",
    "\n",
    "`pip freeze > requirements.txt`\n",
    "\n",
    "### Instalacja z requirements.txt\n",
    "\n",
    "`$ pip install -r requirements.txt`\n"
   ]
  },
  {
   "cell_type": "markdown",
   "metadata": {
    "slideshow": {
     "slide_type": "slide"
    }
   },
   "source": [
    "### Wyszukiwanie pakietów w (domyślnie w PyPI https://pypi.org/)\n",
    "\n",
    "`$ pip search [nazwa pakietu]`\n",
    "\n",
    "### Inne cechy\n",
    "\n",
    "* `pip` zapisuje pobrane pakiety w cache'u, dla szybszej ponownej instalacji\n",
    "* `pip check` - sprawdzi, czy w środowisku zainstalowane są wszystkie wymagane zależności, oraz czy nie ma konfliktów (np. pakiet A wymaga pakietu C w wersji <1.0, zaś pakiet B wymaga pakietu C w wersji >1.0)\n",
    "* Dokumentacja `pip` do poczytania: https://pip.pypa.io/en/stable/user_guide/\n"
   ]
  },
  {
   "cell_type": "markdown",
   "metadata": {
    "slideshow": {
     "slide_type": "slide"
    }
   },
   "source": [
    "## Nadchodzą problemy...\n",
    "\n",
    "* W środowisku Pythona możemy mieć tylko jedną wersję danego pakietu, co może rodzić konflikty zależności:\n",
    "    * np. pracujemy nad swoim projektem wykorzystującym najnowszą wersję pakietu A\n",
    "    * i jednocześnie chcemy uruchomić projekt, w którym wymagana jest starsza wersja pakietu A.\n",
    "* Na Linuksie i OSX Python jest używany przez system operacyjny. Pakiety (lub ich wersje), które doinstalujemy w głównym katalogu mogą zdestabilizować narzędzia systemowe...\n",
    "* ...i odwrotnie, przy aktualizacji system może nam nadpisać wersje pakietów\n",
    "* Możemy mieć problem z uporządkowaniem wymagań naszego projektu -- a chcielibyśmy móc uruchomić go nie tylko na naszym komputerze."
   ]
  },
  {
   "cell_type": "markdown",
   "metadata": {
    "slideshow": {
     "slide_type": "notes"
    }
   },
   "source": [
    "### Pytania do publiczności:\n",
    "    \n",
    "* (linux) czy zawsze potrzebujemy praw administratora (roota), żeby doinstalować pakiety do systemowego Pythona?\n",
    "* (all) czy posprzątam swoje środowisko, jeśli odpalę `pip uninstall` dla każdego pakietu, który zainstalowałam przez `pip install`?\n",
    "* (linux) czy mogę coś zepsuć wywołując `sudo pip install [paczka]`?\n",
    "* (all) jak zainstalować pakiet A w wersji NIE NOWSZEJ niż 2.1?"
   ]
  },
  {
   "cell_type": "markdown",
   "metadata": {
    "slideshow": {
     "slide_type": "slide"
    }
   },
   "source": [
    "## Środowisko wirtualne / virtual environment\n",
    "\n",
    "* Kopia środowiska Pythona, tworzona na żądanie\n",
    "   * binarka `python`\n",
    "   * biblioteka standardowa\n",
    "   * `pip` + skrypty do aktywacji i dezaktywacji środowiska\n",
    "   * instalujemy tylko pakiety, których potrzebujemy w konkretnym projekcie\n",
    "\n",
    "* Izolacja od pozostałych środowisk :+1:"
   ]
  },
  {
   "cell_type": "markdown",
   "metadata": {
    "slideshow": {
     "slide_type": "slide"
    }
   },
   "source": [
    "### Sposób użycia - moduł `venv`\n",
    "\n",
    "```console\n",
    "$ python -m venv some/path/to/some_project_venv\n",
    "```\n",
    "\n",
    "Utworzy środowisko w zadanym katalogu."
   ]
  },
  {
   "cell_type": "markdown",
   "metadata": {
    "slideshow": {
     "slide_type": "slide"
    }
   },
   "source": [
    "```console\n",
    "$ ls some_project_venv\n",
    "bin  include  lib  lib64\n",
    "\n",
    "$ ls -l some_project_venv/bin\n",
    "-rw-r--r-- 1 asia asia 2248 11-25 22:05 activate\n",
    "-rwxr-xr-x 1 asia asia  257 11-25 22:05 pip\n",
    "lrwxrwxrwx 1 asia asia   11 11-25 22:05 python -> /bin/python\n",
    "[...]\n",
    "\n",
    "$ ls some_project_venv/lib/Python3.7\n",
    "site-packages\n",
    "```"
   ]
  },
  {
   "cell_type": "markdown",
   "metadata": {
    "slideshow": {
     "slide_type": "slide"
    }
   },
   "source": [
    "### Aktywacja środowiska - skrypt shellowy `activate`\n",
    "\n",
    "\n",
    "Platform  \t|Shell \t|Command to activate virtual environment\n",
    "---------------|----|-----------------------------------------\n",
    "Posix \t|bash/zsh \t|`$ source <venv>/bin/activate`\n",
    "  |  \tfish \t|`$ . <venv>/bin/activate.fish`\n",
    "  |  \tcsh/tcsh \t|`$ source <venv>/bin/activate.csh`\n",
    "Windows \t|cmd.exe \t|`C:\\> <venv>\\Scripts\\activate.bat`\n",
    "  |  \tPowerShell \t|`PS C:\\> <venv>\\Scripts\\Activate.ps1`\n",
    "\n",
    "https://docs.python.org/3/library/venv.html#creating-virtual-environments"
   ]
  },
  {
   "cell_type": "markdown",
   "metadata": {
    "slideshow": {
     "slide_type": "slide"
    }
   },
   "source": [
    "### Jak to działa?\n",
    "\n",
    "Zmiany w bieżącej sesji terminala:\n",
    "\n",
    "* modyfikacja *zmiennej środowiskowej* `PATH` - Skierowanie na `pythona`, `pip`a i inne pliki wykonywalne pod nowym adresem\n",
    "* ustawienie zmiennej środowiskowej `VIRTUAL_ENV` - po uruchomieniu Python wie, skąd ładować importowane pakiety, a pip wie, gdzie instalować\n",
    "* stworzenie komendy (funkcji w shellu) `deactivate`\n"
   ]
  },
  {
   "cell_type": "markdown",
   "metadata": {
    "slideshow": {
     "slide_type": "notes"
    }
   },
   "source": [
    "### Zmienne środowiskowe\n",
    "\n",
    "Różne nazwane wartości, z których korzystają procesy uruchamiane w systemie operacyjnym. Gdy używamy terminala (shella=powłoki), możemy zmodyfikować zmienne środowiskowe tak, by wpłynąć na działanie programu, który za chwilę w tym shellu uruchomimy. Ze zmiennych środowiskowych korzysta zarówno Windows, Linuksy, jak i OSX.\n",
    "\n",
    "Przykłady:\n",
    "\n",
    "* `HOME` - adres katalogu domowego bieżącego użytkownika\n",
    "* `USER` - nazwa bieżącego użytkownika\n",
    "* `PATH` - lista katalogów, w których shell będzie szukał pliku wykonywalnego, gdy wpiszemy jakąś komendę bez podania pełnej ścieżki. Np. `python` :-)\n"
   ]
  },
  {
   "cell_type": "markdown",
   "metadata": {
    "slideshow": {
     "slide_type": "slide"
    }
   },
   "source": [
    "### Przykład\n",
    "\n",
    "```bash\n",
    "# przed aktywacją virtual enva\n",
    "$ echo $PATH\n",
    "/home/asia/.local/bin:/home/asia/bin:/usr/local/bin:/usr/bin:/bin\n",
    "$ which python\n",
    "/bin/python\n",
    "$ source some_project_venv/bin/activate\n",
    "```"
   ]
  },
  {
   "cell_type": "markdown",
   "metadata": {
    "slideshow": {
     "slide_type": "slide"
    }
   },
   "source": [
    "### Przykład c.d.\n",
    "\n",
    "```bash\n",
    "# po aktywacji\n",
    "(some_project_venv) $ echo $PATH\n",
    "/home/asia/some_project_venv/bin:/home/asia/.local/bin:/home/asia/bin:/usr/local/bin:/usr/bin:/bin\n",
    "(some_project_venv) $ which python\n",
    "/home/asia/some_project_venv/bin/python\n",
    "(some_project_venv) $ echo $VIRTUAL_ENV\n",
    "/home/asia/some_project_venv\n",
    "\n",
    "(some_project_venv) $ deactivate\n",
    "$ which python\n",
    "/bin/python\n",
    "```\n"
   ]
  },
  {
   "cell_type": "markdown",
   "metadata": {
    "slideshow": {
     "slide_type": "slide"
    }
   },
   "source": [
    "## Jak tego używać? Przykład 1\n",
    "\n",
    "Środowisko wirtualne w katalogu projektu:\n",
    "\n",
    "* w katalogu projektu (powiedzmy `my_project`) odpalam `python -m venv env_my_project`\n",
    "* [jeśli używam `git`a, wpisuję katalog `env_my_project` do pliku `.gitignore`]\n",
    "* aktywuję środowisko `source env_my_project/bin/activate` (za każdym razem, gdy w nowym terminalu uruchamiam pliki projektu)\n",
    "* instaluję potrzebne pakiety (to tylko raz)\n",
    "* gdy projekt działa, zapisuję jego wymagania w pliku requirements: `pip freeze > requirements.txt`. Przyda się, gdy będę budować środowisko od nowa (`pip install -r requirements.txt`)\n",
    "* gdy kończę pracę nad projektem i nie chcę zamykać okna terminala, dezaktywuję środowisko poleceniem `deactivate`\n",
    "   "
   ]
  },
  {
   "cell_type": "markdown",
   "metadata": {
    "slideshow": {
     "slide_type": "notes"
    }
   },
   "source": [
    "### Pytania do publiczności\n",
    "\n",
    "* czy mogę stworzyć środowisko wirtualne z wersją Pythona, której nie mam zainstalowanej w systemie?\n",
    "* czy jeśli zainstaluję jakiś pakiet w wirtualnym środowisku, to będzie on dostępny dla głównego, systemowego Pythona?\n",
    "* gdzie będzie 'widoczny' mój virtualenv, gdy go aktywuję?\n",
    "* co się stanie, gdy w terminalu skasuję zawartość zmiennej środowiskowej `PATH`, np. poleceniem `export PATH=\"\"`?"
   ]
  },
  {
   "cell_type": "code",
   "execution_count": null,
   "metadata": {
    "slideshow": {
     "slide_type": "slide"
    }
   },
   "outputs": [],
   "source": []
  },
  {
   "cell_type": "markdown",
   "metadata": {
    "slideshow": {
     "slide_type": "slide"
    }
   },
   "source": [
    "## Ile Pythonów zmieści się w jednym systemie?\n",
    "\n",
    "\n",
    "Wiele. Możemy mieć zainstalowanych kilka wersji Pythona (np. 2.7.x oraz 3.7.x), a nawet kilka dystrybucji tej samej wersji (Anaconda oraz oficjalny Python https://python.org ).\n",
    "\n"
   ]
  },
  {
   "cell_type": "markdown",
   "metadata": {
    "slideshow": {
     "slide_type": "fragment"
    }
   },
   "source": [
    "Zarządzanie wersjami Pythona - do poczytania https://github.com/pyenv/pyenv"
   ]
  },
  {
   "cell_type": "markdown",
   "metadata": {
    "slideshow": {
     "slide_type": "skip"
    }
   },
   "source": [
    "    1. gdzie mieszka :python:\n",
    "    2. co ma w środku\n",
    "    3. co można mu dodać\n",
    "    4. zarządzanie pakietami\n",
    "    5. problem\n",
    "    6. rozwiązanie - środowisko wirtualne - \n",
    "    7. co to jest virtualenv i jak to dział\n",
    "       python -m venv [name]\n",
    "       activateb\n",
    "       pip freeze\n",
    "       deactivate\n",
    "    8. pip install -r requirements.txt\n",
    "    9. dużo projektów, dużo środowisk wirtualnych - co z tym\n",
    "    10. pipenv \n",
    "         - łączy projekty z virtualenvami\n",
    "         - łatwa aktywacja/uruchomienie\n",
    "         - Pipfile\n",
    "         - zarządzanie zależnościami (Pipfile.lock) [not covered here]\n",
    "    11. virtualenvwrapper\n",
    "         \n",
    "    ---\n",
    "    * używajcie virtualenvów, choćby w najprostszej wersji\n",
    "        * czemu? (izolacje)\n",
    "        \n",
    "    "
   ]
  },
  {
   "cell_type": "markdown",
   "metadata": {
    "slideshow": {
     "slide_type": "slide"
    }
   },
   "source": [
    "# Część 2. Rozmówki ludzko-HTTP, czyli dogadaj się z serwerem za pomocą biblioteki `requests`"
   ]
  },
  {
   "cell_type": "code",
   "execution_count": null,
   "metadata": {
    "slideshow": {
     "slide_type": "skip"
    }
   },
   "outputs": [],
   "source": []
  },
  {
   "cell_type": "code",
   "execution_count": 1,
   "metadata": {
    "slideshow": {
     "slide_type": "slide"
    }
   },
   "outputs": [
    {
     "data": {
      "text/plain": [
       "<Response [200]>"
      ]
     },
     "execution_count": 1,
     "metadata": {},
     "output_type": "execute_result"
    }
   ],
   "source": [
    "import requests\n",
    "\n",
    "requests.get('https://google.com')"
   ]
  },
  {
   "cell_type": "markdown",
   "metadata": {
    "slideshow": {
     "slide_type": "skip"
    }
   },
   "source": [
    "----- \n",
    "requests\n",
    "\n",
    "mkdir requests_fun; cd requests_fun\n",
    "pipenv install requests\n",
    "    \n",
    "    \n"
   ]
  }
 ],
 "metadata": {
  "celltoolbar": "Slideshow",
  "kernelspec": {
   "display_name": "Python 3",
   "language": "python",
   "name": "python3"
  },
  "language_info": {
   "codemirror_mode": {
    "name": "ipython",
    "version": 3
   },
   "file_extension": ".py",
   "mimetype": "text/x-python",
   "name": "python",
   "nbconvert_exporter": "python",
   "pygments_lexer": "ipython3",
   "version": "3.7.1"
  }
 },
 "nbformat": 4,
 "nbformat_minor": 2
}
