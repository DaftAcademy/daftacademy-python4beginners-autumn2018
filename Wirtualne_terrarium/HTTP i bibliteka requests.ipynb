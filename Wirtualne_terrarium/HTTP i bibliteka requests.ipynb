{
 "cells": [
  {
   "cell_type": "markdown",
   "metadata": {
    "slideshow": {
     "slide_type": "slide"
    }
   },
   "source": [
    "# HTTP i biblioteka requests\n",
    "\n",
    "### Joanna Tustanowska\n",
    "### 27.11.2018, Python4Beginners"
   ]
  },
  {
   "cell_type": "markdown",
   "metadata": {
    "slideshow": {
     "slide_type": "skip"
    }
   },
   "source": [
    "**Plan na dziś**\n",
    "\n",
    "**1. Jak zarządzać swoją instalacją Pythona i nie zwariować**  [Wirtualne terrarium](Wirtualne terrarium.ipynb)\n",
    "    * dlaczego powinniśmy to robić\n",
    "    * jakie mamy narzędzia i jak działają\n",
    "    * dobre praktyki\n",
    "    \n",
    "**2. Biblioteka requests - HTTP i API w Pythonie** `            <-------`\n",
    "    * protokół HTTP (co to jest protokół i co to jest HTTP)\n",
    "    * JSON API\n",
    "    * jak wypełnić formularz w pythonie?\n",
    "    * co robić, gdy potrzebne jest zalogowanie się?\n",
    "    * do poczytania (scrapy, httpie/postman/curl, więcej o API design)\n",
    "    \n"
   ]
  },
  {
   "cell_type": "markdown",
   "metadata": {
    "slideshow": {
     "slide_type": "slide"
    }
   },
   "source": [
    "# Część 2:\n",
    "# HTTP i requests, czyli dogadaj się z serwerem"
   ]
  },
  {
   "cell_type": "markdown",
   "metadata": {
    "slideshow": {
     "slide_type": "slide"
    }
   },
   "source": [
    "### Jak rozmawiają ze sobą maszyny w sieci?\n",
    "\n",
    "* Żeby się dogadać, potrzebują ustalonego zestawu komunikatów i odpowiedzi, czyli **protokołu komunikacji**\n",
    "* Protokoły mogą specyfikować komunikację na różnych warstwach, np. sprzętu, systemu operacyjnego, aplikacji\n",
    "* Najpopularniejszym z protokołów aplikacyjnych jest właśnie **HTTP** (Hyper Text Transfer Protocol), czyli oficjalny protokół WWW "
   ]
  },
  {
   "cell_type": "markdown",
   "metadata": {
    "slideshow": {
     "slide_type": "skip"
    }
   },
   "source": [
    "* Komunikacja na wszystkich warstwach (sprzętowej, sieciowej, aplikacyjnych) odbywa się jednocześnie.\n",
    "* Więcej o różnych protokołach sieciowych: https://en.wikipedia.org/wiki/List_of_network_protocols_(OSI_model)"
   ]
  },
  {
   "cell_type": "markdown",
   "metadata": {
    "slideshow": {
     "slide_type": "slide"
    }
   },
   "source": [
    "### Kto używa HTTP?\n",
    "\n",
    "* np. nasza przeglądarka WWW komunikuje się z serwerami po HTTP\n",
    "* większość aplikacji mobilnych, które 'coś robią' 'w chmurze' używa HTTP\n",
    "* aplikacje i usługi sieciowe rozmawiają ze sobą nawzajem, często po HTTP\n"
   ]
  },
  {
   "cell_type": "markdown",
   "metadata": {
    "slideshow": {
     "slide_type": "slide"
    }
   },
   "source": [
    "### 'Surowe' zapytanie HTTP  do httpbin.org/ip\n",
    "```http\n",
    "GET /ip HTTP/1.1\n",
    "Accept: */*\n",
    "Host: httpbin.org\n",
    "User-Agent: HTTPie/1.0.0\n",
    "```\n",
    "```http\n",
    "HTTP/1.1 200 OK\n",
    "Content-Length: 33\n",
    "Content-Type: application/json\n",
    "Date: Mon, 26 Nov 2018 09:40:45 GMT\n",
    "Server: gunicorn/19.9.0\n",
    "{\n",
    "    \"origin\": \"31.214.137.130\"\n",
    "}\n",
    "```"
   ]
  },
  {
   "cell_type": "markdown",
   "metadata": {
    "slideshow": {
     "slide_type": "notes"
    }
   },
   "source": [
    "### Schemat komunikacji - żądanie\n",
    "\n",
    "`GET /ip HTTP/1.1` - podajemy **metodę**, URI i wersję protokołu (\"poproszę o zasób pod adresem `/ip`, rozmawiamy w HTTP/1.1\").\n",
    "\n",
    "**Nagłówki**  \n",
    "`Accept: */*` - akceptuję wszystkie typy danych, np. `text/plain`, `application/json`  \n",
    "`Accept-Encoding: gzip, deflate` - umiem sobie rozpakować, co mi serwer przyśle   \n",
    "`Connection: keep-alive` - niech serwer nie zamyka połączenia ze mną od razu po obsłużeniu zapytania, zamierzam wrócić  \n",
    "`Host: httpbin.org`  \n",
    "`User-Agent: HTTPie/1.0.0` - a przeglądarka może przedstawić się np. tak: `Mozilla/5.0 (X11; Linux x86_64; rv:63.0) Gecko/20100101 Firefox/63.0`  \n",
    "...ciasteczka, inne nagłówki, np. autoryzacja\n",
    "\n",
    "**Dane**\n",
    "\n",
    "W metodzie GET nie przesyłamy dodatkowych danych."
   ]
  },
  {
   "cell_type": "markdown",
   "metadata": {
    "slideshow": {
     "slide_type": "notes"
    }
   },
   "source": [
    "#### Odpowiedź HTTP - cd.\n",
    "\n",
    "**Nagłówki**  \n",
    "`[...]`  \n",
    "`Content-Length: 33` - rozmiar odesłanych danych  \n",
    "`Content-Type: application/json` - typ danych, tym razem jest to `JSON`  \n",
    "`Date: Mon, 26 Nov 2018 09:40:45 GMT`  \n",
    "`Server: gunicorn/19.9.0`  - serwer  \n",
    "`Via: 1.1 vegur` - proxy  \n",
    "\n",
    "**Dane!**\n",
    "```json\n",
    "{\n",
    "    \"origin\": \"31.214.137.130\"\n",
    "}\n",
    "```"
   ]
  },
  {
   "cell_type": "markdown",
   "metadata": {
    "slideshow": {
     "slide_type": "slide"
    }
   },
   "source": [
    "### Co można zrobić po HTTP?\n",
    "\n",
    "* można pobrać zasób, np. stronę www lub inne dane (medota **GET**)\n",
    "* można wysłać zasób, np. dane z formularza (**POST**)\n",
    "* można usunąć lub zaktualizować jakiś zasób (**DELETE**, **PUT**, **PATCH**)\n",
    "* można ustalić, które z powyższych czynności (*metod*) są dostępne (**OPTIONS**)\n",
    "* format danych: dowolny, byle dało się je przesłać jako bajty a potem zidentyfikować (nagłówek `Content-type`), np. HTML, zwykły tekst, JSON, pliki binarne"
   ]
  },
  {
   "cell_type": "markdown",
   "metadata": {
    "slideshow": {
     "slide_type": "slide"
    }
   },
   "source": [
    "### Cechy protokołu HTTP\n",
    "\n",
    "* komunikacja w architekturze klient-serwer, np. nasza przeglądarka->serwer WWW\n",
    "* protokół bezstanowy, czyli po obsłużeniu naszego żądania serwer 'zapomina' o nas, nie przechowuje kontekstu całej komunikacji\n",
    "    * obejścia: ciasteczka i ich obsługa po stronie aplikacji webowej\n",
    "    \n",
    "**ciasteczko** - dostajemy je w prezencie razem z odpowiedzią HTTP, możemy je potem przesyłać razem z naszymi zapytaniami. Jest to nasz \"identyfikator\" dla serwera."
   ]
  },
  {
   "cell_type": "markdown",
   "metadata": {
    "slideshow": {
     "slide_type": "slide"
    }
   },
   "source": [
    "### Schemat komunikacji - odpowiedź\n",
    "\n",
    "`HTTP/1.1 200 OK` - wersja protokołu i kod odpowiedzi + opis tekstowy (*HTTP status code*)  \n",
    "\n",
    "**Najważniejsze kody odpowiedzi**\n",
    "\n",
    "* `200` (`OK`), `201` (`Created`)- 👍\n",
    "* `301` (`Moved permanently`) - jesteśmy przekierowywani\n",
    "* `400` (`Bad request`) - wysłaliśmy niepoprawnie sformatowane dane\n",
    "* `401` (`Unauthorized`) - najpierw trzeba się uwierzytelnić (lub wysłaliśmy niepoprawne dane logowania)\n",
    "* `403` (`Forbidden`) - nie mamy uprawnień do tego zasobu\n",
    "* `404` (`Not found`) - nie ma takiego zasobu\n",
    "* `5XX` - grupa kodów odpowiedzi wskazujących na błąd po stronie serwera\n",
    " "
   ]
  },
  {
   "cell_type": "markdown",
   "metadata": {
    "slideshow": {
     "slide_type": "slide"
    }
   },
   "source": [
    "## HTTP w Pythonie!\n",
    "\n",
    "* rekomendowana biblioteka to `requests`: http://docs.python-requests.org/en/master/\n",
    "* stwórzmy sobie projekt do naszych eksperymentów: `$ mkdir http_fun`\n",
    "* stwórzmy sobie środowisko wirtualne:\n",
    "   ```console\n",
    "$ cd http_fun\n",
    "$ pipenv install requests\n",
    "[...]\n",
    "$ pipenv shell\n",
    "   ```"
   ]
  },
  {
   "cell_type": "markdown",
   "metadata": {
    "slideshow": {
     "slide_type": "slide"
    }
   },
   "source": [
    "### GET\n",
    "\n",
    "Stwórzmy sobie plik w katalogu naszego projektu, np. `first_tests.py`.\n",
    "\n",
    "Tak jak przed chwilą, pobierzmy sobie nasz adres IP z `https://httpbin.org/ip`:"
   ]
  },
  {
   "cell_type": "code",
   "execution_count": 2,
   "metadata": {
    "slideshow": {
     "slide_type": "fragment"
    }
   },
   "outputs": [
    {
     "name": "stdout",
     "output_type": "stream",
     "text": [
      "200\n",
      "{'Connection': 'keep-alive', 'Server': 'gunicorn/19.9.0', 'Date': 'Mon, 26 Nov 2018 23:43:34 GMT', 'Content-Type': 'application/json', 'Content-Length': '33', 'Access-Control-Allow-Origin': '*', 'Access-Control-Allow-Credentials': 'true', 'Via': '1.1 vegur'}\n",
      "{\n",
      "  \"origin\": \"87.206.111.196\"\n",
      "}\n",
      "\n",
      "{'origin': '87.206.111.196'}\n"
     ]
    }
   ],
   "source": [
    "import requests\n",
    "\n",
    "response = requests.get('https://httpbin.org/ip')\n",
    "\n",
    "print(response.status_code)\n",
    "print(response.headers)\n",
    "print(response.text)   # tekst\n",
    "print(response.json()) # udogodnienie - requests przetworzy nam JSONa do Pythonowych struktur danych"
   ]
  },
  {
   "cell_type": "code",
   "execution_count": 15,
   "metadata": {
    "slideshow": {
     "slide_type": "slide"
    }
   },
   "outputs": [
    {
     "name": "stdout",
     "output_type": "stream",
     "text": [
      "<!doctype html><html itemscope=\"\" itemtype=\"http://schema.org/WebPage\" lang=\"pl\"><head><meta content=\"text/html; charset=UTF-8\" http-equiv=\"Content-Type\"><meta content=\"/images/branding/googleg/1x/googleg_standard_color_128dp.png\" itemprop=\"image\"><title>Google</title><script nonce=\"je+qwiW8c75epqgikJwnsA==\">(function(){window.google={kEI:'q837W7uhLaXrrgTS-ITwBA',kEXPI:'0,1353747,57,1957,1017,1406,697,528,730,142,477,131,229,49,771,30,524,27,181,94,357,44,241,193,133,170,167,2336191,199,32,45,23 [...]\n"
     ]
    }
   ],
   "source": [
    "# Stronę internetową też sobie możemy 'otworzyć' (tutaj fragmencik)\n",
    "print(requests.get('https://google.com').text[:500], '[...]')"
   ]
  },
  {
   "cell_type": "code",
   "execution_count": 23,
   "metadata": {
    "slideshow": {
     "slide_type": "slide"
    }
   },
   "outputs": [
    {
     "data": {
      "text/plain": [
       "{'args': {'other_param': '12345', 'param_1': 'HELLO'},\n",
       " 'headers': {'Accept': '*/*',\n",
       "  'Accept-Encoding': 'gzip, deflate',\n",
       "  'Connection': 'close',\n",
       "  'Host': 'httpbin.org',\n",
       "  'User-Agent': 'python-requests/2.20.1'},\n",
       " 'origin': '31.214.137.130',\n",
       " 'url': 'https://httpbin.org/get?param_1=HELLO&other_param=12345'}"
      ]
     },
     "execution_count": 23,
     "metadata": {},
     "output_type": "execute_result"
    }
   ],
   "source": [
    "# W zapytaniach GET możemy przekazywać parametry, tzw. query string\n",
    "# parametry te wprowadzamy do URI, po znaku '?', oddzielone '&'\n",
    "\n",
    "response = requests.get('https://httpbin.org/get?param_1=HELLO&other_param=12345')\n",
    "\n",
    "# Usługa HTTPBin odsyła nam odczytane parametry w body odpowiedzi:\n",
    "\n",
    "response.json()"
   ]
  },
  {
   "cell_type": "code",
   "execution_count": 24,
   "metadata": {
    "slideshow": {
     "slide_type": "slide"
    }
   },
   "outputs": [
    {
     "name": "stdout",
     "output_type": "stream",
     "text": [
      "https://httpbin.org/get?param_1=HELLO&other_param=12345\n"
     ]
    },
    {
     "data": {
      "text/plain": [
       "{'args': {'other_param': '12345', 'param_1': 'HELLO'},\n",
       " 'headers': {'Accept': '*/*',\n",
       "  'Accept-Encoding': 'gzip, deflate',\n",
       "  'Connection': 'close',\n",
       "  'Host': 'httpbin.org',\n",
       "  'User-Agent': 'python-requests/2.20.1'},\n",
       " 'origin': '31.214.137.130',\n",
       " 'url': 'https://httpbin.org/get?param_1=HELLO&other_param=12345'}"
      ]
     },
     "execution_count": 24,
     "metadata": {},
     "output_type": "execute_result"
    }
   ],
   "source": [
    "# powyższy kod był brzydki, absolutnie nie musimy samodzielnie serializować parametrów GET\n",
    "\n",
    "params = {\n",
    "    'param_1': 'HELLO',\n",
    "    'other_param': 12345\n",
    "}\n",
    "\n",
    "response = requests.get('https://httpbin.org/get', params=params)\n",
    "print(response.url)\n",
    "response.json()"
   ]
  },
  {
   "cell_type": "code",
   "execution_count": 17,
   "metadata": {
    "slideshow": {
     "slide_type": "slide"
    }
   },
   "outputs": [
    {
     "name": "stdout",
     "output_type": "stream",
     "text": [
      "Rates: [{'no': '220/A/NBP/2018', 'effectiveDate': '2018-11-13', 'mid': 4.9325}, {'no': '221/A/NBP/2018', 'effectiveDate': '2018-11-14', 'mid': 4.9424}, {'no': '222/A/NBP/2018', 'effectiveDate': '2018-11-15', 'mid': 4.8686}, {'no': '223/A/NBP/2018', 'effectiveDate': '2018-11-16', 'mid': 4.8468}, {'no': '224/A/NBP/2018', 'effectiveDate': '2018-11-19', 'mid': 4.8701}, {'no': '225/A/NBP/2018', 'effectiveDate': '2018-11-20', 'mid': 4.8643}, {'no': '226/A/NBP/2018', 'effectiveDate': '2018-11-21', 'mid': 4.8353}, {'no': '227/A/NBP/2018', 'effectiveDate': '2018-11-22', 'mid': 4.83}, {'no': '228/A/NBP/2018', 'effectiveDate': '2018-11-23', 'mid': 4.8542}, {'no': '229/A/NBP/2018', 'effectiveDate': '2018-11-26', 'mid': 4.8392}]\n"
     ]
    }
   ],
   "source": [
    "# Coś pożytecznego\n",
    "\n",
    "response = requests.get('http://api.nbp.pl/api/exchangerates/rates/a/gbp/last/10/?format=json')\n",
    "\n",
    "rates = response.json()['rates']\n",
    "print(f'Rates: {rates}')\n"
   ]
  },
  {
   "cell_type": "code",
   "execution_count": 41,
   "metadata": {
    "slideshow": {
     "slide_type": "slide"
    }
   },
   "outputs": [
    {
     "name": "stdout",
     "output_type": "stream",
     "text": [
      "[{'breeds': [], 'categories': [], 'id': 'MTY4MTcwMw', 'url': 'https://25.media.tumblr.com/tumblr_mbfhgb3bFF1r2rj8po1_500.jpg'}]\n"
     ]
    },
    {
     "data": {
      "image/jpeg": "[encoded data removed]",
      "text/plain": [
       "<IPython.core.display.Image object>"
      ]
     },
     "execution_count": 41,
     "metadata": {},
     "output_type": "execute_result"
    }
   ],
   "source": [
    "# coś jeszcze bardziej pożytecznego\n",
    "\n",
    "response = requests.get(\n",
    "    'https://api.thecatapi.com/v1/images/search',\n",
    "    params=dict(format='json', order='RANDOM', limit=1),\n",
    "    headers={'x-api-key': 'DEMO-API-KEY'}\n",
    ")\n",
    "print(response.json())\n",
    "\n",
    "random_cat_url = response.json()[0]['url']\n",
    "img_response = requests.get(random_cat_url)\n",
    " \n",
    "from IPython.display import Image\n",
    "Image(img_response.content)\n"
   ]
  },
  {
   "cell_type": "markdown",
   "metadata": {
    "slideshow": {
     "slide_type": "slide"
    }
   },
   "source": [
    "### POST\n",
    "\n",
    "Tej metody używamy, by przesłać dane do serwera i stworzyć jakiś zasób. Każdy (szanujący się) formularz, jaki wypełniamy, wysyła dane metodą `POST`. \n",
    "\n",
    "Przeglądarka WWW zazwyczaj wysyła nasze dane jako `application/x-www-form-urlencoded` lub `multipart/form-data` (gdy przesyłamy załączniki).  \n",
    "Gdy używamy API JSON-owego, używamy wtedy `application/json`.  \n",
    "`requests` potrafi serializoać dane do różnych typów MIME. Więcej https://en.wikipedia.org/wiki/Media_type.\n"
   ]
  },
  {
   "cell_type": "code",
   "execution_count": 27,
   "metadata": {
    "slideshow": {
     "slide_type": "slide"
    }
   },
   "outputs": [
    {
     "data": {
      "text/plain": [
       "{'args': {},\n",
       " 'data': '',\n",
       " 'files': {},\n",
       " 'form': {'other_param': '12345', 'param_1': 'HI!'},\n",
       " 'headers': {'Accept': '*/*',\n",
       "  'Accept-Encoding': 'gzip, deflate',\n",
       "  'Connection': 'close',\n",
       "  'Content-Length': '31',\n",
       "  'Content-Type': 'application/x-www-form-urlencoded',\n",
       "  'Host': 'httpbin.org',\n",
       "  'User-Agent': 'python-requests/2.20.1'},\n",
       " 'json': None,\n",
       " 'origin': '31.214.137.130',\n",
       " 'url': 'https://httpbin.org/post'}"
      ]
     },
     "execution_count": 27,
     "metadata": {},
     "output_type": "execute_result"
    }
   ],
   "source": [
    "post_data = {\n",
    "    'param_1': 'HI!',\n",
    "    'other_param': 12345\n",
    "}\n",
    "\n",
    "# dane z formularza HTML\n",
    "response = requests.post(\n",
    "    'https://httpbin.org/post',\n",
    "    data=post_data\n",
    ")\n",
    "\n",
    "# HTTPBin odesłał informację, że otrzymał dane 'application/x-www-form-urlencoded'\n",
    "response.json()"
   ]
  },
  {
   "cell_type": "code",
   "execution_count": 29,
   "metadata": {
    "slideshow": {
     "slide_type": "slide"
    }
   },
   "outputs": [
    {
     "data": {
      "text/plain": [
       "{'args': {},\n",
       " 'data': '{\"param_1\": \"HI!\", \"other_param\": 12345}',\n",
       " 'files': {},\n",
       " 'form': {},\n",
       " 'headers': {'Accept': '*/*',\n",
       "  'Accept-Encoding': 'gzip, deflate',\n",
       "  'Connection': 'close',\n",
       "  'Content-Length': '40',\n",
       "  'Content-Type': 'application/json',\n",
       "  'Host': 'httpbin.org',\n",
       "  'User-Agent': 'python-requests/2.20.1'},\n",
       " 'json': {'other_param': 12345, 'param_1': 'HI!'},\n",
       " 'origin': '31.214.137.130',\n",
       " 'url': 'https://httpbin.org/post'}"
      ]
     },
     "execution_count": 29,
     "metadata": {},
     "output_type": "execute_result"
    }
   ],
   "source": [
    "# dane w JSONie\n",
    "response = requests.post(\n",
    "    'https://httpbin.org/post',\n",
    "    json=post_data\n",
    ")\n",
    "\n",
    "response.json()"
   ]
  },
  {
   "cell_type": "markdown",
   "metadata": {
    "slideshow": {
     "slide_type": "slide"
    }
   },
   "source": [
    "Więcej metod i informacji: http://docs.python-requests.org/en/master/user/quickstart/#make-a-request"
   ]
  },
  {
   "cell_type": "markdown",
   "metadata": {
    "slideshow": {
     "slide_type": "slide"
    }
   },
   "source": [
    "### A co jeśli trzeba być zalogowanym?\n",
    "\n",
    "Prosty przykład: `Basic Auth`\n",
    "\n",
    "Bardzo często API wymaga takiego formatu uwierzytelniania. Przesyłamy wtedy odpowiednio sformatowany nagłówek o nazwie `Authorization` (jego wartość to konkatenacja nazwy użytkownika, `':'` i hasła, razem zakodowane w base64). Łatwe?"
   ]
  },
  {
   "cell_type": "code",
   "execution_count": 3,
   "metadata": {
    "slideshow": {
     "slide_type": "slide"
    }
   },
   "outputs": [
    {
     "name": "stdout",
     "output_type": "stream",
     "text": [
      "401\n",
      "200\n"
     ]
    }
   ],
   "source": [
    "# Przykład Zapytanie na URL httpbin.org/basic-auth/asia/haslo wymaga \n",
    "# przesłania nagłówka autoryzacyjnego dla usera 'asia' i hasła 'haslo'\n",
    "\n",
    "# bez autoryzacji\n",
    "response = requests.get('https://httpbin.org/basic-auth/asia/haslo')\n",
    "print(response.status_code) # 401\n",
    "\n",
    "response = requests.get(\n",
    "    'https://httpbin.org/basic-auth/asia/haslo',\n",
    "    auth=('asia', 'haslo')\n",
    ")\n",
    "print(response.status_code) # 200"
   ]
  },
  {
   "cell_type": "markdown",
   "metadata": {
    "slideshow": {
     "slide_type": "slide"
    }
   },
   "source": [
    "### Sesje\n",
    "\n",
    "Czasem potrzebujemy mieć pod ręką ciasteczka, które odsyła nam serwer - na przykład zalogowaliśmy się do aplikacji internetowej przez formularz i chcielibyśmy pozostać zalogowani. Możemy też automatycznie ustawiać nagłówki.\n",
    "\n",
    "Obiekt sesji udostępnia te same metody HTTP co moduł requests."
   ]
  },
  {
   "cell_type": "code",
   "execution_count": 37,
   "metadata": {
    "slideshow": {
     "slide_type": "slide"
    }
   },
   "outputs": [
    {
     "name": "stdout",
     "output_type": "stream",
     "text": [
      "{\n",
      "  \"cookies\": {\n",
      "    \"sessioncookie\": \"123456789\"\n",
      "  }\n",
      "}\n",
      "\n",
      "{'User-Agent': 'python-requests/2.20.1', 'Accept-Encoding': 'gzip, deflate', 'Accept': '*/*', 'Connection': 'keep-alive', 'x-test': 'true', 'Cookie': 'sessioncookie=123456789'}\n"
     ]
    }
   ],
   "source": [
    "# za http://docs.python-requests.org/en/master/user/advanced/#session-objects\n",
    "s = requests.Session()\n",
    "\n",
    "# zawsze przesyłaj ten nagłówek\n",
    "s.headers.update({'x-test': 'true'})\n",
    "\n",
    "# ustawione ciasteczka zostaną zapisane w sesji\n",
    "s.get('https://httpbin.org/cookies/set/sessioncookie/123456789')\n",
    "\n",
    "r = s.get('https://httpbin.org/cookies')\n",
    "\n",
    "print(r.text)\n",
    "print(r.request.headers)"
   ]
  },
  {
   "cell_type": "markdown",
   "metadata": {
    "slideshow": {
     "slide_type": "slide"
    }
   },
   "source": [
    "## Podsumowanie\n",
    "\n",
    "* HTTP to protokół, w którym rozmawiają aplikacje webowe\n",
    "* `requests` to bardzo efektywne narzędzie\n",
    "   * do integracji z internetowymi API rożnego typu\n",
    "   * do automatyzacji zadań, których nie chce nam się wykonywac ręcznie:)\n",
    "* dalsza lektura:\n",
    "   * web scraping, np. https://scrapy.org/\n",
    "   * narzędzia do testowania API, np. https://www.getpostman.com\n",
    "   * narzędzia konsolowe do rozmawiania z API (cURL https://curl.haxx.se/, httpie https://httpie.org/)"
   ]
  }
 ],
 "metadata": {
  "celltoolbar": "Slideshow",
  "kernelspec": {
   "display_name": "Python 3",
   "language": "python",
   "name": "python3"
  },
  "language_info": {
   "codemirror_mode": {
    "name": "ipython",
    "version": 3
   },
   "file_extension": ".py",
   "mimetype": "text/x-python",
   "name": "python",
   "nbconvert_exporter": "python",
   "pygments_lexer": "ipython3",
   "version": "3.7.1"
  }
 },
 "nbformat": 4,
 "nbformat_minor": 2
}
